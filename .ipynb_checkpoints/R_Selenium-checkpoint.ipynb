{
 "cells": [
  {
   "cell_type": "code",
   "execution_count": 1,
   "id": "ee5f42e3",
   "metadata": {},
   "outputs": [],
   "source": [
    "#This Stack Requires:\n",
    "# 1. Docker\n",
    "# 2. Jupyter\n",
    "# 3. Selenium\n",
    "# 4. RSelenium\n",
    "\n",
    "#Practically, I wanted to create a predictor that links the year, the content, and the 3rd party views on youtube.\n",
    "#I wanted to practice selinum scraping in R, and this seemed a perfect example as this already has links\n"
   ]
  },
  {
   "cell_type": "code",
   "execution_count": 1,
   "id": "491f9e91",
   "metadata": {},
   "outputs": [],
   "source": [
    "#Start your Selinum Instance Now\n",
    "#docker run -d -p 4444:4444 --shm-size=\"2g\" selenium/standalone-chrome:4.1.2-20220131"
   ]
  },
  {
   "cell_type": "code",
   "execution_count": 45,
   "id": "29347ea0",
   "metadata": {},
   "outputs": [],
   "source": [
    "use_docker <- TRUE # Uses docker to pull and augment data, requires the Selenium Instance\n",
    "use_dev <- TRUE #Regenerates all values, rather than pulling from final values\n",
    "Fresh_Data <- TRUE\n",
    "Fresh_Computes <- TRUE\n",
    "Dev_Checks <- TRUE"
   ]
  },
  {
   "cell_type": "code",
   "execution_count": 4,
   "id": "95b1c112",
   "metadata": {},
   "outputs": [
    {
     "name": "stderr",
     "output_type": "stream",
     "text": [
      "also installing the dependencies 'xfun', 'glue', 'lifecycle', 'tidyselect', 'cli', 'gargle', 'vroom', 'knitr', 'broom', 'dplyr', 'dtplyr', 'googledrive', 'googlesheets4', 'ggplot2', 'haven', 'hms', 'jsonlite', 'lubridate', 'pillar', 'purrr', 'readr', 'reprex', 'rlang', 'rvest', 'tibble', 'tidyr', 'xml2'\n",
      "\n"
     ]
    },
    {
     "name": "stdout",
     "output_type": "stream",
     "text": [
      "\n",
      "  There are binary versions available but the source versions are later:\n",
      "              binary source needs_compilation\n",
      "xfun            0.22   0.29              TRUE\n",
      "glue           1.4.2  1.6.1              TRUE\n",
      "lifecycle      1.0.0  1.0.1             FALSE\n",
      "cli            2.5.0  3.1.1              TRUE\n",
      "gargle         1.1.0  1.2.0             FALSE\n",
      "vroom          1.4.0  1.5.7              TRUE\n",
      "knitr           1.33   1.37             FALSE\n",
      "broom          0.7.6 0.7.12             FALSE\n",
      "dplyr          1.0.6  1.0.7              TRUE\n",
      "dtplyr         1.1.0  1.2.1             FALSE\n",
      "googledrive    1.0.1  2.0.0             FALSE\n",
      "googlesheets4  0.3.0  1.0.0             FALSE\n",
      "ggplot2        3.3.3  3.3.5             FALSE\n",
      "haven          2.4.1  2.4.3              TRUE\n",
      "hms            1.0.0  1.1.1             FALSE\n",
      "jsonlite       1.7.2  1.7.3              TRUE\n",
      "lubridate     1.7.10  1.8.0              TRUE\n",
      "pillar         1.6.0  1.7.0             FALSE\n",
      "readr          1.4.0  2.1.2              TRUE\n",
      "reprex         2.0.0  2.0.1             FALSE\n",
      "rlang         0.4.11  1.0.1              TRUE\n",
      "rvest          1.0.0  1.0.2             FALSE\n",
      "tibble         3.1.1  3.1.6              TRUE\n",
      "tidyr          1.1.3  1.2.0              TRUE\n",
      "xml2           1.3.2  1.3.3              TRUE\n",
      "\n",
      "  Binaries will be installed\n",
      "package 'xfun' successfully unpacked and MD5 sums checked\n",
      "package 'glue' successfully unpacked and MD5 sums checked\n"
     ]
    },
    {
     "name": "stderr",
     "output_type": "stream",
     "text": [
      "Warning message:\n",
      "\"cannot remove prior installation of package 'glue'\"Warning message in file.copy(savedcopy, lib, recursive = TRUE):\n",
      "\"problem copying C:\\Users\\Aman\\anaconda3\\envs\\Test\\Lib\\R\\library\\00LOCK\\glue\\libs\\x64\\glue.dll to C:\\Users\\Aman\\anaconda3\\envs\\Test\\Lib\\R\\library\\glue\\libs\\x64\\glue.dll: Permission denied\"Warning message:\n",
      "\"restored 'glue'\""
     ]
    },
    {
     "name": "stdout",
     "output_type": "stream",
     "text": [
      "package 'tidyselect' successfully unpacked and MD5 sums checked\n"
     ]
    },
    {
     "name": "stderr",
     "output_type": "stream",
     "text": [
      "Warning message:\n",
      "\"cannot remove prior installation of package 'tidyselect'\"Warning message in file.copy(savedcopy, lib, recursive = TRUE):\n",
      "\"problem copying C:\\Users\\Aman\\anaconda3\\envs\\Test\\Lib\\R\\library\\00LOCK\\tidyselect\\libs\\x64\\tidyselect.dll to C:\\Users\\Aman\\anaconda3\\envs\\Test\\Lib\\R\\library\\tidyselect\\libs\\x64\\tidyselect.dll: Permission denied\"Warning message:\n",
      "\"restored 'tidyselect'\""
     ]
    },
    {
     "name": "stdout",
     "output_type": "stream",
     "text": [
      "package 'cli' successfully unpacked and MD5 sums checked\n",
      "package 'vroom' successfully unpacked and MD5 sums checked\n",
      "package 'dplyr' successfully unpacked and MD5 sums checked\n"
     ]
    },
    {
     "name": "stderr",
     "output_type": "stream",
     "text": [
      "Warning message:\n",
      "\"cannot remove prior installation of package 'dplyr'\"Warning message in file.copy(savedcopy, lib, recursive = TRUE):\n",
      "\"problem copying C:\\Users\\Aman\\anaconda3\\envs\\Test\\Lib\\R\\library\\00LOCK\\dplyr\\libs\\x64\\dplyr.dll to C:\\Users\\Aman\\anaconda3\\envs\\Test\\Lib\\R\\library\\dplyr\\libs\\x64\\dplyr.dll: Permission denied\"Warning message:\n",
      "\"restored 'dplyr'\""
     ]
    },
    {
     "name": "stdout",
     "output_type": "stream",
     "text": [
      "package 'haven' successfully unpacked and MD5 sums checked\n"
     ]
    },
    {
     "name": "stderr",
     "output_type": "stream",
     "text": [
      "Warning message:\n",
      "\"cannot remove prior installation of package 'haven'\"Warning message in file.copy(savedcopy, lib, recursive = TRUE):\n",
      "\"problem copying C:\\Users\\Aman\\anaconda3\\envs\\Test\\Lib\\R\\library\\00LOCK\\haven\\libs\\x64\\haven.dll to C:\\Users\\Aman\\anaconda3\\envs\\Test\\Lib\\R\\library\\haven\\libs\\x64\\haven.dll: Permission denied\"Warning message:\n",
      "\"restored 'haven'\""
     ]
    },
    {
     "name": "stdout",
     "output_type": "stream",
     "text": [
      "package 'jsonlite' successfully unpacked and MD5 sums checked\n"
     ]
    },
    {
     "name": "stderr",
     "output_type": "stream",
     "text": [
      "Warning message:\n",
      "\"cannot remove prior installation of package 'jsonlite'\"Warning message in file.copy(savedcopy, lib, recursive = TRUE):\n",
      "\"problem copying C:\\Users\\Aman\\anaconda3\\envs\\Test\\Lib\\R\\library\\00LOCK\\jsonlite\\libs\\x64\\jsonlite.dll to C:\\Users\\Aman\\anaconda3\\envs\\Test\\Lib\\R\\library\\jsonlite\\libs\\x64\\jsonlite.dll: Permission denied\"Warning message:\n",
      "\"restored 'jsonlite'\""
     ]
    },
    {
     "name": "stdout",
     "output_type": "stream",
     "text": [
      "package 'lubridate' successfully unpacked and MD5 sums checked\n"
     ]
    },
    {
     "name": "stderr",
     "output_type": "stream",
     "text": [
      "Warning message:\n",
      "\"cannot remove prior installation of package 'lubridate'\"Warning message in file.copy(savedcopy, lib, recursive = TRUE):\n",
      "\"problem copying C:\\Users\\Aman\\anaconda3\\envs\\Test\\Lib\\R\\library\\00LOCK\\lubridate\\libs\\x64\\lubridate.dll to C:\\Users\\Aman\\anaconda3\\envs\\Test\\Lib\\R\\library\\lubridate\\libs\\x64\\lubridate.dll: Permission denied\"Warning message:\n",
      "\"restored 'lubridate'\""
     ]
    },
    {
     "name": "stdout",
     "output_type": "stream",
     "text": [
      "package 'purrr' successfully unpacked and MD5 sums checked\n"
     ]
    },
    {
     "name": "stderr",
     "output_type": "stream",
     "text": [
      "Warning message:\n",
      "\"cannot remove prior installation of package 'purrr'\"Warning message in file.copy(savedcopy, lib, recursive = TRUE):\n",
      "\"problem copying C:\\Users\\Aman\\anaconda3\\envs\\Test\\Lib\\R\\library\\00LOCK\\purrr\\libs\\x64\\purrr.dll to C:\\Users\\Aman\\anaconda3\\envs\\Test\\Lib\\R\\library\\purrr\\libs\\x64\\purrr.dll: Permission denied\"Warning message:\n",
      "\"restored 'purrr'\""
     ]
    },
    {
     "name": "stdout",
     "output_type": "stream",
     "text": [
      "package 'readr' successfully unpacked and MD5 sums checked\n"
     ]
    },
    {
     "name": "stderr",
     "output_type": "stream",
     "text": [
      "Warning message:\n",
      "\"cannot remove prior installation of package 'readr'\"Warning message in file.copy(savedcopy, lib, recursive = TRUE):\n",
      "\"problem copying C:\\Users\\Aman\\anaconda3\\envs\\Test\\Lib\\R\\library\\00LOCK\\readr\\libs\\x64\\librcon.lib to C:\\Users\\Aman\\anaconda3\\envs\\Test\\Lib\\R\\library\\readr\\libs\\x64\\librcon.lib: Permission denied\"Warning message in file.copy(savedcopy, lib, recursive = TRUE):\n",
      "\"problem copying C:\\Users\\Aman\\anaconda3\\envs\\Test\\Lib\\R\\library\\00LOCK\\readr\\libs\\x64\\readr.dll to C:\\Users\\Aman\\anaconda3\\envs\\Test\\Lib\\R\\library\\readr\\libs\\x64\\readr.dll: Permission denied\"Warning message:\n",
      "\"restored 'readr'\""
     ]
    },
    {
     "name": "stdout",
     "output_type": "stream",
     "text": [
      "package 'rlang' successfully unpacked and MD5 sums checked\n"
     ]
    },
    {
     "name": "stderr",
     "output_type": "stream",
     "text": [
      "Warning message:\n",
      "\"cannot remove prior installation of package 'rlang'\"Warning message in file.copy(savedcopy, lib, recursive = TRUE):\n",
      "\"problem copying C:\\Users\\Aman\\anaconda3\\envs\\Test\\Lib\\R\\library\\00LOCK\\rlang\\libs\\x64\\rlang.dll to C:\\Users\\Aman\\anaconda3\\envs\\Test\\Lib\\R\\library\\rlang\\libs\\x64\\rlang.dll: Permission denied\"Warning message:\n",
      "\"restored 'rlang'\""
     ]
    },
    {
     "name": "stdout",
     "output_type": "stream",
     "text": [
      "package 'tibble' successfully unpacked and MD5 sums checked\n"
     ]
    },
    {
     "name": "stderr",
     "output_type": "stream",
     "text": [
      "Warning message:\n",
      "\"cannot remove prior installation of package 'tibble'\"Warning message in file.copy(savedcopy, lib, recursive = TRUE):\n",
      "\"problem copying C:\\Users\\Aman\\anaconda3\\envs\\Test\\Lib\\R\\library\\00LOCK\\tibble\\libs\\x64\\tibble.dll to C:\\Users\\Aman\\anaconda3\\envs\\Test\\Lib\\R\\library\\tibble\\libs\\x64\\tibble.dll: Permission denied\"Warning message:\n",
      "\"restored 'tibble'\""
     ]
    },
    {
     "name": "stdout",
     "output_type": "stream",
     "text": [
      "package 'tidyr' successfully unpacked and MD5 sums checked\n"
     ]
    },
    {
     "name": "stderr",
     "output_type": "stream",
     "text": [
      "Warning message:\n",
      "\"cannot remove prior installation of package 'tidyr'\"Warning message in file.copy(savedcopy, lib, recursive = TRUE):\n",
      "\"problem copying C:\\Users\\Aman\\anaconda3\\envs\\Test\\Lib\\R\\library\\00LOCK\\tidyr\\libs\\x64\\tidyr.dll to C:\\Users\\Aman\\anaconda3\\envs\\Test\\Lib\\R\\library\\tidyr\\libs\\x64\\tidyr.dll: Permission denied\"Warning message:\n",
      "\"restored 'tidyr'\""
     ]
    },
    {
     "name": "stdout",
     "output_type": "stream",
     "text": [
      "package 'xml2' successfully unpacked and MD5 sums checked\n"
     ]
    },
    {
     "name": "stderr",
     "output_type": "stream",
     "text": [
      "Warning message:\n",
      "\"cannot remove prior installation of package 'xml2'\"Warning message in file.copy(savedcopy, lib, recursive = TRUE):\n",
      "\"problem copying C:\\Users\\Aman\\anaconda3\\envs\\Test\\Lib\\R\\library\\00LOCK\\xml2\\libs\\x64\\xml2.dll to C:\\Users\\Aman\\anaconda3\\envs\\Test\\Lib\\R\\library\\xml2\\libs\\x64\\xml2.dll: Permission denied\"Warning message:\n",
      "\"restored 'xml2'\""
     ]
    },
    {
     "name": "stdout",
     "output_type": "stream",
     "text": [
      "package 'tidyverse' successfully unpacked and MD5 sums checked\n",
      "\n",
      "The downloaded binary packages are in\n",
      "\tC:\\Users\\Aman\\AppData\\Local\\Temp\\Rtmpw9O5hY\\downloaded_packages\n"
     ]
    },
    {
     "name": "stderr",
     "output_type": "stream",
     "text": [
      "installing the source packages 'lifecycle', 'gargle', 'knitr', 'broom', 'dtplyr', 'googledrive', 'googlesheets4', 'ggplot2', 'hms', 'pillar', 'reprex', 'rvest'\n",
      "\n",
      "Warning message in install.packages(\"tidyverse\"):\n",
      "\"installation of package 'lifecycle' had non-zero exit status\"Warning message in install.packages(\"tidyverse\"):\n",
      "\"installation of package 'gargle' had non-zero exit status\"Warning message in install.packages(\"tidyverse\"):\n",
      "\"installation of package 'knitr' had non-zero exit status\"Warning message in install.packages(\"tidyverse\"):\n",
      "\"installation of package 'ggplot2' had non-zero exit status\"Warning message in install.packages(\"tidyverse\"):\n",
      "\"installation of package 'broom' had non-zero exit status\"Warning message in install.packages(\"tidyverse\"):\n",
      "\"installation of package 'dtplyr' had non-zero exit status\"Warning message in install.packages(\"tidyverse\"):\n",
      "\"installation of package 'hms' had non-zero exit status\"Warning message in install.packages(\"tidyverse\"):\n",
      "\"installation of package 'pillar' had non-zero exit status\"Warning message in install.packages(\"tidyverse\"):\n",
      "\"installation of package 'reprex' had non-zero exit status\"Warning message in install.packages(\"tidyverse\"):\n",
      "\"installation of package 'rvest' had non-zero exit status\"Warning message in install.packages(\"tidyverse\"):\n",
      "\"installation of package 'googledrive' had non-zero exit status\"Warning message in install.packages(\"tidyverse\"):\n",
      "\"installation of package 'googlesheets4' had non-zero exit status\"Warning message:\n",
      "\"package 'tidyverse' was built under R version 3.6.3\""
     ]
    },
    {
     "ename": "ERROR",
     "evalue": "Error: package or namespace load failed for 'tidyverse' in loadNamespace(j <- i[[1L]], c(lib.loc, .libPaths()), versionCheck = vI[[j]]):\n namespace 'broom' 0.5.2 is being loaded, but >= 0.7.6 is required\n",
     "output_type": "error",
     "traceback": [
      "Error: package or namespace load failed for 'tidyverse' in loadNamespace(j <- i[[1L]], c(lib.loc, .libPaths()), versionCheck = vI[[j]]):\n namespace 'broom' 0.5.2 is being loaded, but >= 0.7.6 is required\nTraceback:\n",
      "1. library(tidyverse)",
      "2. tryCatch({\n .     attr(package, \"LibPath\") <- which.lib.loc\n .     ns <- loadNamespace(package, lib.loc)\n .     env <- attachNamespace(ns, pos = pos, deps, exclude, include.only)\n . }, error = function(e) {\n .     P <- if (!is.null(cc <- conditionCall(e))) \n .         paste(\" in\", deparse(cc)[1L])\n .     else \"\"\n .     msg <- gettextf(\"package or namespace load failed for %s%s:\\n %s\", \n .         sQuote(package), P, conditionMessage(e))\n .     if (logical.return) \n .         message(paste(\"Error:\", msg), domain = NA)\n .     else stop(msg, call. = FALSE, domain = NA)\n . })",
      "3. tryCatchList(expr, classes, parentenv, handlers)",
      "4. tryCatchOne(expr, names, parentenv, handlers[[1L]])",
      "5. value[[3L]](cond)",
      "6. stop(msg, call. = FALSE, domain = NA)"
     ]
    }
   ],
   "source": [
    "install.packages(\"tidyverse\")\n",
    "library(tidyverse)"
   ]
  },
  {
   "cell_type": "code",
   "execution_count": 46,
   "id": "eb3962d9",
   "metadata": {},
   "outputs": [],
   "source": [
    "url.data <- \"https://raw.githubusercontent.com/fivethirtyeight/superbowl-ads/main/superbowl-ads.csv\"\n",
    "\n",
    "raw <- read.csv(url(url.data), header = TRUE,) "
   ]
  },
  {
   "cell_type": "code",
   "execution_count": 47,
   "id": "1412e087",
   "metadata": {},
   "outputs": [
    {
     "data": {
      "text/html": [
       "<table>\n",
       "<thead><tr><th scope=col>year</th><th scope=col>brand</th><th scope=col>superbowl_ads_dot_com_url</th><th scope=col>youtube_url</th><th scope=col>funny</th><th scope=col>show_product_quickly</th><th scope=col>patriotic</th><th scope=col>celebrity</th><th scope=col>danger</th><th scope=col>animals</th><th scope=col>use_sex</th></tr></thead>\n",
       "<tbody>\n",
       "\t<tr><td>2018                                                                </td><td>Toyota                                                              </td><td>https://superbowl-ads.com/good-odds-toyota/                         </td><td>https://www.youtube.com/watch?v=zeBZvwYQ-hA                         </td><td>False                                                               </td><td>False                                                               </td><td>False                                                               </td><td>False                                                               </td><td>False                                                               </td><td>False                                                               </td><td>False                                                               </td></tr>\n",
       "\t<tr><td>2020                                                                </td><td>Bud Light                                                           </td><td>https://superbowl-ads.com/2020-bud-light-seltzer-inside-posts-brain/</td><td>https://www.youtube.com/watch?v=nbbp0VW7z8w                         </td><td>True                                                                </td><td>True                                                                </td><td>False                                                               </td><td>True                                                                </td><td>True                                                                </td><td>False                                                               </td><td>False                                                               </td></tr>\n",
       "\t<tr><td>2006                                                                </td><td>Bud Light                                                           </td><td>https://superbowl-ads.com/2006-bud-light-bear-attack/               </td><td>https://www.youtube.com/watch?v=yk0MQD5YgV8                         </td><td>True                                                                </td><td>False                                                               </td><td>False                                                               </td><td>False                                                               </td><td>True                                                                </td><td>True                                                                </td><td>False                                                               </td></tr>\n",
       "\t<tr><td>2018                                                                </td><td>Hynudai                                                             </td><td>https://superbowl-ads.com/hope-detector-nfl-super-bowl-lii-hyundai/ </td><td>https://www.youtube.com/watch?v=lNPccrGk77A                         </td><td>False                                                               </td><td>True                                                                </td><td>False                                                               </td><td>False                                                               </td><td>False                                                               </td><td>False                                                               </td><td>False                                                               </td></tr>\n",
       "\t<tr><td>2003                                                                </td><td>Bud Light                                                           </td><td>https://superbowl-ads.com/2003-bud-light-hermit-crab/               </td><td>https://www.youtube.com/watch?v=ovQYgnXHooY                         </td><td>True                                                                </td><td>True                                                                </td><td>False                                                               </td><td>False                                                               </td><td>True                                                                </td><td>True                                                                </td><td>True                                                                </td></tr>\n",
       "\t<tr><td>2020                                                                </td><td>Toyota                                                              </td><td>https://superbowl-ads.com/2020-toyota-go-places-with-cobie-smulders/</td><td>https://www.youtube.com/watch?v=f34Ji70u3nk                         </td><td>True                                                                </td><td>True                                                                </td><td>False                                                               </td><td>True                                                                </td><td>True                                                                </td><td>True                                                                </td><td>False                                                               </td></tr>\n",
       "</tbody>\n",
       "</table>\n"
      ],
      "text/latex": [
       "\\begin{tabular}{r|lllllllllll}\n",
       " year & brand & superbowl\\_ads\\_dot\\_com\\_url & youtube\\_url & funny & show\\_product\\_quickly & patriotic & celebrity & danger & animals & use\\_sex\\\\\n",
       "\\hline\n",
       "\t 2018                                                                 & Toyota                                                               & https://superbowl-ads.com/good-odds-toyota/                          & https://www.youtube.com/watch?v=zeBZvwYQ-hA                          & False                                                                & False                                                                & False                                                                & False                                                                & False                                                                & False                                                                & False                                                               \\\\\n",
       "\t 2020                                                                 & Bud Light                                                            & https://superbowl-ads.com/2020-bud-light-seltzer-inside-posts-brain/ & https://www.youtube.com/watch?v=nbbp0VW7z8w                          & True                                                                 & True                                                                 & False                                                                & True                                                                 & True                                                                 & False                                                                & False                                                               \\\\\n",
       "\t 2006                                                                 & Bud Light                                                            & https://superbowl-ads.com/2006-bud-light-bear-attack/                & https://www.youtube.com/watch?v=yk0MQD5YgV8                          & True                                                                 & False                                                                & False                                                                & False                                                                & True                                                                 & True                                                                 & False                                                               \\\\\n",
       "\t 2018                                                                 & Hynudai                                                              & https://superbowl-ads.com/hope-detector-nfl-super-bowl-lii-hyundai/  & https://www.youtube.com/watch?v=lNPccrGk77A                          & False                                                                & True                                                                 & False                                                                & False                                                                & False                                                                & False                                                                & False                                                               \\\\\n",
       "\t 2003                                                                 & Bud Light                                                            & https://superbowl-ads.com/2003-bud-light-hermit-crab/                & https://www.youtube.com/watch?v=ovQYgnXHooY                          & True                                                                 & True                                                                 & False                                                                & False                                                                & True                                                                 & True                                                                 & True                                                                \\\\\n",
       "\t 2020                                                                 & Toyota                                                               & https://superbowl-ads.com/2020-toyota-go-places-with-cobie-smulders/ & https://www.youtube.com/watch?v=f34Ji70u3nk                          & True                                                                 & True                                                                 & False                                                                & True                                                                 & True                                                                 & True                                                                 & False                                                               \\\\\n",
       "\\end{tabular}\n"
      ],
      "text/markdown": [
       "\n",
       "| year | brand | superbowl_ads_dot_com_url | youtube_url | funny | show_product_quickly | patriotic | celebrity | danger | animals | use_sex |\n",
       "|---|---|---|---|---|---|---|---|---|---|---|\n",
       "| 2018                                                                 | Toyota                                                               | https://superbowl-ads.com/good-odds-toyota/                          | https://www.youtube.com/watch?v=zeBZvwYQ-hA                          | False                                                                | False                                                                | False                                                                | False                                                                | False                                                                | False                                                                | False                                                                |\n",
       "| 2020                                                                 | Bud Light                                                            | https://superbowl-ads.com/2020-bud-light-seltzer-inside-posts-brain/ | https://www.youtube.com/watch?v=nbbp0VW7z8w                          | True                                                                 | True                                                                 | False                                                                | True                                                                 | True                                                                 | False                                                                | False                                                                |\n",
       "| 2006                                                                 | Bud Light                                                            | https://superbowl-ads.com/2006-bud-light-bear-attack/                | https://www.youtube.com/watch?v=yk0MQD5YgV8                          | True                                                                 | False                                                                | False                                                                | False                                                                | True                                                                 | True                                                                 | False                                                                |\n",
       "| 2018                                                                 | Hynudai                                                              | https://superbowl-ads.com/hope-detector-nfl-super-bowl-lii-hyundai/  | https://www.youtube.com/watch?v=lNPccrGk77A                          | False                                                                | True                                                                 | False                                                                | False                                                                | False                                                                | False                                                                | False                                                                |\n",
       "| 2003                                                                 | Bud Light                                                            | https://superbowl-ads.com/2003-bud-light-hermit-crab/                | https://www.youtube.com/watch?v=ovQYgnXHooY                          | True                                                                 | True                                                                 | False                                                                | False                                                                | True                                                                 | True                                                                 | True                                                                 |\n",
       "| 2020                                                                 | Toyota                                                               | https://superbowl-ads.com/2020-toyota-go-places-with-cobie-smulders/ | https://www.youtube.com/watch?v=f34Ji70u3nk                          | True                                                                 | True                                                                 | False                                                                | True                                                                 | True                                                                 | True                                                                 | False                                                                |\n",
       "\n"
      ],
      "text/plain": [
       "  year brand    \n",
       "1 2018 Toyota   \n",
       "2 2020 Bud Light\n",
       "3 2006 Bud Light\n",
       "4 2018 Hynudai  \n",
       "5 2003 Bud Light\n",
       "6 2020 Toyota   \n",
       "  superbowl_ads_dot_com_url                                           \n",
       "1 https://superbowl-ads.com/good-odds-toyota/                         \n",
       "2 https://superbowl-ads.com/2020-bud-light-seltzer-inside-posts-brain/\n",
       "3 https://superbowl-ads.com/2006-bud-light-bear-attack/               \n",
       "4 https://superbowl-ads.com/hope-detector-nfl-super-bowl-lii-hyundai/ \n",
       "5 https://superbowl-ads.com/2003-bud-light-hermit-crab/               \n",
       "6 https://superbowl-ads.com/2020-toyota-go-places-with-cobie-smulders/\n",
       "  youtube_url                                 funny show_product_quickly\n",
       "1 https://www.youtube.com/watch?v=zeBZvwYQ-hA False False               \n",
       "2 https://www.youtube.com/watch?v=nbbp0VW7z8w True  True                \n",
       "3 https://www.youtube.com/watch?v=yk0MQD5YgV8 True  False               \n",
       "4 https://www.youtube.com/watch?v=lNPccrGk77A False True                \n",
       "5 https://www.youtube.com/watch?v=ovQYgnXHooY True  True                \n",
       "6 https://www.youtube.com/watch?v=f34Ji70u3nk True  True                \n",
       "  patriotic celebrity danger animals use_sex\n",
       "1 False     False     False  False   False  \n",
       "2 False     True      True   False   False  \n",
       "3 False     False     True   True    False  \n",
       "4 False     False     False  False   False  \n",
       "5 False     False     True   True    True   \n",
       "6 False     True      True   True    False  "
      ]
     },
     "metadata": {},
     "output_type": "display_data"
    }
   ],
   "source": [
    "head(raw)"
   ]
  },
  {
   "cell_type": "code",
   "execution_count": 48,
   "id": "9303e6c9",
   "metadata": {},
   "outputs": [],
   "source": [
    "#This is the raw data from fivethirtyeight\n",
    "#Now we're going to augment it"
   ]
  },
  {
   "cell_type": "code",
   "execution_count": 49,
   "id": "691c07ad",
   "metadata": {},
   "outputs": [
    {
     "name": "stdout",
     "output_type": "stream",
     "text": [
      "[1] \"Connecting to remote server\"\n",
      "$acceptInsecureCerts\n",
      "[1] FALSE\n",
      "\n",
      "$browserName\n",
      "[1] \"chrome\"\n",
      "\n",
      "$browserVersion\n",
      "[1] \"89.0.4389.90\"\n",
      "\n",
      "$chrome\n",
      "$chrome$chromedriverVersion\n",
      "[1] \"89.0.4389.23 (61b08ee2c50024bab004e48d2b1b083cdbdac579-refs/branch-heads/4389@{#294})\"\n",
      "\n",
      "$chrome$userDataDir\n",
      "[1] \"/tmp/.com.google.Chrome.Ggn1rw\"\n",
      "\n",
      "\n",
      "$`goog:chromeOptions`\n",
      "$`goog:chromeOptions`$debuggerAddress\n",
      "[1] \"localhost:35875\"\n",
      "\n",
      "\n",
      "$networkConnectionEnabled\n",
      "[1] FALSE\n",
      "\n",
      "$pageLoadStrategy\n",
      "[1] \"normal\"\n",
      "\n",
      "$platformName\n",
      "[1] \"linux\"\n",
      "\n",
      "$proxy\n",
      "named list()\n",
      "\n",
      "$`se:cdp`\n",
      "[1] \"http://172.17.0.2:4444/session/06d0c6c99b6e65c4ca1a9b51dab55918/se/cdp\"\n",
      "\n",
      "$setWindowRect\n",
      "[1] TRUE\n",
      "\n",
      "$strictFileInteractability\n",
      "[1] FALSE\n",
      "\n",
      "$timeouts\n",
      "$timeouts$implicit\n",
      "[1] 0\n",
      "\n",
      "$timeouts$pageLoad\n",
      "[1] 300000\n",
      "\n",
      "$timeouts$script\n",
      "[1] 30000\n",
      "\n",
      "\n",
      "$unhandledPromptBehavior\n",
      "[1] \"dismiss and notify\"\n",
      "\n",
      "$`webauthn:extension:largeBlob`\n",
      "[1] TRUE\n",
      "\n",
      "$`webauthn:virtualAuthenticators`\n",
      "[1] TRUE\n",
      "\n",
      "$id\n",
      "[1] \"06d0c6c99b6e65c4ca1a9b51dab55918\"\n",
      "\n"
     ]
    }
   ],
   "source": [
    "if (Fresh_Computes && Fresh_Data){\n",
    "    remDr <- RSelenium::remoteDriver(remoteServerAddr = \"localhost\",\n",
    "                                 port = 4444,\n",
    "                                 browserName = \"chrome\")\n",
    "    remDr$open()\n",
    "}"
   ]
  },
  {
   "cell_type": "code",
   "execution_count": 50,
   "id": "ec1daa87",
   "metadata": {},
   "outputs": [
    {
     "name": "stdout",
     "output_type": "stream",
     "text": [
      "      brand\n",
      "3 Bud Light\n"
     ]
    }
   ],
   "source": [
    "print(raw[3,]['brand'])\n"
   ]
  },
  {
   "cell_type": "code",
   "execution_count": 63,
   "id": "b262335d",
   "metadata": {},
   "outputs": [],
   "source": [
    "if (Fresh_Computes && Fresh_Data && Dev_Checks){\n",
    "    remDr$navigate(\"https://www.youtube.com/watch?v=zeBZvwYQ-hA\") #Entering our URL gets the browser to navigate to the page\n",
    "    remDr$screenshot(display = TRUE)\n",
    "}"
   ]
  },
  {
   "cell_type": "code",
   "execution_count": 62,
   "id": "ca13f13e",
   "metadata": {},
   "outputs": [
    {
     "name": "stdout",
     "output_type": "stream",
     "text": [
      "[[1]]\n",
      "[1] \"1,690,165 views\"\n",
      "\n"
     ]
    }
   ],
   "source": [
    "webElem <- remDr$findElement(using = \"css selector\", \"[class='view-count style-scope ytd-video-view-count-renderer']\")\n",
    "view_number_text = webElem$getElementText()\n",
    "print(view_number_text[])"
   ]
  },
  {
   "cell_type": "code",
   "execution_count": 61,
   "id": "38911336",
   "metadata": {},
   "outputs": [
    {
     "name": "stdout",
     "output_type": "stream",
     "text": [
      "[[1]]\n",
      "[1] \"1,690,165 views\"\n",
      "\n",
      "[1] \"1690165 \"\n"
     ]
    }
   ],
   "source": [
    "\n",
    "if (Fresh_Computes && Fresh_Data){\n",
    "    webElem <- remDr$findElement(using = \"css\", \"[class='view-count style-scope ytd-video-view-count-renderer']\")\n",
    "    view_number_text = webElem$getElementText()\n",
    "    print(view_number_text)\n",
    "    view_number_text = gsub(\"views\", \"\", view_number_text)\n",
    "    view_number_text = gsub(\",\", \"\", view_number_text)\n",
    "    print(view_number_text)\n",
    "}"
   ]
  },
  {
   "cell_type": "code",
   "execution_count": null,
   "id": "8e8a690e",
   "metadata": {},
   "outputs": [],
   "source": [
    "wetest <- function(sleepmin,sleepmax){\n",
    "  remDr <- get(\"remDr\",envir=globalenv())\n",
    "  webElemtest <-NULL\n",
    "  while(is.null(webElem)){\n",
    "    webElem <- tryCatch({remDr$findElement(using = \"css\", \"[class='view-count style-scope ytd-video-view-count-renderer']\")},\n",
    "                            error = function(e){NULL})\n",
    "    #loop until element with name <value> is found in <webpage url>\n",
    "  }\n",
    "  rsleep <- sample(seq(sleepmin, sleepmax, by = 0.001), 1)\n",
    "  Sys.sleep(rsleep)\n",
    "}\n"
   ]
  },
  {
   "cell_type": "code",
   "execution_count": 67,
   "id": "32903244",
   "metadata": {},
   "outputs": [
    {
     "name": "stdout",
     "output_type": "stream",
     "text": [
      "[1] \"https://www.youtube.com/watch?v=zeBZvwYQ-hA\"\n",
      "[1] \"185315 \"\n",
      "[1] \"https://www.youtube.com/watch?v=nbbp0VW7z8w\"\n",
      "[1] \"78700 \"\n",
      "[1] \"https://www.youtube.com/watch?v=yk0MQD5YgV8\"\n",
      "[1] \"142553 \"\n",
      "[1] \"https://www.youtube.com/watch?v=lNPccrGk77A\"\n",
      "[1] \"234 \"\n",
      "[1] \"https://www.youtube.com/watch?v=ovQYgnXHooY\"\n",
      "[1] \"13853 \"\n"
     ]
    }
   ],
   "source": [
    "for (url in raw$youtube_url[0:5]) {\n",
    "    print(url)\n",
    "    remDr$navigate(url)\n",
    "    Sys.sleep(2.0)\n",
    "    webElem <- tryCatch({remDr$findElement(using = \"css\", \"[class='view-count style-scope ytd-video-view-count-renderer']\")},\n",
    "                        error = function(e){ print(\"I am here\")})\n",
    "    view_number_text <- \"\"\n",
    "    if(!is.null(webElem)){\n",
    "        view_number_text <- tryCatch({webElem$getElementText()},\n",
    "                            error = function(e){ print(\"I am here2\")})\n",
    "    } else {\n",
    "        print(\"I could not find target\")\n",
    "    }\n",
    "    view_number_text = gsub(\"views\", \"\", view_number_text)\n",
    "    view_number_text = gsub(\",\", \"\", view_number_text)\n",
    "    print(view_number_text)\n",
    "}"
   ]
  },
  {
   "cell_type": "code",
   "execution_count": null,
   "id": "411c101d",
   "metadata": {},
   "outputs": [
    {
     "name": "stdout",
     "output_type": "stream",
     "text": [
      "[1] \"Init1\"\n"
     ]
    }
   ],
   "source": [
    "print(\"Init1\")\n",
    "if (Dev_Checks){ \n",
    "    print(\"Init2\")\n",
    "    for (url in raw$youtube_url) {\n",
    "        print(url)\n",
    "        remDr$navigate(url)\n",
    "        Sys.sleep(2.0)\n",
    "        view_number_text <- NULL\n",
    "        while(is.null(webElem)){\n",
    "            webElem <- tryCatch({remDr$findElement(using = \"css\", \"[class='view-count style-scope ytd-video-view-count-renderer']\")},\n",
    "                            error = function(e){ print(\"I am here\")})\n",
    "            view_number_text <- tryCatch({webElem$getElementText()},\n",
    "                            error = function(e){ print(\"I am here2\")})\n",
    "            Sys.sleep(2.0)\n",
    "        }\n",
    "        view_number_text = gsub(\"views\", \"\", view_number_text)\n",
    "        view_number_text = gsub(\",\", \"\", view_number_text)\n",
    "        print(view_number_text)\n",
    "    }\n",
    "}"
   ]
  },
  {
   "cell_type": "code",
   "execution_count": null,
   "id": "a6e97d85",
   "metadata": {},
   "outputs": [],
   "source": [
    "c_dat =  select(raw, -youtube_url, -superbowl_ads_dot_com_url)"
   ]
  },
  {
   "cell_type": "code",
   "execution_count": 22,
   "id": "eb6a2750",
   "metadata": {},
   "outputs": [
    {
     "data": {
      "text/html": [
       "<table>\n",
       "<thead><tr><th scope=col>year</th><th scope=col>brand</th><th scope=col>funny</th><th scope=col>show_product_quickly</th><th scope=col>patriotic</th><th scope=col>celebrity</th><th scope=col>danger</th><th scope=col>animals</th><th scope=col>use_sex</th></tr></thead>\n",
       "<tbody>\n",
       "\t<tr><td>2018     </td><td>Toyota   </td><td>False    </td><td>False    </td><td>False    </td><td>False    </td><td>False    </td><td>False    </td><td>False    </td></tr>\n",
       "\t<tr><td>2020     </td><td>Bud Light</td><td>True     </td><td>True     </td><td>False    </td><td>True     </td><td>True     </td><td>False    </td><td>False    </td></tr>\n",
       "\t<tr><td>2006     </td><td>Bud Light</td><td>True     </td><td>False    </td><td>False    </td><td>False    </td><td>True     </td><td>True     </td><td>False    </td></tr>\n",
       "\t<tr><td>2018     </td><td>Hynudai  </td><td>False    </td><td>True     </td><td>False    </td><td>False    </td><td>False    </td><td>False    </td><td>False    </td></tr>\n",
       "\t<tr><td>2003     </td><td>Bud Light</td><td>True     </td><td>True     </td><td>False    </td><td>False    </td><td>True     </td><td>True     </td><td>True     </td></tr>\n",
       "\t<tr><td>2020     </td><td>Toyota   </td><td>True     </td><td>True     </td><td>False    </td><td>True     </td><td>True     </td><td>True     </td><td>False    </td></tr>\n",
       "</tbody>\n",
       "</table>\n"
      ],
      "text/latex": [
       "\\begin{tabular}{r|lllllllll}\n",
       " year & brand & funny & show\\_product\\_quickly & patriotic & celebrity & danger & animals & use\\_sex\\\\\n",
       "\\hline\n",
       "\t 2018      & Toyota    & False     & False     & False     & False     & False     & False     & False    \\\\\n",
       "\t 2020      & Bud Light & True      & True      & False     & True      & True      & False     & False    \\\\\n",
       "\t 2006      & Bud Light & True      & False     & False     & False     & True      & True      & False    \\\\\n",
       "\t 2018      & Hynudai   & False     & True      & False     & False     & False     & False     & False    \\\\\n",
       "\t 2003      & Bud Light & True      & True      & False     & False     & True      & True      & True     \\\\\n",
       "\t 2020      & Toyota    & True      & True      & False     & True      & True      & True      & False    \\\\\n",
       "\\end{tabular}\n"
      ],
      "text/markdown": [
       "\n",
       "| year | brand | funny | show_product_quickly | patriotic | celebrity | danger | animals | use_sex |\n",
       "|---|---|---|---|---|---|---|---|---|\n",
       "| 2018      | Toyota    | False     | False     | False     | False     | False     | False     | False     |\n",
       "| 2020      | Bud Light | True      | True      | False     | True      | True      | False     | False     |\n",
       "| 2006      | Bud Light | True      | False     | False     | False     | True      | True      | False     |\n",
       "| 2018      | Hynudai   | False     | True      | False     | False     | False     | False     | False     |\n",
       "| 2003      | Bud Light | True      | True      | False     | False     | True      | True      | True      |\n",
       "| 2020      | Toyota    | True      | True      | False     | True      | True      | True      | False     |\n",
       "\n"
      ],
      "text/plain": [
       "  year brand     funny show_product_quickly patriotic celebrity danger animals\n",
       "1 2018 Toyota    False False                False     False     False  False  \n",
       "2 2020 Bud Light True  True                 False     True      True   False  \n",
       "3 2006 Bud Light True  False                False     False     True   True   \n",
       "4 2018 Hynudai   False True                 False     False     False  False  \n",
       "5 2003 Bud Light True  True                 False     False     True   True   \n",
       "6 2020 Toyota    True  True                 False     True      True   True   \n",
       "  use_sex\n",
       "1 False  \n",
       "2 False  \n",
       "3 False  \n",
       "4 False  \n",
       "5 True   \n",
       "6 False  "
      ]
     },
     "metadata": {},
     "output_type": "display_data"
    }
   ],
   "source": [
    "head(c_dat)"
   ]
  },
  {
   "cell_type": "code",
   "execution_count": 24,
   "id": "108ffe55",
   "metadata": {},
   "outputs": [
    {
     "data": {
      "text/html": [
       "<table>\n",
       "<thead><tr><th></th><th scope=col>brand</th></tr></thead>\n",
       "<tbody>\n",
       "\t<tr><th scope=row>1</th><td>Toyota   </td></tr>\n",
       "\t<tr><th scope=row>2</th><td>Bud Light</td></tr>\n",
       "\t<tr><th scope=row>4</th><td>Hynudai  </td></tr>\n",
       "\t<tr><th scope=row>7</th><td>Coca-Cola</td></tr>\n",
       "\t<tr><th scope=row>8</th><td>Kia      </td></tr>\n",
       "\t<tr><th scope=row>10</th><td>Budweiser</td></tr>\n",
       "\t<tr><th scope=row>15</th><td>NFL      </td></tr>\n",
       "\t<tr><th scope=row>18</th><td>Pepsi    </td></tr>\n",
       "\t<tr><th scope=row>20</th><td>Doritos  </td></tr>\n",
       "\t<tr><th scope=row>34</th><td>E-Trade  </td></tr>\n",
       "</tbody>\n",
       "</table>\n"
      ],
      "text/latex": [
       "\\begin{tabular}{r|l}\n",
       "  & brand\\\\\n",
       "\\hline\n",
       "\t1 & Toyota   \\\\\n",
       "\t2 & Bud Light\\\\\n",
       "\t4 & Hynudai  \\\\\n",
       "\t7 & Coca-Cola\\\\\n",
       "\t8 & Kia      \\\\\n",
       "\t10 & Budweiser\\\\\n",
       "\t15 & NFL      \\\\\n",
       "\t18 & Pepsi    \\\\\n",
       "\t20 & Doritos  \\\\\n",
       "\t34 & E-Trade  \\\\\n",
       "\\end{tabular}\n"
      ],
      "text/markdown": [
       "\n",
       "| <!--/--> | brand |\n",
       "|---|---|\n",
       "| 1 | Toyota    |\n",
       "| 2 | Bud Light |\n",
       "| 4 | Hynudai   |\n",
       "| 7 | Coca-Cola |\n",
       "| 8 | Kia       |\n",
       "| 10 | Budweiser |\n",
       "| 15 | NFL       |\n",
       "| 18 | Pepsi     |\n",
       "| 20 | Doritos   |\n",
       "| 34 | E-Trade   |\n",
       "\n"
      ],
      "text/plain": [
       "   brand    \n",
       "1  Toyota   \n",
       "2  Bud Light\n",
       "4  Hynudai  \n",
       "7  Coca-Cola\n",
       "8  Kia      \n",
       "10 Budweiser\n",
       "15 NFL      \n",
       "18 Pepsi    \n",
       "20 Doritos  \n",
       "34 E-Trade  "
      ]
     },
     "metadata": {},
     "output_type": "display_data"
    }
   ],
   "source": [
    "unique(c_dat['brand'])"
   ]
  },
  {
   "cell_type": "code",
   "execution_count": 26,
   "id": "f6186336",
   "metadata": {},
   "outputs": [
    {
     "name": "stderr",
     "output_type": "stream",
     "text": [
      "also installing the dependencies 'bitops', 'semver', 'XML', 'caTools', 'wdman', 'binman'\n",
      "\n"
     ]
    },
    {
     "name": "stdout",
     "output_type": "stream",
     "text": [
      "package 'bitops' successfully unpacked and MD5 sums checked\n",
      "package 'semver' successfully unpacked and MD5 sums checked\n",
      "package 'XML' successfully unpacked and MD5 sums checked\n",
      "package 'caTools' successfully unpacked and MD5 sums checked\n",
      "package 'wdman' successfully unpacked and MD5 sums checked\n",
      "package 'binman' successfully unpacked and MD5 sums checked\n",
      "package 'RSelenium' successfully unpacked and MD5 sums checked\n",
      "\n",
      "The downloaded binary packages are in\n",
      "\tC:\\Users\\Aman\\AppData\\Local\\Temp\\RtmpOi363W\\downloaded_packages\n"
     ]
    }
   ],
   "source": [
    "install.packages(\"RSelenium\")"
   ]
  },
  {
   "cell_type": "code",
   "execution_count": 29,
   "id": "0cf1ddc6",
   "metadata": {},
   "outputs": [],
   "source": [
    "library('RSelenium')\n"
   ]
  },
  {
   "cell_type": "code",
   "execution_count": null,
   "id": "0eb2e86c",
   "metadata": {},
   "outputs": [],
   "source": []
  }
 ],
 "metadata": {
  "kernelspec": {
   "display_name": "R",
   "language": "R",
   "name": "ir"
  },
  "language_info": {
   "codemirror_mode": "r",
   "file_extension": ".r",
   "mimetype": "text/x-r-source",
   "name": "R",
   "pygments_lexer": "r",
   "version": "3.6.1"
  }
 },
 "nbformat": 4,
 "nbformat_minor": 5
}
