{
 "cells": [
  {
   "cell_type": "code",
   "execution_count": 1,
   "id": "ee5f42e3",
   "metadata": {},
   "outputs": [],
   "source": [
    "#This Stack Requires:\n",
    "# 1. Docker\n",
    "# 2. Jupyter\n",
    "# 3. Selenium\n",
    "# 4. RSelenium\n",
    "\n",
    "#Practically, I wanted to create a predictor that links the year, the content, and the 3rd party views on youtube.\n",
    "#I wanted to practice selinum scraping in R, and this seemed a perfect example as this already has links\n"
   ]
  },
  {
   "cell_type": "code",
   "execution_count": 1,
   "id": "491f9e91",
   "metadata": {},
   "outputs": [],
   "source": [
    "#Start your Selinum Instance Now\n",
    "#docker run -d -p 4444:4444 --shm-size=\"2g\" selenium/standalone-chrome:4.1.2-20220131"
   ]
  },
  {
   "cell_type": "code",
   "execution_count": 45,
   "id": "29347ea0",
   "metadata": {},
   "outputs": [],
   "source": [
    "use_docker <- TRUE # Uses docker to pull and augment data, requires the Selenium Instance\n",
    "use_dev <- TRUE #Regenerates all values, rather than pulling from final values\n",
    "Fresh_Data <- TRUE\n",
    "Fresh_Computes <- TRUE\n",
    "Dev_Checks <- TRUE"
   ]
  },
  {
   "cell_type": "code",
   "execution_count": 75,
   "id": "76661d33",
   "metadata": {},
   "outputs": [
    {
     "name": "stdout",
     "output_type": "stream",
     "text": [
      "\n",
      "  There is a binary version available but the source version is later:\n",
      "     binary source needs_compilation\n",
      "Rcpp  1.0.6  1.0.8              TRUE\n",
      "\n",
      "  Binaries will be installed\n",
      "package 'Rcpp' successfully unpacked and MD5 sums checked\n"
     ]
    },
    {
     "name": "stderr",
     "output_type": "stream",
     "text": [
      "Warning message:\n",
      "\"cannot remove prior installation of package 'Rcpp'\"Warning message in file.copy(savedcopy, lib, recursive = TRUE):\n",
      "\"problem copying C:\\Users\\Aman\\anaconda3\\envs\\Test\\Lib\\R\\library\\00LOCK\\Rcpp\\libs\\x64\\Rcpp.dll to C:\\Users\\Aman\\anaconda3\\envs\\Test\\Lib\\R\\library\\Rcpp\\libs\\x64\\Rcpp.dll: Permission denied\"Warning message:\n",
      "\"restored 'Rcpp'\""
     ]
    },
    {
     "name": "stdout",
     "output_type": "stream",
     "text": [
      "\n",
      "The downloaded binary packages are in\n",
      "\tC:\\Users\\Aman\\AppData\\Local\\Temp\\RtmpkLLibB\\downloaded_packages\n"
     ]
    },
    {
     "name": "stderr",
     "output_type": "stream",
     "text": [
      "also installing the dependencies 'pillar', 'glue', 'tibble', 'dplyr', 'tidyselect', 'htmlwidgets', 'tidyr', 'rlang', 'crosstalk'\n",
      "\n"
     ]
    },
    {
     "name": "stdout",
     "output_type": "stream",
     "text": [
      "\n",
      "  There are binary versions available but the source versions are later:\n",
      "            binary source needs_compilation\n",
      "pillar       1.6.0  1.7.0             FALSE\n",
      "glue         1.4.2  1.6.1              TRUE\n",
      "tibble       3.1.1  3.1.6              TRUE\n",
      "dplyr        1.0.6  1.0.7              TRUE\n",
      "htmlwidgets  1.5.3  1.5.4             FALSE\n",
      "tidyr        1.1.3  1.2.0              TRUE\n",
      "rlang       0.4.11  1.0.1              TRUE\n",
      "crosstalk    1.1.1  1.2.0             FALSE\n",
      "plotly       4.9.3 4.10.0             FALSE\n",
      "\n",
      "  Binaries will be installed\n",
      "package 'glue' successfully unpacked and MD5 sums checked\n"
     ]
    },
    {
     "name": "stderr",
     "output_type": "stream",
     "text": [
      "Warning message:\n",
      "\"cannot remove prior installation of package 'glue'\"Warning message in file.copy(savedcopy, lib, recursive = TRUE):\n",
      "\"problem copying C:\\Users\\Aman\\anaconda3\\envs\\Test\\Lib\\R\\library\\00LOCK\\glue\\libs\\x64\\glue.dll to C:\\Users\\Aman\\anaconda3\\envs\\Test\\Lib\\R\\library\\glue\\libs\\x64\\glue.dll: Permission denied\"Warning message:\n",
      "\"restored 'glue'\""
     ]
    },
    {
     "name": "stdout",
     "output_type": "stream",
     "text": [
      "package 'tibble' successfully unpacked and MD5 sums checked\n"
     ]
    },
    {
     "name": "stderr",
     "output_type": "stream",
     "text": [
      "Warning message:\n",
      "\"cannot remove prior installation of package 'tibble'\"Warning message in file.copy(savedcopy, lib, recursive = TRUE):\n",
      "\"problem copying C:\\Users\\Aman\\anaconda3\\envs\\Test\\Lib\\R\\library\\00LOCK\\tibble\\libs\\x64\\tibble.dll to C:\\Users\\Aman\\anaconda3\\envs\\Test\\Lib\\R\\library\\tibble\\libs\\x64\\tibble.dll: Permission denied\"Warning message:\n",
      "\"restored 'tibble'\""
     ]
    },
    {
     "name": "stdout",
     "output_type": "stream",
     "text": [
      "package 'dplyr' successfully unpacked and MD5 sums checked\n"
     ]
    },
    {
     "name": "stderr",
     "output_type": "stream",
     "text": [
      "Warning message:\n",
      "\"cannot remove prior installation of package 'dplyr'\"Warning message in file.copy(savedcopy, lib, recursive = TRUE):\n",
      "\"problem copying C:\\Users\\Aman\\anaconda3\\envs\\Test\\Lib\\R\\library\\00LOCK\\dplyr\\libs\\x64\\dplyr.dll to C:\\Users\\Aman\\anaconda3\\envs\\Test\\Lib\\R\\library\\dplyr\\libs\\x64\\dplyr.dll: Permission denied\"Warning message:\n",
      "\"restored 'dplyr'\""
     ]
    },
    {
     "name": "stdout",
     "output_type": "stream",
     "text": [
      "package 'tidyselect' successfully unpacked and MD5 sums checked\n"
     ]
    },
    {
     "name": "stderr",
     "output_type": "stream",
     "text": [
      "Warning message:\n",
      "\"cannot remove prior installation of package 'tidyselect'\"Warning message in file.copy(savedcopy, lib, recursive = TRUE):\n",
      "\"problem copying C:\\Users\\Aman\\anaconda3\\envs\\Test\\Lib\\R\\library\\00LOCK\\tidyselect\\libs\\x64\\tidyselect.dll to C:\\Users\\Aman\\anaconda3\\envs\\Test\\Lib\\R\\library\\tidyselect\\libs\\x64\\tidyselect.dll: Permission denied\"Warning message:\n",
      "\"restored 'tidyselect'\""
     ]
    },
    {
     "name": "stdout",
     "output_type": "stream",
     "text": [
      "package 'tidyr' successfully unpacked and MD5 sums checked\n"
     ]
    },
    {
     "name": "stderr",
     "output_type": "stream",
     "text": [
      "Warning message:\n",
      "\"cannot remove prior installation of package 'tidyr'\"Warning message in file.copy(savedcopy, lib, recursive = TRUE):\n",
      "\"problem copying C:\\Users\\Aman\\anaconda3\\envs\\Test\\Lib\\R\\library\\00LOCK\\tidyr\\libs\\x64\\tidyr.dll to C:\\Users\\Aman\\anaconda3\\envs\\Test\\Lib\\R\\library\\tidyr\\libs\\x64\\tidyr.dll: Permission denied\"Warning message:\n",
      "\"restored 'tidyr'\""
     ]
    },
    {
     "name": "stdout",
     "output_type": "stream",
     "text": [
      "package 'rlang' successfully unpacked and MD5 sums checked\n"
     ]
    },
    {
     "name": "stderr",
     "output_type": "stream",
     "text": [
      "Warning message:\n",
      "\"cannot remove prior installation of package 'rlang'\"Warning message in file.copy(savedcopy, lib, recursive = TRUE):\n",
      "\"problem copying C:\\Users\\Aman\\anaconda3\\envs\\Test\\Lib\\R\\library\\00LOCK\\rlang\\libs\\x64\\rlang.dll to C:\\Users\\Aman\\anaconda3\\envs\\Test\\Lib\\R\\library\\rlang\\libs\\x64\\rlang.dll: Permission denied\"Warning message:\n",
      "\"restored 'rlang'\""
     ]
    },
    {
     "name": "stdout",
     "output_type": "stream",
     "text": [
      "\n",
      "The downloaded binary packages are in\n",
      "\tC:\\Users\\Aman\\AppData\\Local\\Temp\\RtmpkLLibB\\downloaded_packages\n"
     ]
    },
    {
     "name": "stderr",
     "output_type": "stream",
     "text": [
      "installing the source packages 'pillar', 'htmlwidgets', 'crosstalk', 'plotly'\n",
      "\n",
      "Warning message in install.packages(\"plotly\"):\n",
      "\"installation of package 'pillar' had non-zero exit status\"Warning message in install.packages(\"plotly\"):\n",
      "\"installation of package 'plotly' had non-zero exit status\"also installing the dependencies 'pillar', 'glue', 'rlang', 'tibble', 'tidyselect'\n",
      "\n"
     ]
    },
    {
     "name": "stdout",
     "output_type": "stream",
     "text": [
      "\n",
      "  There are binary versions available but the source versions are later:\n",
      "       binary source needs_compilation\n",
      "pillar  1.6.0  1.7.0             FALSE\n",
      "glue    1.4.2  1.6.1              TRUE\n",
      "rlang  0.4.11  1.0.1              TRUE\n",
      "tibble  3.1.1  3.1.6              TRUE\n",
      "dplyr   1.0.6  1.0.7              TRUE\n",
      "\n",
      "  Binaries will be installed\n",
      "package 'glue' successfully unpacked and MD5 sums checked\n"
     ]
    },
    {
     "name": "stderr",
     "output_type": "stream",
     "text": [
      "Warning message:\n",
      "\"cannot remove prior installation of package 'glue'\"Warning message in file.copy(savedcopy, lib, recursive = TRUE):\n",
      "\"problem copying C:\\Users\\Aman\\anaconda3\\envs\\Test\\Lib\\R\\library\\00LOCK\\glue\\libs\\x64\\glue.dll to C:\\Users\\Aman\\anaconda3\\envs\\Test\\Lib\\R\\library\\glue\\libs\\x64\\glue.dll: Permission denied\"Warning message:\n",
      "\"restored 'glue'\""
     ]
    },
    {
     "name": "stdout",
     "output_type": "stream",
     "text": [
      "package 'rlang' successfully unpacked and MD5 sums checked\n"
     ]
    },
    {
     "name": "stderr",
     "output_type": "stream",
     "text": [
      "Warning message:\n",
      "\"cannot remove prior installation of package 'rlang'\"Warning message in file.copy(savedcopy, lib, recursive = TRUE):\n",
      "\"problem copying C:\\Users\\Aman\\anaconda3\\envs\\Test\\Lib\\R\\library\\00LOCK\\rlang\\libs\\x64\\rlang.dll to C:\\Users\\Aman\\anaconda3\\envs\\Test\\Lib\\R\\library\\rlang\\libs\\x64\\rlang.dll: Permission denied\"Warning message:\n",
      "\"restored 'rlang'\""
     ]
    },
    {
     "name": "stdout",
     "output_type": "stream",
     "text": [
      "package 'tibble' successfully unpacked and MD5 sums checked\n"
     ]
    },
    {
     "name": "stderr",
     "output_type": "stream",
     "text": [
      "Warning message:\n",
      "\"cannot remove prior installation of package 'tibble'\"Warning message in file.copy(savedcopy, lib, recursive = TRUE):\n",
      "\"problem copying C:\\Users\\Aman\\anaconda3\\envs\\Test\\Lib\\R\\library\\00LOCK\\tibble\\libs\\x64\\tibble.dll to C:\\Users\\Aman\\anaconda3\\envs\\Test\\Lib\\R\\library\\tibble\\libs\\x64\\tibble.dll: Permission denied\"Warning message:\n",
      "\"restored 'tibble'\""
     ]
    },
    {
     "name": "stdout",
     "output_type": "stream",
     "text": [
      "package 'tidyselect' successfully unpacked and MD5 sums checked\n"
     ]
    },
    {
     "name": "stderr",
     "output_type": "stream",
     "text": [
      "Warning message:\n",
      "\"cannot remove prior installation of package 'tidyselect'\"Warning message in file.copy(savedcopy, lib, recursive = TRUE):\n",
      "\"problem copying C:\\Users\\Aman\\anaconda3\\envs\\Test\\Lib\\R\\library\\00LOCK\\tidyselect\\libs\\x64\\tidyselect.dll to C:\\Users\\Aman\\anaconda3\\envs\\Test\\Lib\\R\\library\\tidyselect\\libs\\x64\\tidyselect.dll: Permission denied\"Warning message:\n",
      "\"restored 'tidyselect'\""
     ]
    },
    {
     "name": "stdout",
     "output_type": "stream",
     "text": [
      "package 'dplyr' successfully unpacked and MD5 sums checked\n"
     ]
    },
    {
     "name": "stderr",
     "output_type": "stream",
     "text": [
      "Warning message:\n",
      "\"cannot remove prior installation of package 'dplyr'\"Warning message in file.copy(savedcopy, lib, recursive = TRUE):\n",
      "\"problem copying C:\\Users\\Aman\\anaconda3\\envs\\Test\\Lib\\R\\library\\00LOCK\\dplyr\\libs\\x64\\dplyr.dll to C:\\Users\\Aman\\anaconda3\\envs\\Test\\Lib\\R\\library\\dplyr\\libs\\x64\\dplyr.dll: Permission denied\"Warning message:\n",
      "\"restored 'dplyr'\""
     ]
    },
    {
     "name": "stdout",
     "output_type": "stream",
     "text": [
      "\n",
      "The downloaded binary packages are in\n",
      "\tC:\\Users\\Aman\\AppData\\Local\\Temp\\RtmpkLLibB\\downloaded_packages\n"
     ]
    },
    {
     "name": "stderr",
     "output_type": "stream",
     "text": [
      "installing the source package 'pillar'\n",
      "\n",
      "Warning message in install.packages(\"dplyr\"):\n",
      "\"installation of package 'pillar' had non-zero exit status\""
     ]
    },
    {
     "name": "stdout",
     "output_type": "stream",
     "text": [
      "\n",
      "  There is a binary version available (and will be installed) but the\n",
      "  source version is later:\n",
      "      binary source\n",
      "broom  0.7.6 0.7.12\n",
      "\n"
     ]
    },
    {
     "name": "stderr",
     "output_type": "stream",
     "text": [
      "also installing the dependencies 'glue', 'rlang', 'tidyselect', 'dplyr', 'tibble', 'tidyr'\n",
      "\n"
     ]
    },
    {
     "name": "stdout",
     "output_type": "stream",
     "text": [
      "package 'glue' successfully unpacked and MD5 sums checked\n"
     ]
    },
    {
     "name": "stderr",
     "output_type": "stream",
     "text": [
      "Warning message:\n",
      "\"cannot remove prior installation of package 'glue'\"Warning message in file.copy(savedcopy, lib, recursive = TRUE):\n",
      "\"problem copying C:\\Users\\Aman\\anaconda3\\envs\\Test\\Lib\\R\\library\\00LOCK\\glue\\libs\\x64\\glue.dll to C:\\Users\\Aman\\anaconda3\\envs\\Test\\Lib\\R\\library\\glue\\libs\\x64\\glue.dll: Permission denied\"Warning message:\n",
      "\"restored 'glue'\""
     ]
    },
    {
     "name": "stdout",
     "output_type": "stream",
     "text": [
      "package 'rlang' successfully unpacked and MD5 sums checked\n"
     ]
    },
    {
     "name": "stderr",
     "output_type": "stream",
     "text": [
      "Warning message:\n",
      "\"cannot remove prior installation of package 'rlang'\"Warning message in file.copy(savedcopy, lib, recursive = TRUE):\n",
      "\"problem copying C:\\Users\\Aman\\anaconda3\\envs\\Test\\Lib\\R\\library\\00LOCK\\rlang\\libs\\x64\\rlang.dll to C:\\Users\\Aman\\anaconda3\\envs\\Test\\Lib\\R\\library\\rlang\\libs\\x64\\rlang.dll: Permission denied\"Warning message:\n",
      "\"restored 'rlang'\""
     ]
    },
    {
     "name": "stdout",
     "output_type": "stream",
     "text": [
      "package 'tidyselect' successfully unpacked and MD5 sums checked\n"
     ]
    },
    {
     "name": "stderr",
     "output_type": "stream",
     "text": [
      "Warning message:\n",
      "\"cannot remove prior installation of package 'tidyselect'\"Warning message in file.copy(savedcopy, lib, recursive = TRUE):\n",
      "\"problem copying C:\\Users\\Aman\\anaconda3\\envs\\Test\\Lib\\R\\library\\00LOCK\\tidyselect\\libs\\x64\\tidyselect.dll to C:\\Users\\Aman\\anaconda3\\envs\\Test\\Lib\\R\\library\\tidyselect\\libs\\x64\\tidyselect.dll: Permission denied\"Warning message:\n",
      "\"restored 'tidyselect'\""
     ]
    },
    {
     "name": "stdout",
     "output_type": "stream",
     "text": [
      "package 'dplyr' successfully unpacked and MD5 sums checked\n"
     ]
    },
    {
     "name": "stderr",
     "output_type": "stream",
     "text": [
      "Warning message:\n",
      "\"cannot remove prior installation of package 'dplyr'\"Warning message in file.copy(savedcopy, lib, recursive = TRUE):\n",
      "\"problem copying C:\\Users\\Aman\\anaconda3\\envs\\Test\\Lib\\R\\library\\00LOCK\\dplyr\\libs\\x64\\dplyr.dll to C:\\Users\\Aman\\anaconda3\\envs\\Test\\Lib\\R\\library\\dplyr\\libs\\x64\\dplyr.dll: Permission denied\"Warning message:\n",
      "\"restored 'dplyr'\""
     ]
    },
    {
     "name": "stdout",
     "output_type": "stream",
     "text": [
      "package 'tibble' successfully unpacked and MD5 sums checked\n"
     ]
    },
    {
     "name": "stderr",
     "output_type": "stream",
     "text": [
      "Warning message:\n",
      "\"cannot remove prior installation of package 'tibble'\"Warning message in file.copy(savedcopy, lib, recursive = TRUE):\n",
      "\"problem copying C:\\Users\\Aman\\anaconda3\\envs\\Test\\Lib\\R\\library\\00LOCK\\tibble\\libs\\x64\\tibble.dll to C:\\Users\\Aman\\anaconda3\\envs\\Test\\Lib\\R\\library\\tibble\\libs\\x64\\tibble.dll: Permission denied\"Warning message:\n",
      "\"restored 'tibble'\""
     ]
    },
    {
     "name": "stdout",
     "output_type": "stream",
     "text": [
      "package 'tidyr' successfully unpacked and MD5 sums checked\n"
     ]
    },
    {
     "name": "stderr",
     "output_type": "stream",
     "text": [
      "Warning message:\n",
      "\"cannot remove prior installation of package 'tidyr'\"Warning message in file.copy(savedcopy, lib, recursive = TRUE):\n",
      "\"problem copying C:\\Users\\Aman\\anaconda3\\envs\\Test\\Lib\\R\\library\\00LOCK\\tidyr\\libs\\x64\\tidyr.dll to C:\\Users\\Aman\\anaconda3\\envs\\Test\\Lib\\R\\library\\tidyr\\libs\\x64\\tidyr.dll: Permission denied\"Warning message:\n",
      "\"restored 'tidyr'\""
     ]
    },
    {
     "name": "stdout",
     "output_type": "stream",
     "text": [
      "package 'broom' successfully unpacked and MD5 sums checked\n",
      "\n",
      "The downloaded binary packages are in\n",
      "\tC:\\Users\\Aman\\AppData\\Local\\Temp\\RtmpkLLibB\\downloaded_packages\n"
     ]
    }
   ],
   "source": [
    "install.packages(\"Rcpp\")\n",
    "install.packages(\"plotly\")\n",
    "install.packages(\"dplyr\")\n",
    "install.packages(\"broom\", type=\"binary\")"
   ]
  },
  {
   "cell_type": "code",
   "execution_count": 76,
   "id": "95b1c112",
   "metadata": {},
   "outputs": [
    {
     "name": "stderr",
     "output_type": "stream",
     "text": [
      "also installing the dependencies 'xfun', 'glue', 'tidyselect', 'cli', 'gargle', 'vroom', 'knitr', 'pillar', 'dplyr', 'dtplyr', 'googledrive', 'googlesheets4', 'ggplot2', 'haven', 'hms', 'jsonlite', 'lubridate', 'purrr', 'readr', 'reprex', 'rlang', 'rvest', 'tibble', 'tidyr', 'xml2'\n",
      "\n"
     ]
    },
    {
     "name": "stdout",
     "output_type": "stream",
     "text": [
      "\n",
      "  There are binary versions available but the source versions are later:\n",
      "              binary source needs_compilation\n",
      "xfun            0.22   0.29              TRUE\n",
      "glue           1.4.2  1.6.1              TRUE\n",
      "cli            2.5.0  3.1.1              TRUE\n",
      "gargle         1.1.0  1.2.0             FALSE\n",
      "vroom          1.4.0  1.5.7              TRUE\n",
      "knitr           1.33   1.37             FALSE\n",
      "pillar         1.6.0  1.7.0             FALSE\n",
      "dplyr          1.0.6  1.0.7              TRUE\n",
      "dtplyr         1.1.0  1.2.1             FALSE\n",
      "googledrive    1.0.1  2.0.0             FALSE\n",
      "googlesheets4  0.3.0  1.0.0             FALSE\n",
      "ggplot2        3.3.3  3.3.5             FALSE\n",
      "haven          2.4.1  2.4.3              TRUE\n",
      "hms            1.0.0  1.1.1             FALSE\n",
      "jsonlite       1.7.2  1.7.3              TRUE\n",
      "lubridate     1.7.10  1.8.0              TRUE\n",
      "readr          1.4.0  2.1.2              TRUE\n",
      "reprex         2.0.0  2.0.1             FALSE\n",
      "rlang         0.4.11  1.0.1              TRUE\n",
      "rvest          1.0.0  1.0.2             FALSE\n",
      "tibble         3.1.1  3.1.6              TRUE\n",
      "tidyr          1.1.3  1.2.0              TRUE\n",
      "xml2           1.3.2  1.3.3              TRUE\n",
      "\n",
      "  Binaries will be installed\n",
      "package 'xfun' successfully unpacked and MD5 sums checked\n",
      "package 'glue' successfully unpacked and MD5 sums checked\n"
     ]
    },
    {
     "name": "stderr",
     "output_type": "stream",
     "text": [
      "Warning message:\n",
      "\"cannot remove prior installation of package 'glue'\"Warning message in file.copy(savedcopy, lib, recursive = TRUE):\n",
      "\"problem copying C:\\Users\\Aman\\anaconda3\\envs\\Test\\Lib\\R\\library\\00LOCK\\glue\\libs\\x64\\glue.dll to C:\\Users\\Aman\\anaconda3\\envs\\Test\\Lib\\R\\library\\glue\\libs\\x64\\glue.dll: Permission denied\"Warning message:\n",
      "\"restored 'glue'\""
     ]
    },
    {
     "name": "stdout",
     "output_type": "stream",
     "text": [
      "package 'tidyselect' successfully unpacked and MD5 sums checked\n"
     ]
    },
    {
     "name": "stderr",
     "output_type": "stream",
     "text": [
      "Warning message:\n",
      "\"cannot remove prior installation of package 'tidyselect'\"Warning message in file.copy(savedcopy, lib, recursive = TRUE):\n",
      "\"problem copying C:\\Users\\Aman\\anaconda3\\envs\\Test\\Lib\\R\\library\\00LOCK\\tidyselect\\libs\\x64\\tidyselect.dll to C:\\Users\\Aman\\anaconda3\\envs\\Test\\Lib\\R\\library\\tidyselect\\libs\\x64\\tidyselect.dll: Permission denied\"Warning message:\n",
      "\"restored 'tidyselect'\""
     ]
    },
    {
     "name": "stdout",
     "output_type": "stream",
     "text": [
      "package 'cli' successfully unpacked and MD5 sums checked\n",
      "package 'vroom' successfully unpacked and MD5 sums checked\n",
      "package 'dplyr' successfully unpacked and MD5 sums checked\n"
     ]
    },
    {
     "name": "stderr",
     "output_type": "stream",
     "text": [
      "Warning message:\n",
      "\"cannot remove prior installation of package 'dplyr'\"Warning message in file.copy(savedcopy, lib, recursive = TRUE):\n",
      "\"problem copying C:\\Users\\Aman\\anaconda3\\envs\\Test\\Lib\\R\\library\\00LOCK\\dplyr\\libs\\x64\\dplyr.dll to C:\\Users\\Aman\\anaconda3\\envs\\Test\\Lib\\R\\library\\dplyr\\libs\\x64\\dplyr.dll: Permission denied\"Warning message:\n",
      "\"restored 'dplyr'\""
     ]
    },
    {
     "name": "stdout",
     "output_type": "stream",
     "text": [
      "package 'haven' successfully unpacked and MD5 sums checked\n"
     ]
    },
    {
     "name": "stderr",
     "output_type": "stream",
     "text": [
      "Warning message:\n",
      "\"cannot remove prior installation of package 'haven'\"Warning message in file.copy(savedcopy, lib, recursive = TRUE):\n",
      "\"problem copying C:\\Users\\Aman\\anaconda3\\envs\\Test\\Lib\\R\\library\\00LOCK\\haven\\libs\\x64\\haven.dll to C:\\Users\\Aman\\anaconda3\\envs\\Test\\Lib\\R\\library\\haven\\libs\\x64\\haven.dll: Permission denied\"Warning message:\n",
      "\"restored 'haven'\""
     ]
    },
    {
     "name": "stdout",
     "output_type": "stream",
     "text": [
      "package 'jsonlite' successfully unpacked and MD5 sums checked\n"
     ]
    },
    {
     "name": "stderr",
     "output_type": "stream",
     "text": [
      "Warning message:\n",
      "\"cannot remove prior installation of package 'jsonlite'\"Warning message in file.copy(savedcopy, lib, recursive = TRUE):\n",
      "\"problem copying C:\\Users\\Aman\\anaconda3\\envs\\Test\\Lib\\R\\library\\00LOCK\\jsonlite\\libs\\x64\\jsonlite.dll to C:\\Users\\Aman\\anaconda3\\envs\\Test\\Lib\\R\\library\\jsonlite\\libs\\x64\\jsonlite.dll: Permission denied\"Warning message:\n",
      "\"restored 'jsonlite'\""
     ]
    },
    {
     "name": "stdout",
     "output_type": "stream",
     "text": [
      "package 'lubridate' successfully unpacked and MD5 sums checked\n"
     ]
    },
    {
     "name": "stderr",
     "output_type": "stream",
     "text": [
      "Warning message:\n",
      "\"cannot remove prior installation of package 'lubridate'\"Warning message in file.copy(savedcopy, lib, recursive = TRUE):\n",
      "\"problem copying C:\\Users\\Aman\\anaconda3\\envs\\Test\\Lib\\R\\library\\00LOCK\\lubridate\\libs\\x64\\lubridate.dll to C:\\Users\\Aman\\anaconda3\\envs\\Test\\Lib\\R\\library\\lubridate\\libs\\x64\\lubridate.dll: Permission denied\"Warning message:\n",
      "\"restored 'lubridate'\""
     ]
    },
    {
     "name": "stdout",
     "output_type": "stream",
     "text": [
      "package 'purrr' successfully unpacked and MD5 sums checked\n"
     ]
    },
    {
     "name": "stderr",
     "output_type": "stream",
     "text": [
      "Warning message:\n",
      "\"cannot remove prior installation of package 'purrr'\"Warning message in file.copy(savedcopy, lib, recursive = TRUE):\n",
      "\"problem copying C:\\Users\\Aman\\anaconda3\\envs\\Test\\Lib\\R\\library\\00LOCK\\purrr\\libs\\x64\\purrr.dll to C:\\Users\\Aman\\anaconda3\\envs\\Test\\Lib\\R\\library\\purrr\\libs\\x64\\purrr.dll: Permission denied\"Warning message:\n",
      "\"restored 'purrr'\""
     ]
    },
    {
     "name": "stdout",
     "output_type": "stream",
     "text": [
      "package 'readr' successfully unpacked and MD5 sums checked\n"
     ]
    },
    {
     "name": "stderr",
     "output_type": "stream",
     "text": [
      "Warning message:\n",
      "\"cannot remove prior installation of package 'readr'\"Warning message in file.copy(savedcopy, lib, recursive = TRUE):\n",
      "\"problem copying C:\\Users\\Aman\\anaconda3\\envs\\Test\\Lib\\R\\library\\00LOCK\\readr\\libs\\x64\\librcon.lib to C:\\Users\\Aman\\anaconda3\\envs\\Test\\Lib\\R\\library\\readr\\libs\\x64\\librcon.lib: Permission denied\"Warning message in file.copy(savedcopy, lib, recursive = TRUE):\n",
      "\"problem copying C:\\Users\\Aman\\anaconda3\\envs\\Test\\Lib\\R\\library\\00LOCK\\readr\\libs\\x64\\readr.dll to C:\\Users\\Aman\\anaconda3\\envs\\Test\\Lib\\R\\library\\readr\\libs\\x64\\readr.dll: Permission denied\"Warning message:\n",
      "\"restored 'readr'\""
     ]
    },
    {
     "name": "stdout",
     "output_type": "stream",
     "text": [
      "package 'rlang' successfully unpacked and MD5 sums checked\n"
     ]
    },
    {
     "name": "stderr",
     "output_type": "stream",
     "text": [
      "Warning message:\n",
      "\"cannot remove prior installation of package 'rlang'\"Warning message in file.copy(savedcopy, lib, recursive = TRUE):\n",
      "\"problem copying C:\\Users\\Aman\\anaconda3\\envs\\Test\\Lib\\R\\library\\00LOCK\\rlang\\libs\\x64\\rlang.dll to C:\\Users\\Aman\\anaconda3\\envs\\Test\\Lib\\R\\library\\rlang\\libs\\x64\\rlang.dll: Permission denied\"Warning message:\n",
      "\"restored 'rlang'\""
     ]
    },
    {
     "name": "stdout",
     "output_type": "stream",
     "text": [
      "package 'tibble' successfully unpacked and MD5 sums checked\n"
     ]
    },
    {
     "name": "stderr",
     "output_type": "stream",
     "text": [
      "Warning message:\n",
      "\"cannot remove prior installation of package 'tibble'\"Warning message in file.copy(savedcopy, lib, recursive = TRUE):\n",
      "\"problem copying C:\\Users\\Aman\\anaconda3\\envs\\Test\\Lib\\R\\library\\00LOCK\\tibble\\libs\\x64\\tibble.dll to C:\\Users\\Aman\\anaconda3\\envs\\Test\\Lib\\R\\library\\tibble\\libs\\x64\\tibble.dll: Permission denied\"Warning message:\n",
      "\"restored 'tibble'\""
     ]
    },
    {
     "name": "stdout",
     "output_type": "stream",
     "text": [
      "package 'tidyr' successfully unpacked and MD5 sums checked\n"
     ]
    },
    {
     "name": "stderr",
     "output_type": "stream",
     "text": [
      "Warning message:\n",
      "\"cannot remove prior installation of package 'tidyr'\"Warning message in file.copy(savedcopy, lib, recursive = TRUE):\n",
      "\"problem copying C:\\Users\\Aman\\anaconda3\\envs\\Test\\Lib\\R\\library\\00LOCK\\tidyr\\libs\\x64\\tidyr.dll to C:\\Users\\Aman\\anaconda3\\envs\\Test\\Lib\\R\\library\\tidyr\\libs\\x64\\tidyr.dll: Permission denied\"Warning message:\n",
      "\"restored 'tidyr'\""
     ]
    },
    {
     "name": "stdout",
     "output_type": "stream",
     "text": [
      "package 'xml2' successfully unpacked and MD5 sums checked\n"
     ]
    },
    {
     "name": "stderr",
     "output_type": "stream",
     "text": [
      "Warning message:\n",
      "\"cannot remove prior installation of package 'xml2'\"Warning message in file.copy(savedcopy, lib, recursive = TRUE):\n",
      "\"problem copying C:\\Users\\Aman\\anaconda3\\envs\\Test\\Lib\\R\\library\\00LOCK\\xml2\\libs\\x64\\xml2.dll to C:\\Users\\Aman\\anaconda3\\envs\\Test\\Lib\\R\\library\\xml2\\libs\\x64\\xml2.dll: Permission denied\"Warning message:\n",
      "\"restored 'xml2'\""
     ]
    },
    {
     "name": "stdout",
     "output_type": "stream",
     "text": [
      "package 'tidyverse' successfully unpacked and MD5 sums checked\n",
      "\n",
      "The downloaded binary packages are in\n",
      "\tC:\\Users\\Aman\\AppData\\Local\\Temp\\RtmpkLLibB\\downloaded_packages\n"
     ]
    },
    {
     "name": "stderr",
     "output_type": "stream",
     "text": [
      "installing the source packages 'gargle', 'knitr', 'pillar', 'dtplyr', 'googledrive', 'googlesheets4', 'ggplot2', 'hms', 'reprex', 'rvest'\n",
      "\n",
      "Warning message in install.packages(\"tidyverse\"):\n",
      "\"installation of package 'gargle' had non-zero exit status\"Warning message in install.packages(\"tidyverse\"):\n",
      "\"installation of package 'knitr' had non-zero exit status\"Warning message in install.packages(\"tidyverse\"):\n",
      "\"installation of package 'pillar' had non-zero exit status\"Warning message in install.packages(\"tidyverse\"):\n",
      "\"installation of package 'dtplyr' had non-zero exit status\"Warning message in install.packages(\"tidyverse\"):\n",
      "\"installation of package 'ggplot2' had non-zero exit status\"Warning message in install.packages(\"tidyverse\"):\n",
      "\"installation of package 'hms' had non-zero exit status\"Warning message in install.packages(\"tidyverse\"):\n",
      "\"installation of package 'rvest' had non-zero exit status\"Warning message in install.packages(\"tidyverse\"):\n",
      "\"installation of package 'googledrive' had non-zero exit status\"Warning message in install.packages(\"tidyverse\"):\n",
      "\"installation of package 'reprex' had non-zero exit status\"Warning message in install.packages(\"tidyverse\"):\n",
      "\"installation of package 'googlesheets4' had non-zero exit status\"Warning message:\n",
      "\"package 'tidyverse' was built under R version 3.6.3\""
     ]
    },
    {
     "ename": "ERROR",
     "evalue": "Error: package or namespace load failed for 'tidyverse' in loadNamespace(i, c(lib.loc, .libPaths()), versionCheck = vI[[i]]):\n namespace 'dplyr' 0.8.0.1 is being loaded, but >= 1.0.0 is required\n",
     "output_type": "error",
     "traceback": [
      "Error: package or namespace load failed for 'tidyverse' in loadNamespace(i, c(lib.loc, .libPaths()), versionCheck = vI[[i]]):\n namespace 'dplyr' 0.8.0.1 is being loaded, but >= 1.0.0 is required\nTraceback:\n",
      "1. library(tidyverse)",
      "2. tryCatch({\n .     attr(package, \"LibPath\") <- which.lib.loc\n .     ns <- loadNamespace(package, lib.loc)\n .     env <- attachNamespace(ns, pos = pos, deps, exclude, include.only)\n . }, error = function(e) {\n .     P <- if (!is.null(cc <- conditionCall(e))) \n .         paste(\" in\", deparse(cc)[1L])\n .     else \"\"\n .     msg <- gettextf(\"package or namespace load failed for %s%s:\\n %s\", \n .         sQuote(package), P, conditionMessage(e))\n .     if (logical.return) \n .         message(paste(\"Error:\", msg), domain = NA)\n .     else stop(msg, call. = FALSE, domain = NA)\n . })",
      "3. tryCatchList(expr, classes, parentenv, handlers)",
      "4. tryCatchOne(expr, names, parentenv, handlers[[1L]])",
      "5. value[[3L]](cond)",
      "6. stop(msg, call. = FALSE, domain = NA)"
     ]
    }
   ],
   "source": [
    "install.packages(\"tidyverse\")\n",
    "library(tidyverse)"
   ]
  },
  {
   "cell_type": "code",
   "execution_count": 46,
   "id": "eb3962d9",
   "metadata": {},
   "outputs": [],
   "source": [
    "url.data <- \"https://raw.githubusercontent.com/fivethirtyeight/superbowl-ads/main/superbowl-ads.csv\"\n",
    "\n",
    "raw <- read.csv(url(url.data), header = TRUE,) "
   ]
  },
  {
   "cell_type": "code",
   "execution_count": 47,
   "id": "1412e087",
   "metadata": {},
   "outputs": [
    {
     "data": {
      "text/html": [
       "<table>\n",
       "<thead><tr><th scope=col>year</th><th scope=col>brand</th><th scope=col>superbowl_ads_dot_com_url</th><th scope=col>youtube_url</th><th scope=col>funny</th><th scope=col>show_product_quickly</th><th scope=col>patriotic</th><th scope=col>celebrity</th><th scope=col>danger</th><th scope=col>animals</th><th scope=col>use_sex</th></tr></thead>\n",
       "<tbody>\n",
       "\t<tr><td>2018                                                                </td><td>Toyota                                                              </td><td>https://superbowl-ads.com/good-odds-toyota/                         </td><td>https://www.youtube.com/watch?v=zeBZvwYQ-hA                         </td><td>False                                                               </td><td>False                                                               </td><td>False                                                               </td><td>False                                                               </td><td>False                                                               </td><td>False                                                               </td><td>False                                                               </td></tr>\n",
       "\t<tr><td>2020                                                                </td><td>Bud Light                                                           </td><td>https://superbowl-ads.com/2020-bud-light-seltzer-inside-posts-brain/</td><td>https://www.youtube.com/watch?v=nbbp0VW7z8w                         </td><td>True                                                                </td><td>True                                                                </td><td>False                                                               </td><td>True                                                                </td><td>True                                                                </td><td>False                                                               </td><td>False                                                               </td></tr>\n",
       "\t<tr><td>2006                                                                </td><td>Bud Light                                                           </td><td>https://superbowl-ads.com/2006-bud-light-bear-attack/               </td><td>https://www.youtube.com/watch?v=yk0MQD5YgV8                         </td><td>True                                                                </td><td>False                                                               </td><td>False                                                               </td><td>False                                                               </td><td>True                                                                </td><td>True                                                                </td><td>False                                                               </td></tr>\n",
       "\t<tr><td>2018                                                                </td><td>Hynudai                                                             </td><td>https://superbowl-ads.com/hope-detector-nfl-super-bowl-lii-hyundai/ </td><td>https://www.youtube.com/watch?v=lNPccrGk77A                         </td><td>False                                                               </td><td>True                                                                </td><td>False                                                               </td><td>False                                                               </td><td>False                                                               </td><td>False                                                               </td><td>False                                                               </td></tr>\n",
       "\t<tr><td>2003                                                                </td><td>Bud Light                                                           </td><td>https://superbowl-ads.com/2003-bud-light-hermit-crab/               </td><td>https://www.youtube.com/watch?v=ovQYgnXHooY                         </td><td>True                                                                </td><td>True                                                                </td><td>False                                                               </td><td>False                                                               </td><td>True                                                                </td><td>True                                                                </td><td>True                                                                </td></tr>\n",
       "\t<tr><td>2020                                                                </td><td>Toyota                                                              </td><td>https://superbowl-ads.com/2020-toyota-go-places-with-cobie-smulders/</td><td>https://www.youtube.com/watch?v=f34Ji70u3nk                         </td><td>True                                                                </td><td>True                                                                </td><td>False                                                               </td><td>True                                                                </td><td>True                                                                </td><td>True                                                                </td><td>False                                                               </td></tr>\n",
       "</tbody>\n",
       "</table>\n"
      ],
      "text/latex": [
       "\\begin{tabular}{r|lllllllllll}\n",
       " year & brand & superbowl\\_ads\\_dot\\_com\\_url & youtube\\_url & funny & show\\_product\\_quickly & patriotic & celebrity & danger & animals & use\\_sex\\\\\n",
       "\\hline\n",
       "\t 2018                                                                 & Toyota                                                               & https://superbowl-ads.com/good-odds-toyota/                          & https://www.youtube.com/watch?v=zeBZvwYQ-hA                          & False                                                                & False                                                                & False                                                                & False                                                                & False                                                                & False                                                                & False                                                               \\\\\n",
       "\t 2020                                                                 & Bud Light                                                            & https://superbowl-ads.com/2020-bud-light-seltzer-inside-posts-brain/ & https://www.youtube.com/watch?v=nbbp0VW7z8w                          & True                                                                 & True                                                                 & False                                                                & True                                                                 & True                                                                 & False                                                                & False                                                               \\\\\n",
       "\t 2006                                                                 & Bud Light                                                            & https://superbowl-ads.com/2006-bud-light-bear-attack/                & https://www.youtube.com/watch?v=yk0MQD5YgV8                          & True                                                                 & False                                                                & False                                                                & False                                                                & True                                                                 & True                                                                 & False                                                               \\\\\n",
       "\t 2018                                                                 & Hynudai                                                              & https://superbowl-ads.com/hope-detector-nfl-super-bowl-lii-hyundai/  & https://www.youtube.com/watch?v=lNPccrGk77A                          & False                                                                & True                                                                 & False                                                                & False                                                                & False                                                                & False                                                                & False                                                               \\\\\n",
       "\t 2003                                                                 & Bud Light                                                            & https://superbowl-ads.com/2003-bud-light-hermit-crab/                & https://www.youtube.com/watch?v=ovQYgnXHooY                          & True                                                                 & True                                                                 & False                                                                & False                                                                & True                                                                 & True                                                                 & True                                                                \\\\\n",
       "\t 2020                                                                 & Toyota                                                               & https://superbowl-ads.com/2020-toyota-go-places-with-cobie-smulders/ & https://www.youtube.com/watch?v=f34Ji70u3nk                          & True                                                                 & True                                                                 & False                                                                & True                                                                 & True                                                                 & True                                                                 & False                                                               \\\\\n",
       "\\end{tabular}\n"
      ],
      "text/markdown": [
       "\n",
       "| year | brand | superbowl_ads_dot_com_url | youtube_url | funny | show_product_quickly | patriotic | celebrity | danger | animals | use_sex |\n",
       "|---|---|---|---|---|---|---|---|---|---|---|\n",
       "| 2018                                                                 | Toyota                                                               | https://superbowl-ads.com/good-odds-toyota/                          | https://www.youtube.com/watch?v=zeBZvwYQ-hA                          | False                                                                | False                                                                | False                                                                | False                                                                | False                                                                | False                                                                | False                                                                |\n",
       "| 2020                                                                 | Bud Light                                                            | https://superbowl-ads.com/2020-bud-light-seltzer-inside-posts-brain/ | https://www.youtube.com/watch?v=nbbp0VW7z8w                          | True                                                                 | True                                                                 | False                                                                | True                                                                 | True                                                                 | False                                                                | False                                                                |\n",
       "| 2006                                                                 | Bud Light                                                            | https://superbowl-ads.com/2006-bud-light-bear-attack/                | https://www.youtube.com/watch?v=yk0MQD5YgV8                          | True                                                                 | False                                                                | False                                                                | False                                                                | True                                                                 | True                                                                 | False                                                                |\n",
       "| 2018                                                                 | Hynudai                                                              | https://superbowl-ads.com/hope-detector-nfl-super-bowl-lii-hyundai/  | https://www.youtube.com/watch?v=lNPccrGk77A                          | False                                                                | True                                                                 | False                                                                | False                                                                | False                                                                | False                                                                | False                                                                |\n",
       "| 2003                                                                 | Bud Light                                                            | https://superbowl-ads.com/2003-bud-light-hermit-crab/                | https://www.youtube.com/watch?v=ovQYgnXHooY                          | True                                                                 | True                                                                 | False                                                                | False                                                                | True                                                                 | True                                                                 | True                                                                 |\n",
       "| 2020                                                                 | Toyota                                                               | https://superbowl-ads.com/2020-toyota-go-places-with-cobie-smulders/ | https://www.youtube.com/watch?v=f34Ji70u3nk                          | True                                                                 | True                                                                 | False                                                                | True                                                                 | True                                                                 | True                                                                 | False                                                                |\n",
       "\n"
      ],
      "text/plain": [
       "  year brand    \n",
       "1 2018 Toyota   \n",
       "2 2020 Bud Light\n",
       "3 2006 Bud Light\n",
       "4 2018 Hynudai  \n",
       "5 2003 Bud Light\n",
       "6 2020 Toyota   \n",
       "  superbowl_ads_dot_com_url                                           \n",
       "1 https://superbowl-ads.com/good-odds-toyota/                         \n",
       "2 https://superbowl-ads.com/2020-bud-light-seltzer-inside-posts-brain/\n",
       "3 https://superbowl-ads.com/2006-bud-light-bear-attack/               \n",
       "4 https://superbowl-ads.com/hope-detector-nfl-super-bowl-lii-hyundai/ \n",
       "5 https://superbowl-ads.com/2003-bud-light-hermit-crab/               \n",
       "6 https://superbowl-ads.com/2020-toyota-go-places-with-cobie-smulders/\n",
       "  youtube_url                                 funny show_product_quickly\n",
       "1 https://www.youtube.com/watch?v=zeBZvwYQ-hA False False               \n",
       "2 https://www.youtube.com/watch?v=nbbp0VW7z8w True  True                \n",
       "3 https://www.youtube.com/watch?v=yk0MQD5YgV8 True  False               \n",
       "4 https://www.youtube.com/watch?v=lNPccrGk77A False True                \n",
       "5 https://www.youtube.com/watch?v=ovQYgnXHooY True  True                \n",
       "6 https://www.youtube.com/watch?v=f34Ji70u3nk True  True                \n",
       "  patriotic celebrity danger animals use_sex\n",
       "1 False     False     False  False   False  \n",
       "2 False     True      True   False   False  \n",
       "3 False     False     True   True    False  \n",
       "4 False     False     False  False   False  \n",
       "5 False     False     True   True    True   \n",
       "6 False     True      True   True    False  "
      ]
     },
     "metadata": {},
     "output_type": "display_data"
    }
   ],
   "source": [
    "head(raw)"
   ]
  },
  {
   "cell_type": "code",
   "execution_count": 48,
   "id": "9303e6c9",
   "metadata": {},
   "outputs": [],
   "source": [
    "#This is the raw data from fivethirtyeight\n",
    "#Now we're going to augment it"
   ]
  },
  {
   "cell_type": "code",
   "execution_count": 143,
   "id": "691c07ad",
   "metadata": {},
   "outputs": [
    {
     "name": "stdout",
     "output_type": "stream",
     "text": [
      "[1] \"Connecting to remote server\"\n",
      "$acceptInsecureCerts\n",
      "[1] FALSE\n",
      "\n",
      "$browserName\n",
      "[1] \"chrome\"\n",
      "\n",
      "$browserVersion\n",
      "[1] \"89.0.4389.90\"\n",
      "\n",
      "$chrome\n",
      "$chrome$chromedriverVersion\n",
      "[1] \"89.0.4389.23 (61b08ee2c50024bab004e48d2b1b083cdbdac579-refs/branch-heads/4389@{#294})\"\n",
      "\n",
      "$chrome$userDataDir\n",
      "[1] \"/tmp/.com.google.Chrome.22UOqO\"\n",
      "\n",
      "\n",
      "$`goog:chromeOptions`\n",
      "$`goog:chromeOptions`$debuggerAddress\n",
      "[1] \"localhost:43395\"\n",
      "\n",
      "\n",
      "$networkConnectionEnabled\n",
      "[1] FALSE\n",
      "\n",
      "$pageLoadStrategy\n",
      "[1] \"normal\"\n",
      "\n",
      "$platformName\n",
      "[1] \"linux\"\n",
      "\n",
      "$proxy\n",
      "named list()\n",
      "\n",
      "$`se:cdp`\n",
      "[1] \"http://172.17.0.2:4444/session/d65f19bc6b02b0fd3d84752932897f00/se/cdp\"\n",
      "\n",
      "$setWindowRect\n",
      "[1] TRUE\n",
      "\n",
      "$strictFileInteractability\n",
      "[1] FALSE\n",
      "\n",
      "$timeouts\n",
      "$timeouts$implicit\n",
      "[1] 0\n",
      "\n",
      "$timeouts$pageLoad\n",
      "[1] 300000\n",
      "\n",
      "$timeouts$script\n",
      "[1] 30000\n",
      "\n",
      "\n",
      "$unhandledPromptBehavior\n",
      "[1] \"dismiss and notify\"\n",
      "\n",
      "$`webauthn:extension:largeBlob`\n",
      "[1] TRUE\n",
      "\n",
      "$`webauthn:virtualAuthenticators`\n",
      "[1] TRUE\n",
      "\n",
      "$id\n",
      "[1] \"d65f19bc6b02b0fd3d84752932897f00\"\n",
      "\n"
     ]
    }
   ],
   "source": [
    "if (Fresh_Computes && Fresh_Data){\n",
    "    remDr <- RSelenium::remoteDriver(remoteServerAddr = \"localhost\",\n",
    "                                 port = 4444,\n",
    "                                 browserName = \"chrome\")\n",
    "    remDr$open()\n",
    "}"
   ]
  },
  {
   "cell_type": "code",
   "execution_count": 140,
   "id": "ec1daa87",
   "metadata": {},
   "outputs": [
    {
     "name": "stdout",
     "output_type": "stream",
     "text": [
      "[1] \"https://www.youtube.com/watch?v=nbbp0VW7z8w\"\n"
     ]
    }
   ],
   "source": [
    "var <- as.character(raw$youtube[2])\n",
    "print(var)\n"
   ]
  },
  {
   "cell_type": "code",
   "execution_count": 126,
   "id": "b262335d",
   "metadata": {},
   "outputs": [],
   "source": [
    "if (Fresh_Computes && Fresh_Data && Dev_Checks){\n",
    "    remDr$navigate(\"https://www.youtube.com/watch?v=lNPccrGk77A\") #Entering our URL gets the browser to navigate to the page\n",
    "    remDr$screenshot(display = TRUE)\n",
    "}"
   ]
  },
  {
   "cell_type": "code",
   "execution_count": 127,
   "id": "d0770ced",
   "metadata": {},
   "outputs": [
    {
     "name": "stdout",
     "output_type": "stream",
     "text": [
      "[[1]]\n",
      "[1] \"234 views\"\n",
      "\n"
     ]
    }
   ],
   "source": [
    "webElem <- remDr$findElement(using = \"css selector\", \"[class='view-count style-scope ytd-video-view-count-renderer']\")\n",
    "view_number_text = webElem$getElementText()\n",
    "print(view_number_text[])"
   ]
  },
  {
   "cell_type": "code",
   "execution_count": 61,
   "id": "38911336",
   "metadata": {},
   "outputs": [
    {
     "name": "stdout",
     "output_type": "stream",
     "text": [
      "[[1]]\n",
      "[1] \"1,690,165 views\"\n",
      "\n",
      "[1] \"1690165 \"\n"
     ]
    }
   ],
   "source": [
    "\n",
    "if (Fresh_Computes && Fresh_Data){\n",
    "    webElem <- remDr$findElement(using = \"css\", \"[class='view-count style-scope ytd-video-view-count-renderer']\")\n",
    "    view_number_text = webElem$getElementText()\n",
    "    print(view_number_text)\n",
    "    view_number_text = gsub(\"views\", \"\", view_number_text)\n",
    "    view_number_text = gsub(\",\", \"\", view_number_text)\n",
    "    print(view_number_text)\n",
    "}"
   ]
  },
  {
   "cell_type": "code",
   "execution_count": 78,
   "id": "8e8a690e",
   "metadata": {},
   "outputs": [],
   "source": [
    "raw$Views <- \"NAN\""
   ]
  },
  {
   "cell_type": "code",
   "execution_count": 103,
   "id": "b79de856",
   "metadata": {},
   "outputs": [
    {
     "data": {
      "text/html": [
       "<table>\n",
       "<thead><tr><th scope=col>year</th><th scope=col>brand</th><th scope=col>superbowl_ads_dot_com_url</th><th scope=col>youtube_url</th><th scope=col>funny</th><th scope=col>show_product_quickly</th><th scope=col>patriotic</th><th scope=col>celebrity</th><th scope=col>danger</th><th scope=col>animals</th><th scope=col>use_sex</th><th scope=col>Views</th></tr></thead>\n",
       "<tbody>\n",
       "\t<tr><td>2018                                                                </td><td>Toyota                                                              </td><td>https://superbowl-ads.com/good-odds-toyota/                         </td><td>https://www.youtube.com/watch?v=zeBZvwYQ-hA                         </td><td>False                                                               </td><td>False                                                               </td><td>False                                                               </td><td>False                                                               </td><td>False                                                               </td><td>False                                                               </td><td>False                                                               </td><td>NAN                                                                 </td></tr>\n",
       "\t<tr><td>2020                                                                </td><td>Bud Light                                                           </td><td>https://superbowl-ads.com/2020-bud-light-seltzer-inside-posts-brain/</td><td>https://www.youtube.com/watch?v=nbbp0VW7z8w                         </td><td>True                                                                </td><td>True                                                                </td><td>False                                                               </td><td>True                                                                </td><td>True                                                                </td><td>False                                                               </td><td>False                                                               </td><td>NAN                                                                 </td></tr>\n",
       "\t<tr><td>2006                                                                </td><td>Bud Light                                                           </td><td>https://superbowl-ads.com/2006-bud-light-bear-attack/               </td><td>https://www.youtube.com/watch?v=yk0MQD5YgV8                         </td><td>True                                                                </td><td>False                                                               </td><td>False                                                               </td><td>False                                                               </td><td>True                                                                </td><td>True                                                                </td><td>False                                                               </td><td>NAN                                                                 </td></tr>\n",
       "\t<tr><td>2018                                                                </td><td>Hynudai                                                             </td><td>https://superbowl-ads.com/hope-detector-nfl-super-bowl-lii-hyundai/ </td><td>https://www.youtube.com/watch?v=lNPccrGk77A                         </td><td>False                                                               </td><td>True                                                                </td><td>False                                                               </td><td>False                                                               </td><td>False                                                               </td><td>False                                                               </td><td>False                                                               </td><td>NAN                                                                 </td></tr>\n",
       "\t<tr><td>2003                                                                </td><td>Bud Light                                                           </td><td>https://superbowl-ads.com/2003-bud-light-hermit-crab/               </td><td>https://www.youtube.com/watch?v=ovQYgnXHooY                         </td><td>True                                                                </td><td>True                                                                </td><td>False                                                               </td><td>False                                                               </td><td>True                                                                </td><td>True                                                                </td><td>True                                                                </td><td>NAN                                                                 </td></tr>\n",
       "\t<tr><td>2020                                                                </td><td>Toyota                                                              </td><td>https://superbowl-ads.com/2020-toyota-go-places-with-cobie-smulders/</td><td>https://www.youtube.com/watch?v=f34Ji70u3nk                         </td><td>True                                                                </td><td>True                                                                </td><td>False                                                               </td><td>True                                                                </td><td>True                                                                </td><td>True                                                                </td><td>False                                                               </td><td>NAN                                                                 </td></tr>\n",
       "</tbody>\n",
       "</table>\n"
      ],
      "text/latex": [
       "\\begin{tabular}{r|llllllllllll}\n",
       " year & brand & superbowl\\_ads\\_dot\\_com\\_url & youtube\\_url & funny & show\\_product\\_quickly & patriotic & celebrity & danger & animals & use\\_sex & Views\\\\\n",
       "\\hline\n",
       "\t 2018                                                                 & Toyota                                                               & https://superbowl-ads.com/good-odds-toyota/                          & https://www.youtube.com/watch?v=zeBZvwYQ-hA                          & False                                                                & False                                                                & False                                                                & False                                                                & False                                                                & False                                                                & False                                                                & NAN                                                                 \\\\\n",
       "\t 2020                                                                 & Bud Light                                                            & https://superbowl-ads.com/2020-bud-light-seltzer-inside-posts-brain/ & https://www.youtube.com/watch?v=nbbp0VW7z8w                          & True                                                                 & True                                                                 & False                                                                & True                                                                 & True                                                                 & False                                                                & False                                                                & NAN                                                                 \\\\\n",
       "\t 2006                                                                 & Bud Light                                                            & https://superbowl-ads.com/2006-bud-light-bear-attack/                & https://www.youtube.com/watch?v=yk0MQD5YgV8                          & True                                                                 & False                                                                & False                                                                & False                                                                & True                                                                 & True                                                                 & False                                                                & NAN                                                                 \\\\\n",
       "\t 2018                                                                 & Hynudai                                                              & https://superbowl-ads.com/hope-detector-nfl-super-bowl-lii-hyundai/  & https://www.youtube.com/watch?v=lNPccrGk77A                          & False                                                                & True                                                                 & False                                                                & False                                                                & False                                                                & False                                                                & False                                                                & NAN                                                                 \\\\\n",
       "\t 2003                                                                 & Bud Light                                                            & https://superbowl-ads.com/2003-bud-light-hermit-crab/                & https://www.youtube.com/watch?v=ovQYgnXHooY                          & True                                                                 & True                                                                 & False                                                                & False                                                                & True                                                                 & True                                                                 & True                                                                 & NAN                                                                 \\\\\n",
       "\t 2020                                                                 & Toyota                                                               & https://superbowl-ads.com/2020-toyota-go-places-with-cobie-smulders/ & https://www.youtube.com/watch?v=f34Ji70u3nk                          & True                                                                 & True                                                                 & False                                                                & True                                                                 & True                                                                 & True                                                                 & False                                                                & NAN                                                                 \\\\\n",
       "\\end{tabular}\n"
      ],
      "text/markdown": [
       "\n",
       "| year | brand | superbowl_ads_dot_com_url | youtube_url | funny | show_product_quickly | patriotic | celebrity | danger | animals | use_sex | Views |\n",
       "|---|---|---|---|---|---|---|---|---|---|---|---|\n",
       "| 2018                                                                 | Toyota                                                               | https://superbowl-ads.com/good-odds-toyota/                          | https://www.youtube.com/watch?v=zeBZvwYQ-hA                          | False                                                                | False                                                                | False                                                                | False                                                                | False                                                                | False                                                                | False                                                                | NAN                                                                  |\n",
       "| 2020                                                                 | Bud Light                                                            | https://superbowl-ads.com/2020-bud-light-seltzer-inside-posts-brain/ | https://www.youtube.com/watch?v=nbbp0VW7z8w                          | True                                                                 | True                                                                 | False                                                                | True                                                                 | True                                                                 | False                                                                | False                                                                | NAN                                                                  |\n",
       "| 2006                                                                 | Bud Light                                                            | https://superbowl-ads.com/2006-bud-light-bear-attack/                | https://www.youtube.com/watch?v=yk0MQD5YgV8                          | True                                                                 | False                                                                | False                                                                | False                                                                | True                                                                 | True                                                                 | False                                                                | NAN                                                                  |\n",
       "| 2018                                                                 | Hynudai                                                              | https://superbowl-ads.com/hope-detector-nfl-super-bowl-lii-hyundai/  | https://www.youtube.com/watch?v=lNPccrGk77A                          | False                                                                | True                                                                 | False                                                                | False                                                                | False                                                                | False                                                                | False                                                                | NAN                                                                  |\n",
       "| 2003                                                                 | Bud Light                                                            | https://superbowl-ads.com/2003-bud-light-hermit-crab/                | https://www.youtube.com/watch?v=ovQYgnXHooY                          | True                                                                 | True                                                                 | False                                                                | False                                                                | True                                                                 | True                                                                 | True                                                                 | NAN                                                                  |\n",
       "| 2020                                                                 | Toyota                                                               | https://superbowl-ads.com/2020-toyota-go-places-with-cobie-smulders/ | https://www.youtube.com/watch?v=f34Ji70u3nk                          | True                                                                 | True                                                                 | False                                                                | True                                                                 | True                                                                 | True                                                                 | False                                                                | NAN                                                                  |\n",
       "\n"
      ],
      "text/plain": [
       "  year brand    \n",
       "1 2018 Toyota   \n",
       "2 2020 Bud Light\n",
       "3 2006 Bud Light\n",
       "4 2018 Hynudai  \n",
       "5 2003 Bud Light\n",
       "6 2020 Toyota   \n",
       "  superbowl_ads_dot_com_url                                           \n",
       "1 https://superbowl-ads.com/good-odds-toyota/                         \n",
       "2 https://superbowl-ads.com/2020-bud-light-seltzer-inside-posts-brain/\n",
       "3 https://superbowl-ads.com/2006-bud-light-bear-attack/               \n",
       "4 https://superbowl-ads.com/hope-detector-nfl-super-bowl-lii-hyundai/ \n",
       "5 https://superbowl-ads.com/2003-bud-light-hermit-crab/               \n",
       "6 https://superbowl-ads.com/2020-toyota-go-places-with-cobie-smulders/\n",
       "  youtube_url                                 funny show_product_quickly\n",
       "1 https://www.youtube.com/watch?v=zeBZvwYQ-hA False False               \n",
       "2 https://www.youtube.com/watch?v=nbbp0VW7z8w True  True                \n",
       "3 https://www.youtube.com/watch?v=yk0MQD5YgV8 True  False               \n",
       "4 https://www.youtube.com/watch?v=lNPccrGk77A False True                \n",
       "5 https://www.youtube.com/watch?v=ovQYgnXHooY True  True                \n",
       "6 https://www.youtube.com/watch?v=f34Ji70u3nk True  True                \n",
       "  patriotic celebrity danger animals use_sex Views\n",
       "1 False     False     False  False   False   NAN  \n",
       "2 False     True      True   False   False   NAN  \n",
       "3 False     False     True   True    False   NAN  \n",
       "4 False     False     False  False   False   NAN  \n",
       "5 False     False     True   True    True    NAN  \n",
       "6 False     True      True   True    False   NAN  "
      ]
     },
     "metadata": {},
     "output_type": "display_data"
    }
   ],
   "source": [
    "head(raw)"
   ]
  },
  {
   "cell_type": "code",
   "execution_count": null,
   "id": "64a00cc0",
   "metadata": {},
   "outputs": [
    {
     "name": "stdout",
     "output_type": "stream",
     "text": [
      "                                  youtube_url\n",
      "1 https://www.youtube.com/watch?v=zeBZvwYQ-hA\n",
      "[1] \"185319 \"\n",
      "                                  youtube_url\n",
      "2 https://www.youtube.com/watch?v=nbbp0VW7z8w\n",
      "[1] \"78706 \"\n",
      "                                  youtube_url\n",
      "3 https://www.youtube.com/watch?v=yk0MQD5YgV8\n",
      "[1] \"142554 \"\n",
      "                                  youtube_url\n",
      "4 https://www.youtube.com/watch?v=lNPccrGk77A\n",
      "[1] \"235 \"\n",
      "                                  youtube_url\n",
      "5 https://www.youtube.com/watch?v=ovQYgnXHooY\n",
      "[1] \"13854 \"\n",
      "                                  youtube_url\n",
      "6 https://www.youtube.com/watch?v=f34Ji70u3nk\n",
      "[1] \"28042 \"\n",
      "                                  youtube_url\n",
      "7 https://www.youtube.com/watch?v=-gAZRN3SCBw\n",
      "[1] \"309384 \"\n",
      "                                  youtube_url\n",
      "8 https://www.youtube.com/watch?v=lMs79UXam9A\n",
      "[1] \"28514 \"\n",
      "                                  youtube_url\n",
      "9 https://www.youtube.com/watch?v=WBvkmWDjsYc\n",
      "[1] \"210227 \"\n",
      "                                   youtube_url\n",
      "10 https://www.youtube.com/watch?v=J0xugdotpp8\n",
      "[1] \"1817 \"\n",
      "                                   youtube_url\n",
      "11 https://www.youtube.com/watch?v=dWQqIeAYfK8\n",
      "[1] \"68681 \"\n",
      "                                   youtube_url\n",
      "12 https://www.youtube.com/watch?v=agISXMN4tng\n",
      "[1] \"3864 \"\n",
      "                                   youtube_url\n",
      "13 https://www.youtube.com/watch?v=7KHlMJE84eA\n",
      "[1] \"185140 \"\n",
      "                                   youtube_url\n",
      "14 https://www.youtube.com/watch?v=1MZUvib98Rs\n",
      "[1] \"149488 \"\n",
      "                                   youtube_url\n",
      "15 https://www.youtube.com/watch?v=lbkafMhmvMo\n",
      "[1] \"33775342 \"\n",
      "                                   youtube_url\n",
      "16 https://www.youtube.com/watch?v=9csH_Hy-7A4\n"
     ]
    },
    {
     "name": "stderr",
     "output_type": "stream",
     "text": [
      "\n",
      "Selenium message:no such element: Unable to locate element: {\"method\":\"css selector\",\"selector\":\"[class='view-count style-scope ytd-video-view-count-renderer']\"}\n",
      "  (Session info: chrome=89.0.4389.90)\n",
      "For documentation on this error, please visit: https://selenium.dev/exceptions/#no_such_element\n",
      "Build info: version: '4.0.0-beta-3', revision: '909239cd9f'\n",
      "System info: host: '7a0166dbe9c7', ip: '172.17.0.2', os.name: 'Linux', os.arch: 'amd64', os.version: '5.4.72-microsoft-standard-WSL2', java.version: '1.8.0_282'\n",
      "Driver info: driver.version: unknown\n",
      "\n"
     ]
    },
    {
     "name": "stdout",
     "output_type": "stream",
     "text": [
      "[1] \"I am here\"\n",
      "[1] \"I am here2\"\n",
      "[1] \"I am here2\"\n",
      "                                   youtube_url\n",
      "17 https://www.youtube.com/watch?v=-gTWA5AsTP8\n",
      "[1] \"9078 \"\n",
      "                                   youtube_url\n",
      "18 https://www.youtube.com/watch?v=qUZaSf7T7ig\n",
      "[1] \"131104 \"\n",
      "                                   youtube_url\n",
      "19 https://www.youtube.com/watch?v=mjN3OY9Eefk\n",
      "[1] \"4093 \"\n",
      "                                   youtube_url\n",
      "20 https://www.youtube.com/watch?v=6xVnq31Vk8Y\n",
      "[1] \"2151351 \"\n",
      "                                   youtube_url\n",
      "21 https://www.youtube.com/watch?v=aOfRpCp6Pgw\n",
      "[1] \"74765 \"\n",
      "                                   youtube_url\n",
      "22 https://www.youtube.com/watch?v=Ozb_fJB_z6o\n",
      "[1] \"34779 \"\n",
      "                                   youtube_url\n",
      "23 https://www.youtube.com/watch?v=6mfJ0EsqLWs\n",
      "[1] \"48616 \"\n",
      "                                   youtube_url\n",
      "24 https://www.youtube.com/watch?v=ukpnHh4eEeQ\n",
      "[1] \"307668 \"\n",
      "                                   youtube_url\n",
      "25 https://www.youtube.com/watch?v=8FMU5yPZgwM\n",
      "[1] \"37592 \"\n",
      "                                   youtube_url\n",
      "26 https://www.youtube.com/watch?v=NvIcPAxZ39o\n",
      "[1] \"66444 \"\n",
      "                                   youtube_url\n",
      "27 https://www.youtube.com/watch?v=64UH1_D95gQ\n",
      "[1] \"103642 \"\n",
      "                                   youtube_url\n",
      "28 https://www.youtube.com/watch?v=WTf0XGpINJI\n",
      "[1] \"4677 \"\n",
      "                                   youtube_url\n",
      "29 https://www.youtube.com/watch?v=sl8ooTIMk2w\n",
      "[1] \"82998 \"\n",
      "                                   youtube_url\n",
      "30 https://www.youtube.com/watch?v=Aw6-aXMBseo\n",
      "[1] \"114657 \"\n",
      "                                   youtube_url\n",
      "31 https://www.youtube.com/watch?v=I-_Uh-vZXgo\n",
      "[1] \"179593 \"\n",
      "                                   youtube_url\n",
      "32 https://www.youtube.com/watch?v=r_kXSO9Cph0\n",
      "[1] \"5386 \"\n",
      "                                   youtube_url\n",
      "33 https://www.youtube.com/watch?v=zE7wyUmsM0k\n",
      "[1] \"86165 \"\n",
      "                                   youtube_url\n",
      "34 https://www.youtube.com/watch?v=Muyq2kMDFoA\n",
      "[1] \"14490 \"\n",
      "                                   youtube_url\n",
      "35 https://www.youtube.com/watch?v=XJEYIR-Cai4\n",
      "[1] \"3646 \"\n",
      "                                   youtube_url\n",
      "36 https://www.youtube.com/watch?v=rZh_CbcVe7M\n",
      "[1] \"34906 \"\n",
      "                                   youtube_url\n",
      "37 https://www.youtube.com/watch?v=gtmJEt0w1k4\n",
      "[1] \"59231 \"\n",
      "                                   youtube_url\n",
      "38 https://www.youtube.com/watch?v=be5DH6jQs38\n",
      "[1] \"364 \"\n",
      "                                   youtube_url\n",
      "39 https://www.youtube.com/watch?v=YyKVvAZSAug\n",
      "[1] \"3746 \"\n",
      "                                   youtube_url\n",
      "40 https://www.youtube.com/watch?v=GzWUUZRli6s\n",
      "[1] \"181539 \"\n",
      "                                   youtube_url\n",
      "41 https://www.youtube.com/watch?v=9_dE6Z2HK8I\n",
      "[1] \"31554 \"\n",
      "                                   youtube_url\n",
      "42 https://www.youtube.com/watch?v=0gHYd67OumQ\n",
      "[1] \"743450 \"\n",
      "                                   youtube_url\n",
      "43 https://www.youtube.com/watch?v=KUoD-gPDahw\n"
     ]
    },
    {
     "name": "stderr",
     "output_type": "stream",
     "text": [
      "\n",
      "Selenium message:no such element: Unable to locate element: {\"method\":\"css selector\",\"selector\":\"[class='view-count style-scope ytd-video-view-count-renderer']\"}\n",
      "  (Session info: chrome=89.0.4389.90)\n",
      "For documentation on this error, please visit: https://selenium.dev/exceptions/#no_such_element\n",
      "Build info: version: '4.0.0-beta-3', revision: '909239cd9f'\n",
      "System info: host: '7a0166dbe9c7', ip: '172.17.0.2', os.name: 'Linux', os.arch: 'amd64', os.version: '5.4.72-microsoft-standard-WSL2', java.version: '1.8.0_282'\n",
      "Driver info: driver.version: unknown\n",
      "\n"
     ]
    },
    {
     "name": "stdout",
     "output_type": "stream",
     "text": [
      "[1] \"I am here\"\n",
      "[1] \"I am here2\"\n",
      "[1] \"I am here2\"\n",
      "                                   youtube_url\n",
      "44 https://www.youtube.com/watch?v=LgiYL1Ry2I8\n",
      "[1] \"15004 \"\n",
      "                                   youtube_url\n",
      "45 https://www.youtube.com/watch?v=pvKBdrx4quA\n",
      "[1] \"314868 \"\n",
      "                                   youtube_url\n",
      "46 https://www.youtube.com/watch?v=oftjwYmlfoA\n",
      "[1] \"73341 \"\n",
      "                                   youtube_url\n",
      "47 https://www.youtube.com/watch?v=jaR5-kefxn4\n",
      "[1] \"97533 \"\n",
      "                                   youtube_url\n",
      "48 https://www.youtube.com/watch?v=loimTUjV92Q\n",
      "[1] \"5430 \"\n",
      "                                   youtube_url\n",
      "49 https://www.youtube.com/watch?v=DoM6IhfY8No\n",
      "[1] \"624632 \"\n",
      "                                   youtube_url\n",
      "50 https://www.youtube.com/watch?v=AMP9fgyi41M\n",
      "[1] \"1361 \"\n",
      "                                   youtube_url\n",
      "51 https://www.youtube.com/watch?v=kNxgxF-7SfA\n",
      "[1] \"1686035 \"\n",
      "                                   youtube_url\n",
      "52 https://www.youtube.com/watch?v=w_ZEGUX4YnI\n",
      "[1] \"49847 \"\n",
      "                                   youtube_url\n",
      "53 https://www.youtube.com/watch?v=fObt1E6Ij_E\n",
      "[1] \"36 \"\n",
      "                                   youtube_url\n",
      "54 https://www.youtube.com/watch?v=hkSQ2Vr41bM\n",
      "[1] \"37339 \"\n",
      "                                   youtube_url\n",
      "55 https://www.youtube.com/watch?v=pVxmT2x3Od4\n",
      "[1] \"155256 \"\n",
      "                                   youtube_url\n",
      "56 https://www.youtube.com/watch?v=qIC90Vnc-OI\n",
      "[1] \"180640 \"\n",
      "                                   youtube_url\n",
      "57 https://www.youtube.com/watch?v=JJn1vM7LB1Y\n",
      "[1] \"502 \"\n",
      "                                   youtube_url\n",
      "58 https://www.youtube.com/watch?v=B9j4Cw5dkBs\n"
     ]
    },
    {
     "name": "stderr",
     "output_type": "stream",
     "text": [
      "\n",
      "Selenium message:no such element: Unable to locate element: {\"method\":\"css selector\",\"selector\":\"[class='view-count style-scope ytd-video-view-count-renderer']\"}\n",
      "  (Session info: chrome=89.0.4389.90)\n",
      "For documentation on this error, please visit: https://selenium.dev/exceptions/#no_such_element\n",
      "Build info: version: '4.0.0-beta-3', revision: '909239cd9f'\n",
      "System info: host: '7a0166dbe9c7', ip: '172.17.0.2', os.name: 'Linux', os.arch: 'amd64', os.version: '5.4.72-microsoft-standard-WSL2', java.version: '1.8.0_282'\n",
      "Driver info: driver.version: unknown\n",
      "\n"
     ]
    },
    {
     "name": "stdout",
     "output_type": "stream",
     "text": [
      "[1] \"I am here\"\n",
      "[1] \"I am here2\"\n",
      "[1] \"I am here2\"\n",
      "                                   youtube_url\n",
      "59 https://www.youtube.com/watch?v=puG0WOgAUfs\n",
      "[1] \"373840 \"\n",
      "                                   youtube_url\n",
      "60 https://www.youtube.com/watch?v=nAJvHsVoLq0\n",
      "[1] \"88048 \"\n",
      "                                   youtube_url\n",
      "61 https://www.youtube.com/watch?v=wBcijELzZi4\n",
      "[1] \"12720 \"\n",
      "                                   youtube_url\n",
      "62 https://www.youtube.com/watch?v=qKKpRhFcKBk\n",
      "[1] \"43444 \"\n",
      "                                   youtube_url\n",
      "63 https://www.youtube.com/watch?v=1ww1k7w4WQ8\n",
      "[1] \"228194 \"\n",
      "                                   youtube_url\n",
      "64 https://www.youtube.com/watch?v=2JqRXLQYF9o\n",
      "[1] \"2348750 \"\n",
      "                                   youtube_url\n",
      "65 https://www.youtube.com/watch?v=3Tnm53uXIvg\n",
      "[1] \"249464 \"\n",
      "                                   youtube_url\n",
      "66 https://www.youtube.com/watch?v=ZuBbnZ3UbJw\n"
     ]
    },
    {
     "name": "stderr",
     "output_type": "stream",
     "text": [
      "\n",
      "Selenium message:no such element: Unable to locate element: {\"method\":\"css selector\",\"selector\":\"[class='view-count style-scope ytd-video-view-count-renderer']\"}\n",
      "  (Session info: chrome=89.0.4389.90)\n",
      "For documentation on this error, please visit: https://selenium.dev/exceptions/#no_such_element\n",
      "Build info: version: '4.0.0-beta-3', revision: '909239cd9f'\n",
      "System info: host: '7a0166dbe9c7', ip: '172.17.0.2', os.name: 'Linux', os.arch: 'amd64', os.version: '5.4.72-microsoft-standard-WSL2', java.version: '1.8.0_282'\n",
      "Driver info: driver.version: unknown\n",
      "\n"
     ]
    },
    {
     "name": "stdout",
     "output_type": "stream",
     "text": [
      "[1] \"I am here\"\n",
      "[1] \"I am here2\"\n",
      "[1] \"I am here2\"\n",
      "                                   youtube_url\n",
      "67 https://www.youtube.com/watch?v=mhEYXcCB1Qw\n",
      "[1] \"51501 \"\n",
      "                                   youtube_url\n",
      "68 https://www.youtube.com/watch?v=nO-8ZY7p95o\n",
      "[1] \"4171 \"\n",
      "                                   youtube_url\n",
      "69 https://www.youtube.com/watch?v=uO-E2T1hayU\n",
      "[1] \"343589 \"\n",
      "                                   youtube_url\n",
      "70 https://www.youtube.com/watch?v=sMkGwCw7iv8\n",
      "[1] \"12908315 \"\n",
      "                                   youtube_url\n",
      "71 https://www.youtube.com/watch?v=5tso0er4EUI\n",
      "[1] \"8238 \"\n",
      "                                   youtube_url\n",
      "72 https://www.youtube.com/watch?v=KwUUdl22mkA\n",
      "[1] \"224775 \"\n",
      "                                   youtube_url\n",
      "73 https://www.youtube.com/watch?v=J89vbNUzhIE\n",
      "[1] \"73621 \"\n",
      "                                   youtube_url\n",
      "74 https://www.youtube.com/watch?v=_cEQ5g6bzdM\n",
      "[1] \"8075 \"\n",
      "                                   youtube_url\n",
      "75 https://www.youtube.com/watch?v=M3IV93HwSkc\n",
      "[1] \"6715 \"\n",
      "                                   youtube_url\n",
      "76 https://www.youtube.com/watch?v=ucCvhK2CZMo\n"
     ]
    },
    {
     "name": "stderr",
     "output_type": "stream",
     "text": [
      "\n",
      "Selenium message:no such element: Unable to locate element: {\"method\":\"css selector\",\"selector\":\"[class='view-count style-scope ytd-video-view-count-renderer']\"}\n",
      "  (Session info: chrome=89.0.4389.90)\n",
      "For documentation on this error, please visit: https://selenium.dev/exceptions/#no_such_element\n",
      "Build info: version: '4.0.0-beta-3', revision: '909239cd9f'\n",
      "System info: host: '7a0166dbe9c7', ip: '172.17.0.2', os.name: 'Linux', os.arch: 'amd64', os.version: '5.4.72-microsoft-standard-WSL2', java.version: '1.8.0_282'\n",
      "Driver info: driver.version: unknown\n",
      "\n"
     ]
    },
    {
     "name": "stdout",
     "output_type": "stream",
     "text": [
      "[1] \"I am here\"\n",
      "[1] \"I am here2\"\n",
      "[1] \"I am here2\"\n",
      "                                   youtube_url\n",
      "77 https://www.youtube.com/watch?v=1nmPv4M8Ps8\n",
      "[1] \"1255 \"\n",
      "                                   youtube_url\n",
      "78 https://www.youtube.com/watch?v=1X_M47SQF6s\n",
      "[1] \"12242 \"\n",
      "                                   youtube_url\n",
      "79 https://www.youtube.com/watch?v=Le_2S2db0Bk\n",
      "[1] \"158 \"\n",
      "                                   youtube_url\n",
      "80 https://www.youtube.com/watch?v=pmmsr7PAhWU\n",
      "[1] \"1954820 \"\n",
      "                                   youtube_url\n",
      "81 https://www.youtube.com/watch?v=7_EfXuGev24\n"
     ]
    },
    {
     "name": "stderr",
     "output_type": "stream",
     "text": [
      "\n",
      "Selenium message:no such element: Unable to locate element: {\"method\":\"css selector\",\"selector\":\"[class='view-count style-scope ytd-video-view-count-renderer']\"}\n",
      "  (Session info: chrome=89.0.4389.90)\n",
      "For documentation on this error, please visit: https://selenium.dev/exceptions/#no_such_element\n",
      "Build info: version: '4.0.0-beta-3', revision: '909239cd9f'\n",
      "System info: host: '7a0166dbe9c7', ip: '172.17.0.2', os.name: 'Linux', os.arch: 'amd64', os.version: '5.4.72-microsoft-standard-WSL2', java.version: '1.8.0_282'\n",
      "Driver info: driver.version: unknown\n",
      "\n"
     ]
    },
    {
     "name": "stdout",
     "output_type": "stream",
     "text": [
      "[1] \"I am here\"\n",
      "[1] \"I am here2\"\n",
      "[1] \"I am here2\"\n",
      "                                   youtube_url\n",
      "82 https://www.youtube.com/watch?v=rBkPXt-OpA4\n",
      "[1] \"18314 \"\n",
      "                                   youtube_url\n",
      "83 https://www.youtube.com/watch?v=HtBZvl7dIu4\n",
      "[1] \"28796095 \"\n",
      "   youtube_url\n",
      "84            \n",
      "[1] \"28796095 \"\n",
      "                                   youtube_url\n",
      "85 https://www.youtube.com/watch?v=icV7fGqPZ2I\n",
      "[1] \"526996 \"\n",
      "                                   youtube_url\n",
      "86 https://www.youtube.com/watch?v=YQo0TfuueaY\n",
      "[1] \"1298001 \"\n",
      "                                   youtube_url\n",
      "87 https://www.youtube.com/watch?v=5uLJitPWAXM\n",
      "[1] \"126242 \"\n",
      "                                   youtube_url\n",
      "88 https://www.youtube.com/watch?v=9KqekigARfE\n",
      "[1] \"4939020 \"\n",
      "                                   youtube_url\n",
      "89 https://www.youtube.com/watch?v=KpN6fxOorwE\n"
     ]
    },
    {
     "name": "stderr",
     "output_type": "stream",
     "text": [
      "\n",
      "Selenium message:no such element: Unable to locate element: {\"method\":\"css selector\",\"selector\":\"[class='view-count style-scope ytd-video-view-count-renderer']\"}\n",
      "  (Session info: chrome=89.0.4389.90)\n",
      "For documentation on this error, please visit: https://selenium.dev/exceptions/#no_such_element\n",
      "Build info: version: '4.0.0-beta-3', revision: '909239cd9f'\n",
      "System info: host: '7a0166dbe9c7', ip: '172.17.0.2', os.name: 'Linux', os.arch: 'amd64', os.version: '5.4.72-microsoft-standard-WSL2', java.version: '1.8.0_282'\n",
      "Driver info: driver.version: unknown\n",
      "\n"
     ]
    },
    {
     "name": "stdout",
     "output_type": "stream",
     "text": [
      "[1] \"I am here\"\n",
      "[1] \"I am here2\"\n",
      "[1] \"I am here2\"\n",
      "                                   youtube_url\n",
      "90 https://www.youtube.com/watch?v=Qr3GJqccGi4\n",
      "[1] \"14771 \"\n",
      "                                   youtube_url\n",
      "91 https://www.youtube.com/watch?v=odpagg0jV6I\n",
      "[1] \"113446 \"\n",
      "                                   youtube_url\n",
      "92 https://www.youtube.com/watch?v=jvm68nEAU7o\n",
      "[1] \"117692 \"\n",
      "                                   youtube_url\n",
      "93 https://www.youtube.com/watch?v=2IhJl7mBtls\n",
      "[1] \"11664 \"\n",
      "                                   youtube_url\n",
      "94 https://www.youtube.com/watch?v=e0ez2t6oRWY\n",
      "[1] \"938 \"\n",
      "                                   youtube_url\n",
      "95 https://www.youtube.com/watch?v=wegrVsP3gK4\n",
      "[1] \"6216 \"\n",
      "                                   youtube_url\n",
      "96 https://www.youtube.com/watch?v=L1fL0ZHX2t0\n",
      "[1] \"55581 \"\n",
      "   youtube_url\n",
      "97            \n",
      "[1] \"55581 \"\n",
      "                                   youtube_url\n",
      "98 https://www.youtube.com/watch?v=bcV8WN1YIL4\n",
      "[1] \"148398 \"\n",
      "                                   youtube_url\n",
      "99 https://www.youtube.com/watch?v=WTqL_giKNHQ\n",
      "[1] \"85493 \"\n",
      "                                    youtube_url\n",
      "100 https://www.youtube.com/watch?v=UxQKSCpOIOI\n",
      "[1] \"1362 \"\n",
      "                                    youtube_url\n",
      "101 https://www.youtube.com/watch?v=5ofcQl6gWeE\n",
      "[1] \"349 \"\n",
      "                                    youtube_url\n",
      "102 https://www.youtube.com/watch?v=nayeYTmEdYw\n",
      "[1] \"81558 \"\n",
      "                                    youtube_url\n",
      "103 https://www.youtube.com/watch?v=XxfxB0O9Uuk\n",
      "[1] \"14146 \"\n",
      "                                    youtube_url\n",
      "104 https://www.youtube.com/watch?v=kH50-giCeDM\n",
      "[1] \"221858 \"\n",
      "                                    youtube_url\n",
      "105 https://www.youtube.com/watch?v=PsKJUnGEGSs\n"
     ]
    },
    {
     "name": "stderr",
     "output_type": "stream",
     "text": [
      "\n",
      "Selenium message:no such element: Unable to locate element: {\"method\":\"css selector\",\"selector\":\"[class='view-count style-scope ytd-video-view-count-renderer']\"}\n",
      "  (Session info: chrome=89.0.4389.90)\n",
      "For documentation on this error, please visit: https://selenium.dev/exceptions/#no_such_element\n",
      "Build info: version: '4.0.0-beta-3', revision: '909239cd9f'\n",
      "System info: host: '7a0166dbe9c7', ip: '172.17.0.2', os.name: 'Linux', os.arch: 'amd64', os.version: '5.4.72-microsoft-standard-WSL2', java.version: '1.8.0_282'\n",
      "Driver info: driver.version: unknown\n",
      "\n"
     ]
    },
    {
     "name": "stdout",
     "output_type": "stream",
     "text": [
      "[1] \"I am here\"\n",
      "[1] \"I am here2\"\n",
      "[1] \"I am here2\"\n",
      "                                    youtube_url\n",
      "106 https://www.youtube.com/watch?v=6cMHr8goUgU\n",
      "[1] \"93702 \"\n",
      "                                    youtube_url\n",
      "107 https://www.youtube.com/watch?v=vUwROngDC88\n",
      "[1] \"225 \"\n",
      "                                    youtube_url\n",
      "108 https://www.youtube.com/watch?v=GNVw5f16GEM\n",
      "[1] \"43961 \"\n",
      "                                    youtube_url\n",
      "109 https://www.youtube.com/watch?v=UizTtcBsNi8\n"
     ]
    },
    {
     "name": "stderr",
     "output_type": "stream",
     "text": [
      "\n",
      "Selenium message:no such element: Unable to locate element: {\"method\":\"css selector\",\"selector\":\"[class='view-count style-scope ytd-video-view-count-renderer']\"}\n",
      "  (Session info: chrome=89.0.4389.90)\n",
      "For documentation on this error, please visit: https://selenium.dev/exceptions/#no_such_element\n",
      "Build info: version: '4.0.0-beta-3', revision: '909239cd9f'\n",
      "System info: host: '7a0166dbe9c7', ip: '172.17.0.2', os.name: 'Linux', os.arch: 'amd64', os.version: '5.4.72-microsoft-standard-WSL2', java.version: '1.8.0_282'\n",
      "Driver info: driver.version: unknown\n",
      "\n"
     ]
    },
    {
     "name": "stdout",
     "output_type": "stream",
     "text": [
      "[1] \"I am here\"\n",
      "[1] \"I am here2\"\n",
      "[1] \"I am here2\"\n",
      "                                    youtube_url\n",
      "110 https://www.youtube.com/watch?v=yQ_nU0_R7PE\n",
      "[1] \"88638 \"\n",
      "                                    youtube_url\n",
      "111 https://www.youtube.com/watch?v=LnU2T2P1oxA\n",
      "[1] \"14484 \"\n",
      "                                    youtube_url\n",
      "112 https://www.youtube.com/watch?v=4WeAvfP1ikU\n",
      "[1] \"85570 \"\n",
      "                                    youtube_url\n",
      "113 https://www.youtube.com/watch?v=PnOW5qj_R6A\n",
      "[1] \"145102 \"\n",
      "                                    youtube_url\n",
      "114 https://www.youtube.com/watch?v=Kwke0LNardc\n",
      "[1] \"1456246 \"\n",
      "    youtube_url\n",
      "115            \n",
      "[1] \"1456246 \"\n",
      "    youtube_url\n",
      "116            \n",
      "[1] \"1456246 \"\n",
      "                                    youtube_url\n",
      "117 https://www.youtube.com/watch?v=b01P9PaaoLk\n",
      "[1] \"32915 \"\n",
      "                                    youtube_url\n",
      "118 https://www.youtube.com/watch?v=LEVQAU_LITI\n",
      "[1] \"30275 \"\n",
      "                                    youtube_url\n",
      "119 https://www.youtube.com/watch?v=FTNMYoKHwvU\n",
      "[1] \"34528 \"\n",
      "                                    youtube_url\n",
      "120 https://www.youtube.com/watch?v=2jMWybAKjWw\n",
      "[1] \"2511 \"\n",
      "                                    youtube_url\n",
      "121 https://www.youtube.com/watch?v=7HMTkEMdqBQ\n",
      "[1] \"675 \"\n",
      "                                    youtube_url\n",
      "122 https://www.youtube.com/watch?v=WX8Du9pusdA\n",
      "[1] \"599312 \"\n",
      "                                    youtube_url\n",
      "123 https://www.youtube.com/watch?v=zx4SnN9HuRw\n",
      "[1] \"27821 \"\n",
      "                                    youtube_url\n",
      "124 https://www.youtube.com/watch?v=leptS7k6sLE\n",
      "[1] \"408 \"\n",
      "                                    youtube_url\n",
      "125 https://www.youtube.com/watch?v=1A6frF5zfDE\n",
      "[1] \"139837 \"\n",
      "                                    youtube_url\n",
      "126 https://www.youtube.com/watch?v=Y9wyIID8Khs\n"
     ]
    },
    {
     "name": "stderr",
     "output_type": "stream",
     "text": [
      "\n",
      "Selenium message:no such element: Unable to locate element: {\"method\":\"css selector\",\"selector\":\"[class='view-count style-scope ytd-video-view-count-renderer']\"}\n",
      "  (Session info: chrome=89.0.4389.90)\n",
      "For documentation on this error, please visit: https://selenium.dev/exceptions/#no_such_element\n",
      "Build info: version: '4.0.0-beta-3', revision: '909239cd9f'\n",
      "System info: host: '7a0166dbe9c7', ip: '172.17.0.2', os.name: 'Linux', os.arch: 'amd64', os.version: '5.4.72-microsoft-standard-WSL2', java.version: '1.8.0_282'\n",
      "Driver info: driver.version: unknown\n",
      "\n"
     ]
    },
    {
     "name": "stdout",
     "output_type": "stream",
     "text": [
      "[1] \"I am here\"\n",
      "[1] \"I am here2\"\n",
      "[1] \"I am here2\"\n",
      "    youtube_url\n",
      "127            \n"
     ]
    },
    {
     "name": "stderr",
     "output_type": "stream",
     "text": [
      "\n",
      "Selenium message:no such element: Unable to locate element: {\"method\":\"css selector\",\"selector\":\"[class='view-count style-scope ytd-video-view-count-renderer']\"}\n",
      "  (Session info: chrome=89.0.4389.90)\n",
      "For documentation on this error, please visit: https://selenium.dev/exceptions/#no_such_element\n",
      "Build info: version: '4.0.0-beta-3', revision: '909239cd9f'\n",
      "System info: host: '7a0166dbe9c7', ip: '172.17.0.2', os.name: 'Linux', os.arch: 'amd64', os.version: '5.4.72-microsoft-standard-WSL2', java.version: '1.8.0_282'\n",
      "Driver info: driver.version: unknown\n",
      "\n"
     ]
    }
   ],
   "source": [
    "for (row_number in 1:nrow(raw)){\n",
    "    #should be nrow(raw)\n",
    "    print(raw[row_number,]['youtube_url'])\n",
    "    #print(paste(raw[row_number,]['youtube_url']))\n",
    "    remDr$navigate(as.character(raw$youtube[row_number]))\n",
    "    Sys.sleep(5.0)\n",
    "    webElem <- tryCatch({remDr$findElement(using = \"css\", \"[class='view-count style-scope ytd-video-view-count-renderer']\")},\n",
    "                        error = function(e){ print(\"I am here\")})\n",
    "    view_number_text <- \"\"\n",
    "    if(!is.null(webElem)){\n",
    "        view_number_text <- tryCatch({webElem$getElementText()},\n",
    "                            error = function(e){ print(\"I am here2\")})\n",
    "    } else {\n",
    "        print(\"I could not find target\")\n",
    "    }\n",
    "    view_number_text = gsub(\"views\", \"\", view_number_text)\n",
    "    view_number_text = gsub(\",\", \"\", view_number_text)\n",
    "    print(view_number_text)\n",
    "    raw$Views[row_number] <- view_number_text\n",
    "    view_number_text = 0\n",
    "}"
   ]
  },
  {
   "cell_type": "code",
   "execution_count": null,
   "id": "3cd01357",
   "metadata": {},
   "outputs": [],
   "source": [
    "head(raw)"
   ]
  },
  {
   "cell_type": "code",
   "execution_count": 67,
   "id": "49ebc741",
   "metadata": {},
   "outputs": [
    {
     "name": "stdout",
     "output_type": "stream",
     "text": [
      "[1] \"https://www.youtube.com/watch?v=zeBZvwYQ-hA\"\n",
      "[1] \"185315 \"\n",
      "[1] \"https://www.youtube.com/watch?v=nbbp0VW7z8w\"\n",
      "[1] \"78700 \"\n",
      "[1] \"https://www.youtube.com/watch?v=yk0MQD5YgV8\"\n",
      "[1] \"142553 \"\n",
      "[1] \"https://www.youtube.com/watch?v=lNPccrGk77A\"\n",
      "[1] \"234 \"\n",
      "[1] \"https://www.youtube.com/watch?v=ovQYgnXHooY\"\n",
      "[1] \"13853 \"\n"
     ]
    }
   ],
   "source": [
    "for (url in raw$youtube_url[0:5]) {\n",
    "    print(url)\n",
    "    remDr$navigate(url)\n",
    "    Sys.sleep(2.0)\n",
    "    webElem <- tryCatch({remDr$findElement(using = \"css\", \"[class='view-count style-scope ytd-video-view-count-renderer']\")},\n",
    "                        error = function(e){ print(\"I am here\")})\n",
    "    view_number_text <- \"\"\n",
    "    if(!is.null(webElem)){\n",
    "        view_number_text <- tryCatch({webElem$getElementText()},\n",
    "                            error = function(e){ print(\"I am here2\")})\n",
    "    } else {\n",
    "        print(\"I could not find target\")\n",
    "    }\n",
    "    view_number_text = gsub(\"views\", \"\", view_number_text)\n",
    "    view_number_text = gsub(\",\", \"\", view_number_text)\n",
    "    print(view_number_text)\n",
    "}"
   ]
  },
  {
   "cell_type": "code",
   "execution_count": null,
   "id": "411c101d",
   "metadata": {},
   "outputs": [
    {
     "name": "stdout",
     "output_type": "stream",
     "text": [
      "[1] \"Init1\"\n"
     ]
    }
   ],
   "source": [
    "print(\"Init1\")\n",
    "if (Dev_Checks){ \n",
    "    print(\"Init2\")\n",
    "    for (url in raw$youtube_url) {\n",
    "        print(url)\n",
    "        remDr$navigate(url)\n",
    "        Sys.sleep(2.0)\n",
    "        view_number_text <- NULL\n",
    "        while(is.null(webElem)){\n",
    "            webElem <- tryCatch({remDr$findElement(using = \"css\", \"[class='view-count style-scope ytd-video-view-count-renderer']\")},\n",
    "                            error = function(e){ print(\"I am here\")})\n",
    "            view_number_text <- tryCatch({webElem$getElementText()},\n",
    "                            error = function(e){ print(\"I am here2\")})\n",
    "            Sys.sleep(2.0)\n",
    "        }\n",
    "        view_number_text = gsub(\"views\", \"\", view_number_text)\n",
    "        view_number_text = gsub(\",\", \"\", view_number_text)\n",
    "        print(view_number_text)\n",
    "    }\n",
    "}"
   ]
  },
  {
   "cell_type": "code",
   "execution_count": null,
   "id": "a6e97d85",
   "metadata": {},
   "outputs": [],
   "source": [
    "c_dat =  select(raw, -youtube_url, -superbowl_ads_dot_com_url)"
   ]
  },
  {
   "cell_type": "code",
   "execution_count": 22,
   "id": "eb6a2750",
   "metadata": {},
   "outputs": [
    {
     "data": {
      "text/html": [
       "<table>\n",
       "<thead><tr><th scope=col>year</th><th scope=col>brand</th><th scope=col>funny</th><th scope=col>show_product_quickly</th><th scope=col>patriotic</th><th scope=col>celebrity</th><th scope=col>danger</th><th scope=col>animals</th><th scope=col>use_sex</th></tr></thead>\n",
       "<tbody>\n",
       "\t<tr><td>2018     </td><td>Toyota   </td><td>False    </td><td>False    </td><td>False    </td><td>False    </td><td>False    </td><td>False    </td><td>False    </td></tr>\n",
       "\t<tr><td>2020     </td><td>Bud Light</td><td>True     </td><td>True     </td><td>False    </td><td>True     </td><td>True     </td><td>False    </td><td>False    </td></tr>\n",
       "\t<tr><td>2006     </td><td>Bud Light</td><td>True     </td><td>False    </td><td>False    </td><td>False    </td><td>True     </td><td>True     </td><td>False    </td></tr>\n",
       "\t<tr><td>2018     </td><td>Hynudai  </td><td>False    </td><td>True     </td><td>False    </td><td>False    </td><td>False    </td><td>False    </td><td>False    </td></tr>\n",
       "\t<tr><td>2003     </td><td>Bud Light</td><td>True     </td><td>True     </td><td>False    </td><td>False    </td><td>True     </td><td>True     </td><td>True     </td></tr>\n",
       "\t<tr><td>2020     </td><td>Toyota   </td><td>True     </td><td>True     </td><td>False    </td><td>True     </td><td>True     </td><td>True     </td><td>False    </td></tr>\n",
       "</tbody>\n",
       "</table>\n"
      ],
      "text/latex": [
       "\\begin{tabular}{r|lllllllll}\n",
       " year & brand & funny & show\\_product\\_quickly & patriotic & celebrity & danger & animals & use\\_sex\\\\\n",
       "\\hline\n",
       "\t 2018      & Toyota    & False     & False     & False     & False     & False     & False     & False    \\\\\n",
       "\t 2020      & Bud Light & True      & True      & False     & True      & True      & False     & False    \\\\\n",
       "\t 2006      & Bud Light & True      & False     & False     & False     & True      & True      & False    \\\\\n",
       "\t 2018      & Hynudai   & False     & True      & False     & False     & False     & False     & False    \\\\\n",
       "\t 2003      & Bud Light & True      & True      & False     & False     & True      & True      & True     \\\\\n",
       "\t 2020      & Toyota    & True      & True      & False     & True      & True      & True      & False    \\\\\n",
       "\\end{tabular}\n"
      ],
      "text/markdown": [
       "\n",
       "| year | brand | funny | show_product_quickly | patriotic | celebrity | danger | animals | use_sex |\n",
       "|---|---|---|---|---|---|---|---|---|\n",
       "| 2018      | Toyota    | False     | False     | False     | False     | False     | False     | False     |\n",
       "| 2020      | Bud Light | True      | True      | False     | True      | True      | False     | False     |\n",
       "| 2006      | Bud Light | True      | False     | False     | False     | True      | True      | False     |\n",
       "| 2018      | Hynudai   | False     | True      | False     | False     | False     | False     | False     |\n",
       "| 2003      | Bud Light | True      | True      | False     | False     | True      | True      | True      |\n",
       "| 2020      | Toyota    | True      | True      | False     | True      | True      | True      | False     |\n",
       "\n"
      ],
      "text/plain": [
       "  year brand     funny show_product_quickly patriotic celebrity danger animals\n",
       "1 2018 Toyota    False False                False     False     False  False  \n",
       "2 2020 Bud Light True  True                 False     True      True   False  \n",
       "3 2006 Bud Light True  False                False     False     True   True   \n",
       "4 2018 Hynudai   False True                 False     False     False  False  \n",
       "5 2003 Bud Light True  True                 False     False     True   True   \n",
       "6 2020 Toyota    True  True                 False     True      True   True   \n",
       "  use_sex\n",
       "1 False  \n",
       "2 False  \n",
       "3 False  \n",
       "4 False  \n",
       "5 True   \n",
       "6 False  "
      ]
     },
     "metadata": {},
     "output_type": "display_data"
    }
   ],
   "source": [
    "head(c_dat)"
   ]
  },
  {
   "cell_type": "code",
   "execution_count": 24,
   "id": "108ffe55",
   "metadata": {},
   "outputs": [
    {
     "data": {
      "text/html": [
       "<table>\n",
       "<thead><tr><th></th><th scope=col>brand</th></tr></thead>\n",
       "<tbody>\n",
       "\t<tr><th scope=row>1</th><td>Toyota   </td></tr>\n",
       "\t<tr><th scope=row>2</th><td>Bud Light</td></tr>\n",
       "\t<tr><th scope=row>4</th><td>Hynudai  </td></tr>\n",
       "\t<tr><th scope=row>7</th><td>Coca-Cola</td></tr>\n",
       "\t<tr><th scope=row>8</th><td>Kia      </td></tr>\n",
       "\t<tr><th scope=row>10</th><td>Budweiser</td></tr>\n",
       "\t<tr><th scope=row>15</th><td>NFL      </td></tr>\n",
       "\t<tr><th scope=row>18</th><td>Pepsi    </td></tr>\n",
       "\t<tr><th scope=row>20</th><td>Doritos  </td></tr>\n",
       "\t<tr><th scope=row>34</th><td>E-Trade  </td></tr>\n",
       "</tbody>\n",
       "</table>\n"
      ],
      "text/latex": [
       "\\begin{tabular}{r|l}\n",
       "  & brand\\\\\n",
       "\\hline\n",
       "\t1 & Toyota   \\\\\n",
       "\t2 & Bud Light\\\\\n",
       "\t4 & Hynudai  \\\\\n",
       "\t7 & Coca-Cola\\\\\n",
       "\t8 & Kia      \\\\\n",
       "\t10 & Budweiser\\\\\n",
       "\t15 & NFL      \\\\\n",
       "\t18 & Pepsi    \\\\\n",
       "\t20 & Doritos  \\\\\n",
       "\t34 & E-Trade  \\\\\n",
       "\\end{tabular}\n"
      ],
      "text/markdown": [
       "\n",
       "| <!--/--> | brand |\n",
       "|---|---|\n",
       "| 1 | Toyota    |\n",
       "| 2 | Bud Light |\n",
       "| 4 | Hynudai   |\n",
       "| 7 | Coca-Cola |\n",
       "| 8 | Kia       |\n",
       "| 10 | Budweiser |\n",
       "| 15 | NFL       |\n",
       "| 18 | Pepsi     |\n",
       "| 20 | Doritos   |\n",
       "| 34 | E-Trade   |\n",
       "\n"
      ],
      "text/plain": [
       "   brand    \n",
       "1  Toyota   \n",
       "2  Bud Light\n",
       "4  Hynudai  \n",
       "7  Coca-Cola\n",
       "8  Kia      \n",
       "10 Budweiser\n",
       "15 NFL      \n",
       "18 Pepsi    \n",
       "20 Doritos  \n",
       "34 E-Trade  "
      ]
     },
     "metadata": {},
     "output_type": "display_data"
    }
   ],
   "source": [
    "unique(c_dat['brand'])"
   ]
  },
  {
   "cell_type": "code",
   "execution_count": 26,
   "id": "f6186336",
   "metadata": {},
   "outputs": [
    {
     "name": "stderr",
     "output_type": "stream",
     "text": [
      "also installing the dependencies 'bitops', 'semver', 'XML', 'caTools', 'wdman', 'binman'\n",
      "\n"
     ]
    },
    {
     "name": "stdout",
     "output_type": "stream",
     "text": [
      "package 'bitops' successfully unpacked and MD5 sums checked\n",
      "package 'semver' successfully unpacked and MD5 sums checked\n",
      "package 'XML' successfully unpacked and MD5 sums checked\n",
      "package 'caTools' successfully unpacked and MD5 sums checked\n",
      "package 'wdman' successfully unpacked and MD5 sums checked\n",
      "package 'binman' successfully unpacked and MD5 sums checked\n",
      "package 'RSelenium' successfully unpacked and MD5 sums checked\n",
      "\n",
      "The downloaded binary packages are in\n",
      "\tC:\\Users\\Aman\\AppData\\Local\\Temp\\RtmpOi363W\\downloaded_packages\n"
     ]
    }
   ],
   "source": [
    "install.packages(\"RSelenium\")"
   ]
  },
  {
   "cell_type": "code",
   "execution_count": 29,
   "id": "0cf1ddc6",
   "metadata": {},
   "outputs": [],
   "source": [
    "library('RSelenium')\n"
   ]
  },
  {
   "cell_type": "code",
   "execution_count": null,
   "id": "0eb2e86c",
   "metadata": {},
   "outputs": [],
   "source": []
  }
 ],
 "metadata": {
  "kernelspec": {
   "display_name": "R",
   "language": "R",
   "name": "ir"
  },
  "language_info": {
   "codemirror_mode": "r",
   "file_extension": ".r",
   "mimetype": "text/x-r-source",
   "name": "R",
   "pygments_lexer": "r",
   "version": "3.6.1"
  }
 },
 "nbformat": 4,
 "nbformat_minor": 5
}
