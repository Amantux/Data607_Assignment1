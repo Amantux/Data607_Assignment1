{
 "cells": [
  {
   "cell_type": "code",
   "execution_count": 1,
   "id": "ee5f42e3",
   "metadata": {},
   "outputs": [],
   "source": [
    "#This Stack Requires:\n",
    "# 1. Docker\n",
    "# 2. Jupyter\n",
    "# 3. Selenium\n",
    "# 4. RSelenium\n",
    "\n",
    "#Practically, I wanted to set up the basics of a set for a predictor that links the year, the content, and the 3rd party views on youtube.\n",
    "#I wanted to practice selinum scraping in R, and this seemed a perfect example as this already has links\n",
    "#This project made me realize how much more limited RSelenium is\n",
    "\n",
    "#This Stack Requires:\n",
    "\n",
    "# 1. Docker\n",
    "\n",
    "# 2. Jupyter\n",
    "\n",
    "# 3. Selenium\n",
    "\n",
    "# 4. RSelenium\n",
    "\n",
    "\n",
    "\n",
    "#Practically, I wanted to set up the basics of a set for a predictor that links the year, the content, and the 3rd party views on youtube.\n",
    "\n",
    "#I wanted to practice selinum scraping in R, and this seemed a perfect example as this already has links\n",
    "\n",
    "#In terms of Article, this "
   ]
  },
  {
   "cell_type": "code",
   "execution_count": 2,
   "id": "491f9e91",
   "metadata": {},
   "outputs": [],
   "source": [
    "#Start your Selinum Instance Now\n",
    "#docker run -d -p 4444:4444 --shm-size=\"2g\" selenium/standalone-chrome:4.1.2-20220131"
   ]
  },
  {
   "cell_type": "code",
   "execution_count": 29,
   "id": "29347ea0",
   "metadata": {},
   "outputs": [],
   "source": [
    "Fresh_Data <- TRUE #This will refresh data (Not using caching from my git)\n",
    "Fresh_Computes <- TRUE  #Uses docker to pull and augment data, requires the Selenium Instance\n",
    "Dev_Checks <- FALSE #Various Extra Print statements that make debugging easier"
   ]
  },
  {
   "cell_type": "code",
   "execution_count": 4,
   "id": "63693eff",
   "metadata": {},
   "outputs": [
    {
     "name": "stderr",
     "output_type": "stream",
     "text": [
      "Warning message:\n",
      "\"package 'RSelenium' was built under R version 3.6.3\"Registered S3 method overwritten by 'openssl':\n",
      "  method      from\n",
      "  print.bytes Rcpp\n"
     ]
    }
   ],
   "source": [
    "library('RSelenium')"
   ]
  },
  {
   "cell_type": "code",
   "execution_count": 33,
   "id": "eb3962d9",
   "metadata": {},
   "outputs": [],
   "source": [
    "url.data <- \"https://raw.githubusercontent.com/fivethirtyeight/superbowl-ads/main/superbowl-ads.csv\"\n",
    "\n",
    "raw <- read.csv(url(url.data), header = TRUE,) "
   ]
  },
  {
   "cell_type": "code",
   "execution_count": 34,
   "id": "1412e087",
   "metadata": {},
   "outputs": [
    {
     "data": {
      "text/html": [
       "<table>\n",
       "<thead><tr><th scope=col>year</th><th scope=col>brand</th><th scope=col>superbowl_ads_dot_com_url</th><th scope=col>youtube_url</th><th scope=col>funny</th><th scope=col>show_product_quickly</th><th scope=col>patriotic</th><th scope=col>celebrity</th><th scope=col>danger</th><th scope=col>animals</th><th scope=col>use_sex</th></tr></thead>\n",
       "<tbody>\n",
       "\t<tr><td>2018                                                                </td><td>Toyota                                                              </td><td>https://superbowl-ads.com/good-odds-toyota/                         </td><td>https://www.youtube.com/watch?v=zeBZvwYQ-hA                         </td><td>False                                                               </td><td>False                                                               </td><td>False                                                               </td><td>False                                                               </td><td>False                                                               </td><td>False                                                               </td><td>False                                                               </td></tr>\n",
       "\t<tr><td>2020                                                                </td><td>Bud Light                                                           </td><td>https://superbowl-ads.com/2020-bud-light-seltzer-inside-posts-brain/</td><td>https://www.youtube.com/watch?v=nbbp0VW7z8w                         </td><td>True                                                                </td><td>True                                                                </td><td>False                                                               </td><td>True                                                                </td><td>True                                                                </td><td>False                                                               </td><td>False                                                               </td></tr>\n",
       "\t<tr><td>2006                                                                </td><td>Bud Light                                                           </td><td>https://superbowl-ads.com/2006-bud-light-bear-attack/               </td><td>https://www.youtube.com/watch?v=yk0MQD5YgV8                         </td><td>True                                                                </td><td>False                                                               </td><td>False                                                               </td><td>False                                                               </td><td>True                                                                </td><td>True                                                                </td><td>False                                                               </td></tr>\n",
       "\t<tr><td>2018                                                                </td><td>Hynudai                                                             </td><td>https://superbowl-ads.com/hope-detector-nfl-super-bowl-lii-hyundai/ </td><td>https://www.youtube.com/watch?v=lNPccrGk77A                         </td><td>False                                                               </td><td>True                                                                </td><td>False                                                               </td><td>False                                                               </td><td>False                                                               </td><td>False                                                               </td><td>False                                                               </td></tr>\n",
       "\t<tr><td>2003                                                                </td><td>Bud Light                                                           </td><td>https://superbowl-ads.com/2003-bud-light-hermit-crab/               </td><td>https://www.youtube.com/watch?v=ovQYgnXHooY                         </td><td>True                                                                </td><td>True                                                                </td><td>False                                                               </td><td>False                                                               </td><td>True                                                                </td><td>True                                                                </td><td>True                                                                </td></tr>\n",
       "\t<tr><td>2020                                                                </td><td>Toyota                                                              </td><td>https://superbowl-ads.com/2020-toyota-go-places-with-cobie-smulders/</td><td>https://www.youtube.com/watch?v=f34Ji70u3nk                         </td><td>True                                                                </td><td>True                                                                </td><td>False                                                               </td><td>True                                                                </td><td>True                                                                </td><td>True                                                                </td><td>False                                                               </td></tr>\n",
       "</tbody>\n",
       "</table>\n"
      ],
      "text/latex": [
       "\\begin{tabular}{r|lllllllllll}\n",
       " year & brand & superbowl\\_ads\\_dot\\_com\\_url & youtube\\_url & funny & show\\_product\\_quickly & patriotic & celebrity & danger & animals & use\\_sex\\\\\n",
       "\\hline\n",
       "\t 2018                                                                 & Toyota                                                               & https://superbowl-ads.com/good-odds-toyota/                          & https://www.youtube.com/watch?v=zeBZvwYQ-hA                          & False                                                                & False                                                                & False                                                                & False                                                                & False                                                                & False                                                                & False                                                               \\\\\n",
       "\t 2020                                                                 & Bud Light                                                            & https://superbowl-ads.com/2020-bud-light-seltzer-inside-posts-brain/ & https://www.youtube.com/watch?v=nbbp0VW7z8w                          & True                                                                 & True                                                                 & False                                                                & True                                                                 & True                                                                 & False                                                                & False                                                               \\\\\n",
       "\t 2006                                                                 & Bud Light                                                            & https://superbowl-ads.com/2006-bud-light-bear-attack/                & https://www.youtube.com/watch?v=yk0MQD5YgV8                          & True                                                                 & False                                                                & False                                                                & False                                                                & True                                                                 & True                                                                 & False                                                               \\\\\n",
       "\t 2018                                                                 & Hynudai                                                              & https://superbowl-ads.com/hope-detector-nfl-super-bowl-lii-hyundai/  & https://www.youtube.com/watch?v=lNPccrGk77A                          & False                                                                & True                                                                 & False                                                                & False                                                                & False                                                                & False                                                                & False                                                               \\\\\n",
       "\t 2003                                                                 & Bud Light                                                            & https://superbowl-ads.com/2003-bud-light-hermit-crab/                & https://www.youtube.com/watch?v=ovQYgnXHooY                          & True                                                                 & True                                                                 & False                                                                & False                                                                & True                                                                 & True                                                                 & True                                                                \\\\\n",
       "\t 2020                                                                 & Toyota                                                               & https://superbowl-ads.com/2020-toyota-go-places-with-cobie-smulders/ & https://www.youtube.com/watch?v=f34Ji70u3nk                          & True                                                                 & True                                                                 & False                                                                & True                                                                 & True                                                                 & True                                                                 & False                                                               \\\\\n",
       "\\end{tabular}\n"
      ],
      "text/markdown": [
       "\n",
       "| year | brand | superbowl_ads_dot_com_url | youtube_url | funny | show_product_quickly | patriotic | celebrity | danger | animals | use_sex |\n",
       "|---|---|---|---|---|---|---|---|---|---|---|\n",
       "| 2018                                                                 | Toyota                                                               | https://superbowl-ads.com/good-odds-toyota/                          | https://www.youtube.com/watch?v=zeBZvwYQ-hA                          | False                                                                | False                                                                | False                                                                | False                                                                | False                                                                | False                                                                | False                                                                |\n",
       "| 2020                                                                 | Bud Light                                                            | https://superbowl-ads.com/2020-bud-light-seltzer-inside-posts-brain/ | https://www.youtube.com/watch?v=nbbp0VW7z8w                          | True                                                                 | True                                                                 | False                                                                | True                                                                 | True                                                                 | False                                                                | False                                                                |\n",
       "| 2006                                                                 | Bud Light                                                            | https://superbowl-ads.com/2006-bud-light-bear-attack/                | https://www.youtube.com/watch?v=yk0MQD5YgV8                          | True                                                                 | False                                                                | False                                                                | False                                                                | True                                                                 | True                                                                 | False                                                                |\n",
       "| 2018                                                                 | Hynudai                                                              | https://superbowl-ads.com/hope-detector-nfl-super-bowl-lii-hyundai/  | https://www.youtube.com/watch?v=lNPccrGk77A                          | False                                                                | True                                                                 | False                                                                | False                                                                | False                                                                | False                                                                | False                                                                |\n",
       "| 2003                                                                 | Bud Light                                                            | https://superbowl-ads.com/2003-bud-light-hermit-crab/                | https://www.youtube.com/watch?v=ovQYgnXHooY                          | True                                                                 | True                                                                 | False                                                                | False                                                                | True                                                                 | True                                                                 | True                                                                 |\n",
       "| 2020                                                                 | Toyota                                                               | https://superbowl-ads.com/2020-toyota-go-places-with-cobie-smulders/ | https://www.youtube.com/watch?v=f34Ji70u3nk                          | True                                                                 | True                                                                 | False                                                                | True                                                                 | True                                                                 | True                                                                 | False                                                                |\n",
       "\n"
      ],
      "text/plain": [
       "  year brand    \n",
       "1 2018 Toyota   \n",
       "2 2020 Bud Light\n",
       "3 2006 Bud Light\n",
       "4 2018 Hynudai  \n",
       "5 2003 Bud Light\n",
       "6 2020 Toyota   \n",
       "  superbowl_ads_dot_com_url                                           \n",
       "1 https://superbowl-ads.com/good-odds-toyota/                         \n",
       "2 https://superbowl-ads.com/2020-bud-light-seltzer-inside-posts-brain/\n",
       "3 https://superbowl-ads.com/2006-bud-light-bear-attack/               \n",
       "4 https://superbowl-ads.com/hope-detector-nfl-super-bowl-lii-hyundai/ \n",
       "5 https://superbowl-ads.com/2003-bud-light-hermit-crab/               \n",
       "6 https://superbowl-ads.com/2020-toyota-go-places-with-cobie-smulders/\n",
       "  youtube_url                                 funny show_product_quickly\n",
       "1 https://www.youtube.com/watch?v=zeBZvwYQ-hA False False               \n",
       "2 https://www.youtube.com/watch?v=nbbp0VW7z8w True  True                \n",
       "3 https://www.youtube.com/watch?v=yk0MQD5YgV8 True  False               \n",
       "4 https://www.youtube.com/watch?v=lNPccrGk77A False True                \n",
       "5 https://www.youtube.com/watch?v=ovQYgnXHooY True  True                \n",
       "6 https://www.youtube.com/watch?v=f34Ji70u3nk True  True                \n",
       "  patriotic celebrity danger animals use_sex\n",
       "1 False     False     False  False   False  \n",
       "2 False     True      True   False   False  \n",
       "3 False     False     True   True    False  \n",
       "4 False     False     False  False   False  \n",
       "5 False     False     True   True    True   \n",
       "6 False     True      True   True    False  "
      ]
     },
     "metadata": {},
     "output_type": "display_data"
    }
   ],
   "source": [
    "head(raw)"
   ]
  },
  {
   "cell_type": "code",
   "execution_count": 7,
   "id": "9303e6c9",
   "metadata": {},
   "outputs": [],
   "source": [
    "#This is the raw data from fivethirtyeight\n",
    "#Now we're going to augment it"
   ]
  },
  {
   "cell_type": "code",
   "execution_count": 35,
   "id": "691c07ad",
   "metadata": {},
   "outputs": [
    {
     "name": "stdout",
     "output_type": "stream",
     "text": [
      "[1] \"Connecting to remote server\"\n",
      "$acceptInsecureCerts\n",
      "[1] FALSE\n",
      "\n",
      "$browserName\n",
      "[1] \"chrome\"\n",
      "\n",
      "$browserVersion\n",
      "[1] \"89.0.4389.90\"\n",
      "\n",
      "$chrome\n",
      "$chrome$chromedriverVersion\n",
      "[1] \"89.0.4389.23 (61b08ee2c50024bab004e48d2b1b083cdbdac579-refs/branch-heads/4389@{#294})\"\n",
      "\n",
      "$chrome$userDataDir\n",
      "[1] \"/tmp/.com.google.Chrome.vCqsyT\"\n",
      "\n",
      "\n",
      "$`goog:chromeOptions`\n",
      "$`goog:chromeOptions`$debuggerAddress\n",
      "[1] \"localhost:39799\"\n",
      "\n",
      "\n",
      "$networkConnectionEnabled\n",
      "[1] FALSE\n",
      "\n",
      "$pageLoadStrategy\n",
      "[1] \"normal\"\n",
      "\n",
      "$platformName\n",
      "[1] \"linux\"\n",
      "\n",
      "$proxy\n",
      "named list()\n",
      "\n",
      "$`se:cdp`\n",
      "[1] \"http://172.17.0.2:4444/session/9d0f56b5d0ab5b15b81784eede234d96/se/cdp\"\n",
      "\n",
      "$setWindowRect\n",
      "[1] TRUE\n",
      "\n",
      "$strictFileInteractability\n",
      "[1] FALSE\n",
      "\n",
      "$timeouts\n",
      "$timeouts$implicit\n",
      "[1] 0\n",
      "\n",
      "$timeouts$pageLoad\n",
      "[1] 300000\n",
      "\n",
      "$timeouts$script\n",
      "[1] 30000\n",
      "\n",
      "\n",
      "$unhandledPromptBehavior\n",
      "[1] \"dismiss and notify\"\n",
      "\n",
      "$`webauthn:extension:largeBlob`\n",
      "[1] TRUE\n",
      "\n",
      "$`webauthn:virtualAuthenticators`\n",
      "[1] TRUE\n",
      "\n",
      "$id\n",
      "[1] \"9d0f56b5d0ab5b15b81784eede234d96\"\n",
      "\n"
     ]
    }
   ],
   "source": [
    "if (Fresh_Computes && Fresh_Data){\n",
    "    remDr <- RSelenium::remoteDriver(remoteServerAddr = \"localhost\",\n",
    "                                 port = 4444,\n",
    "                                 browserName = \"chrome\")\n",
    "    remDr$open()\n",
    "}"
   ]
  },
  {
   "cell_type": "code",
   "execution_count": 9,
   "id": "ec1daa87",
   "metadata": {},
   "outputs": [
    {
     "name": "stdout",
     "output_type": "stream",
     "text": [
      "[1] \"https://www.youtube.com/watch?v=nbbp0VW7z8w\"\n"
     ]
    }
   ],
   "source": [
    "var <- as.character(raw$youtube[2])\n",
    "print(var)\n"
   ]
  },
  {
   "cell_type": "code",
   "execution_count": 15,
   "id": "b262335d",
   "metadata": {},
   "outputs": [
    {
     "name": "stderr",
     "output_type": "stream",
     "text": [
      "\n",
      "Selenium message:no such element: Unable to locate element: {\"method\":\"css selector\",\"selector\":\"[class='view-count style-scope ytd-video-view-count-renderer']\"}\n",
      "  (Session info: chrome=89.0.4389.90)\n",
      "For documentation on this error, please visit: https://selenium.dev/exceptions/#no_such_element\n",
      "Build info: version: '4.0.0-beta-3', revision: '909239cd9f'\n",
      "System info: host: '7a0166dbe9c7', ip: '172.17.0.2', os.name: 'Linux', os.arch: 'amd64', os.version: '5.4.72-microsoft-standard-WSL2', java.version: '1.8.0_282'\n",
      "Driver info: driver.version: unknown\n",
      "\n"
     ]
    },
    {
     "ename": "ERROR",
     "evalue": "Error: \t Summary: NoSuchElement\n \t Detail: An element could not be located on the page using the given search parameters.\n \t class: org.openqa.selenium.NoSuchElementException\n\t Further Details: run errorDetails method\n",
     "output_type": "error",
     "traceback": [
      "Error: \t Summary: NoSuchElement\n \t Detail: An element could not be located on the page using the given search parameters.\n \t class: org.openqa.selenium.NoSuchElementException\n\t Further Details: run errorDetails method\nTraceback:\n",
      "1. remDr$findElement(using = \"css selector\", \"[class='view-count style-scope ytd-video-view-count-renderer']\")   # at line 4 of file <text>",
      "2. queryRD(qpath, \"POST\", qdata = list(using = using, value = value))",
      "3. checkStatus(resContent)",
      "4. stop(errMessage, call. = FALSE)"
     ]
    }
   ],
   "source": [
    "if (Fresh_Computes && Fresh_Data && Dev_Checks){\n",
    "    remDr$navigate(\"https://www.youtube.com/watch?v=lNPccrGk77A\") #Entering our URL gets the browser to navigate to the page\n",
    "    remDr$screenshot(display = TRUE)\n",
    "}"
   ]
  },
  {
   "cell_type": "code",
   "execution_count": 16,
   "id": "d0770ced",
   "metadata": {},
   "outputs": [
    {
     "name": "stdout",
     "output_type": "stream",
     "text": [
      "[[1]]\n",
      "[1] \"13,860 views\"\n",
      "\n"
     ]
    }
   ],
   "source": [
    "if (Fresh_Computes && Fresh_Data && Dev_Checks){    \n",
    "    webElem <- remDr$findElement(using = \"css selector\", \"[class='view-count style-scope ytd-video-view-count-renderer']\")\n",
    "    view_number_text = webElem$getElementText()\n",
    "    print(view_number_text[])\n",
    "}"
   ]
  },
  {
   "cell_type": "code",
   "execution_count": 17,
   "id": "38911336",
   "metadata": {},
   "outputs": [
    {
     "name": "stdout",
     "output_type": "stream",
     "text": [
      "[[1]]\n",
      "[1] \"238 views\"\n",
      "\n",
      "[1] \"238 \"\n"
     ]
    }
   ],
   "source": [
    "if (Fresh_Computes && Fresh_Data && Dev_Checks){\n",
    "    webElem <- remDr$findElement(using = \"css\", \"[class='view-count style-scope ytd-video-view-count-renderer']\")\n",
    "    view_number_text = webElem$getElementText()\n",
    "    print(view_number_text)\n",
    "    view_number_text = gsub(\"views\", \"\", view_number_text)\n",
    "    view_number_text = gsub(\",\", \"\", view_number_text)\n",
    "    print(view_number_text)\n",
    "}"
   ]
  },
  {
   "cell_type": "code",
   "execution_count": 36,
   "id": "8e8a690e",
   "metadata": {},
   "outputs": [],
   "source": [
    "raw$Views <- \"NAN\""
   ]
  },
  {
   "cell_type": "code",
   "execution_count": 37,
   "id": "b79de856",
   "metadata": {},
   "outputs": [
    {
     "data": {
      "text/html": [
       "<table>\n",
       "<thead><tr><th scope=col>year</th><th scope=col>brand</th><th scope=col>superbowl_ads_dot_com_url</th><th scope=col>youtube_url</th><th scope=col>funny</th><th scope=col>show_product_quickly</th><th scope=col>patriotic</th><th scope=col>celebrity</th><th scope=col>danger</th><th scope=col>animals</th><th scope=col>use_sex</th><th scope=col>Views</th></tr></thead>\n",
       "<tbody>\n",
       "\t<tr><td>2018                                                                </td><td>Toyota                                                              </td><td>https://superbowl-ads.com/good-odds-toyota/                         </td><td>https://www.youtube.com/watch?v=zeBZvwYQ-hA                         </td><td>False                                                               </td><td>False                                                               </td><td>False                                                               </td><td>False                                                               </td><td>False                                                               </td><td>False                                                               </td><td>False                                                               </td><td>NAN                                                                 </td></tr>\n",
       "\t<tr><td>2020                                                                </td><td>Bud Light                                                           </td><td>https://superbowl-ads.com/2020-bud-light-seltzer-inside-posts-brain/</td><td>https://www.youtube.com/watch?v=nbbp0VW7z8w                         </td><td>True                                                                </td><td>True                                                                </td><td>False                                                               </td><td>True                                                                </td><td>True                                                                </td><td>False                                                               </td><td>False                                                               </td><td>NAN                                                                 </td></tr>\n",
       "\t<tr><td>2006                                                                </td><td>Bud Light                                                           </td><td>https://superbowl-ads.com/2006-bud-light-bear-attack/               </td><td>https://www.youtube.com/watch?v=yk0MQD5YgV8                         </td><td>True                                                                </td><td>False                                                               </td><td>False                                                               </td><td>False                                                               </td><td>True                                                                </td><td>True                                                                </td><td>False                                                               </td><td>NAN                                                                 </td></tr>\n",
       "\t<tr><td>2018                                                                </td><td>Hynudai                                                             </td><td>https://superbowl-ads.com/hope-detector-nfl-super-bowl-lii-hyundai/ </td><td>https://www.youtube.com/watch?v=lNPccrGk77A                         </td><td>False                                                               </td><td>True                                                                </td><td>False                                                               </td><td>False                                                               </td><td>False                                                               </td><td>False                                                               </td><td>False                                                               </td><td>NAN                                                                 </td></tr>\n",
       "\t<tr><td>2003                                                                </td><td>Bud Light                                                           </td><td>https://superbowl-ads.com/2003-bud-light-hermit-crab/               </td><td>https://www.youtube.com/watch?v=ovQYgnXHooY                         </td><td>True                                                                </td><td>True                                                                </td><td>False                                                               </td><td>False                                                               </td><td>True                                                                </td><td>True                                                                </td><td>True                                                                </td><td>NAN                                                                 </td></tr>\n",
       "\t<tr><td>2020                                                                </td><td>Toyota                                                              </td><td>https://superbowl-ads.com/2020-toyota-go-places-with-cobie-smulders/</td><td>https://www.youtube.com/watch?v=f34Ji70u3nk                         </td><td>True                                                                </td><td>True                                                                </td><td>False                                                               </td><td>True                                                                </td><td>True                                                                </td><td>True                                                                </td><td>False                                                               </td><td>NAN                                                                 </td></tr>\n",
       "</tbody>\n",
       "</table>\n"
      ],
      "text/latex": [
       "\\begin{tabular}{r|llllllllllll}\n",
       " year & brand & superbowl\\_ads\\_dot\\_com\\_url & youtube\\_url & funny & show\\_product\\_quickly & patriotic & celebrity & danger & animals & use\\_sex & Views\\\\\n",
       "\\hline\n",
       "\t 2018                                                                 & Toyota                                                               & https://superbowl-ads.com/good-odds-toyota/                          & https://www.youtube.com/watch?v=zeBZvwYQ-hA                          & False                                                                & False                                                                & False                                                                & False                                                                & False                                                                & False                                                                & False                                                                & NAN                                                                 \\\\\n",
       "\t 2020                                                                 & Bud Light                                                            & https://superbowl-ads.com/2020-bud-light-seltzer-inside-posts-brain/ & https://www.youtube.com/watch?v=nbbp0VW7z8w                          & True                                                                 & True                                                                 & False                                                                & True                                                                 & True                                                                 & False                                                                & False                                                                & NAN                                                                 \\\\\n",
       "\t 2006                                                                 & Bud Light                                                            & https://superbowl-ads.com/2006-bud-light-bear-attack/                & https://www.youtube.com/watch?v=yk0MQD5YgV8                          & True                                                                 & False                                                                & False                                                                & False                                                                & True                                                                 & True                                                                 & False                                                                & NAN                                                                 \\\\\n",
       "\t 2018                                                                 & Hynudai                                                              & https://superbowl-ads.com/hope-detector-nfl-super-bowl-lii-hyundai/  & https://www.youtube.com/watch?v=lNPccrGk77A                          & False                                                                & True                                                                 & False                                                                & False                                                                & False                                                                & False                                                                & False                                                                & NAN                                                                 \\\\\n",
       "\t 2003                                                                 & Bud Light                                                            & https://superbowl-ads.com/2003-bud-light-hermit-crab/                & https://www.youtube.com/watch?v=ovQYgnXHooY                          & True                                                                 & True                                                                 & False                                                                & False                                                                & True                                                                 & True                                                                 & True                                                                 & NAN                                                                 \\\\\n",
       "\t 2020                                                                 & Toyota                                                               & https://superbowl-ads.com/2020-toyota-go-places-with-cobie-smulders/ & https://www.youtube.com/watch?v=f34Ji70u3nk                          & True                                                                 & True                                                                 & False                                                                & True                                                                 & True                                                                 & True                                                                 & False                                                                & NAN                                                                 \\\\\n",
       "\\end{tabular}\n"
      ],
      "text/markdown": [
       "\n",
       "| year | brand | superbowl_ads_dot_com_url | youtube_url | funny | show_product_quickly | patriotic | celebrity | danger | animals | use_sex | Views |\n",
       "|---|---|---|---|---|---|---|---|---|---|---|---|\n",
       "| 2018                                                                 | Toyota                                                               | https://superbowl-ads.com/good-odds-toyota/                          | https://www.youtube.com/watch?v=zeBZvwYQ-hA                          | False                                                                | False                                                                | False                                                                | False                                                                | False                                                                | False                                                                | False                                                                | NAN                                                                  |\n",
       "| 2020                                                                 | Bud Light                                                            | https://superbowl-ads.com/2020-bud-light-seltzer-inside-posts-brain/ | https://www.youtube.com/watch?v=nbbp0VW7z8w                          | True                                                                 | True                                                                 | False                                                                | True                                                                 | True                                                                 | False                                                                | False                                                                | NAN                                                                  |\n",
       "| 2006                                                                 | Bud Light                                                            | https://superbowl-ads.com/2006-bud-light-bear-attack/                | https://www.youtube.com/watch?v=yk0MQD5YgV8                          | True                                                                 | False                                                                | False                                                                | False                                                                | True                                                                 | True                                                                 | False                                                                | NAN                                                                  |\n",
       "| 2018                                                                 | Hynudai                                                              | https://superbowl-ads.com/hope-detector-nfl-super-bowl-lii-hyundai/  | https://www.youtube.com/watch?v=lNPccrGk77A                          | False                                                                | True                                                                 | False                                                                | False                                                                | False                                                                | False                                                                | False                                                                | NAN                                                                  |\n",
       "| 2003                                                                 | Bud Light                                                            | https://superbowl-ads.com/2003-bud-light-hermit-crab/                | https://www.youtube.com/watch?v=ovQYgnXHooY                          | True                                                                 | True                                                                 | False                                                                | False                                                                | True                                                                 | True                                                                 | True                                                                 | NAN                                                                  |\n",
       "| 2020                                                                 | Toyota                                                               | https://superbowl-ads.com/2020-toyota-go-places-with-cobie-smulders/ | https://www.youtube.com/watch?v=f34Ji70u3nk                          | True                                                                 | True                                                                 | False                                                                | True                                                                 | True                                                                 | True                                                                 | False                                                                | NAN                                                                  |\n",
       "\n"
      ],
      "text/plain": [
       "  year brand    \n",
       "1 2018 Toyota   \n",
       "2 2020 Bud Light\n",
       "3 2006 Bud Light\n",
       "4 2018 Hynudai  \n",
       "5 2003 Bud Light\n",
       "6 2020 Toyota   \n",
       "  superbowl_ads_dot_com_url                                           \n",
       "1 https://superbowl-ads.com/good-odds-toyota/                         \n",
       "2 https://superbowl-ads.com/2020-bud-light-seltzer-inside-posts-brain/\n",
       "3 https://superbowl-ads.com/2006-bud-light-bear-attack/               \n",
       "4 https://superbowl-ads.com/hope-detector-nfl-super-bowl-lii-hyundai/ \n",
       "5 https://superbowl-ads.com/2003-bud-light-hermit-crab/               \n",
       "6 https://superbowl-ads.com/2020-toyota-go-places-with-cobie-smulders/\n",
       "  youtube_url                                 funny show_product_quickly\n",
       "1 https://www.youtube.com/watch?v=zeBZvwYQ-hA False False               \n",
       "2 https://www.youtube.com/watch?v=nbbp0VW7z8w True  True                \n",
       "3 https://www.youtube.com/watch?v=yk0MQD5YgV8 True  False               \n",
       "4 https://www.youtube.com/watch?v=lNPccrGk77A False True                \n",
       "5 https://www.youtube.com/watch?v=ovQYgnXHooY True  True                \n",
       "6 https://www.youtube.com/watch?v=f34Ji70u3nk True  True                \n",
       "  patriotic celebrity danger animals use_sex Views\n",
       "1 False     False     False  False   False   NAN  \n",
       "2 False     True      True   False   False   NAN  \n",
       "3 False     False     True   True    False   NAN  \n",
       "4 False     False     False  False   False   NAN  \n",
       "5 False     False     True   True    True    NAN  \n",
       "6 False     True      True   True    False   NAN  "
      ]
     },
     "metadata": {},
     "output_type": "display_data"
    }
   ],
   "source": [
    "if (Dev_Checks) {\n",
    "    head(raw)\n",
    "}"
   ]
  },
  {
   "cell_type": "code",
   "execution_count": 38,
   "id": "64a00cc0",
   "metadata": {},
   "outputs": [
    {
     "name": "stderr",
     "output_type": "stream",
     "text": [
      "\n",
      "Selenium message:no such element: Unable to locate element: {\"method\":\"css selector\",\"selector\":\"[class='view-count style-scope ytd-video-view-count-renderer']\"}\n",
      "  (Session info: chrome=89.0.4389.90)\n",
      "For documentation on this error, please visit: https://selenium.dev/exceptions/#no_such_element\n",
      "Build info: version: '4.0.0-beta-3', revision: '909239cd9f'\n",
      "System info: host: '7a0166dbe9c7', ip: '172.17.0.2', os.name: 'Linux', os.arch: 'amd64', os.version: '5.4.72-microsoft-standard-WSL2', java.version: '1.8.0_282'\n",
      "Driver info: driver.version: unknown\n",
      "\n"
     ]
    },
    {
     "name": "stdout",
     "output_type": "stream",
     "text": [
      "[1] \"Could Not Find Video\"\n",
      "[1] \"Could Not get View Count Value\"\n"
     ]
    },
    {
     "name": "stderr",
     "output_type": "stream",
     "text": [
      "\n",
      "Selenium message:no such element: Unable to locate element: {\"method\":\"css selector\",\"selector\":\"[class='view-count style-scope ytd-video-view-count-renderer']\"}\n",
      "  (Session info: chrome=89.0.4389.90)\n",
      "For documentation on this error, please visit: https://selenium.dev/exceptions/#no_such_element\n",
      "Build info: version: '4.0.0-beta-3', revision: '909239cd9f'\n",
      "System info: host: '7a0166dbe9c7', ip: '172.17.0.2', os.name: 'Linux', os.arch: 'amd64', os.version: '5.4.72-microsoft-standard-WSL2', java.version: '1.8.0_282'\n",
      "Driver info: driver.version: unknown\n",
      "\n"
     ]
    },
    {
     "name": "stdout",
     "output_type": "stream",
     "text": [
      "[1] \"Could Not Find Video\"\n",
      "[1] \"Could Not get View Count Value\"\n"
     ]
    },
    {
     "name": "stderr",
     "output_type": "stream",
     "text": [
      "\n",
      "Selenium message:no such element: Unable to locate element: {\"method\":\"css selector\",\"selector\":\"[class='view-count style-scope ytd-video-view-count-renderer']\"}\n",
      "  (Session info: chrome=89.0.4389.90)\n",
      "For documentation on this error, please visit: https://selenium.dev/exceptions/#no_such_element\n",
      "Build info: version: '4.0.0-beta-3', revision: '909239cd9f'\n",
      "System info: host: '7a0166dbe9c7', ip: '172.17.0.2', os.name: 'Linux', os.arch: 'amd64', os.version: '5.4.72-microsoft-standard-WSL2', java.version: '1.8.0_282'\n",
      "Driver info: driver.version: unknown\n",
      "\n"
     ]
    },
    {
     "name": "stdout",
     "output_type": "stream",
     "text": [
      "[1] \"Could Not Find Video\"\n",
      "[1] \"Could Not get View Count Value\"\n"
     ]
    },
    {
     "name": "stderr",
     "output_type": "stream",
     "text": [
      "\n",
      "Selenium message:no such element: Unable to locate element: {\"method\":\"css selector\",\"selector\":\"[class='view-count style-scope ytd-video-view-count-renderer']\"}\n",
      "  (Session info: chrome=89.0.4389.90)\n",
      "For documentation on this error, please visit: https://selenium.dev/exceptions/#no_such_element\n",
      "Build info: version: '4.0.0-beta-3', revision: '909239cd9f'\n",
      "System info: host: '7a0166dbe9c7', ip: '172.17.0.2', os.name: 'Linux', os.arch: 'amd64', os.version: '5.4.72-microsoft-standard-WSL2', java.version: '1.8.0_282'\n",
      "Driver info: driver.version: unknown\n",
      "\n"
     ]
    },
    {
     "name": "stdout",
     "output_type": "stream",
     "text": [
      "[1] \"Could Not Find Video\"\n",
      "[1] \"Could Not get View Count Value\"\n"
     ]
    },
    {
     "name": "stderr",
     "output_type": "stream",
     "text": [
      "\n",
      "Selenium message:no such element: Unable to locate element: {\"method\":\"css selector\",\"selector\":\"[class='view-count style-scope ytd-video-view-count-renderer']\"}\n",
      "  (Session info: chrome=89.0.4389.90)\n",
      "For documentation on this error, please visit: https://selenium.dev/exceptions/#no_such_element\n",
      "Build info: version: '4.0.0-beta-3', revision: '909239cd9f'\n",
      "System info: host: '7a0166dbe9c7', ip: '172.17.0.2', os.name: 'Linux', os.arch: 'amd64', os.version: '5.4.72-microsoft-standard-WSL2', java.version: '1.8.0_282'\n",
      "Driver info: driver.version: unknown\n",
      "\n"
     ]
    },
    {
     "name": "stdout",
     "output_type": "stream",
     "text": [
      "[1] \"Could Not Find Video\"\n",
      "[1] \"Could Not get View Count Value\"\n"
     ]
    },
    {
     "name": "stderr",
     "output_type": "stream",
     "text": [
      "\n",
      "Selenium message:no such element: Unable to locate element: {\"method\":\"css selector\",\"selector\":\"[class='view-count style-scope ytd-video-view-count-renderer']\"}\n",
      "  (Session info: chrome=89.0.4389.90)\n",
      "For documentation on this error, please visit: https://selenium.dev/exceptions/#no_such_element\n",
      "Build info: version: '4.0.0-beta-3', revision: '909239cd9f'\n",
      "System info: host: '7a0166dbe9c7', ip: '172.17.0.2', os.name: 'Linux', os.arch: 'amd64', os.version: '5.4.72-microsoft-standard-WSL2', java.version: '1.8.0_282'\n",
      "Driver info: driver.version: unknown\n",
      "\n"
     ]
    },
    {
     "name": "stdout",
     "output_type": "stream",
     "text": [
      "[1] \"Could Not Find Video\"\n",
      "[1] \"Could Not get View Count Value\"\n"
     ]
    },
    {
     "name": "stderr",
     "output_type": "stream",
     "text": [
      "\n",
      "Selenium message:no such element: Unable to locate element: {\"method\":\"css selector\",\"selector\":\"[class='view-count style-scope ytd-video-view-count-renderer']\"}\n",
      "  (Session info: chrome=89.0.4389.90)\n",
      "For documentation on this error, please visit: https://selenium.dev/exceptions/#no_such_element\n",
      "Build info: version: '4.0.0-beta-3', revision: '909239cd9f'\n",
      "System info: host: '7a0166dbe9c7', ip: '172.17.0.2', os.name: 'Linux', os.arch: 'amd64', os.version: '5.4.72-microsoft-standard-WSL2', java.version: '1.8.0_282'\n",
      "Driver info: driver.version: unknown\n",
      "\n"
     ]
    },
    {
     "name": "stdout",
     "output_type": "stream",
     "text": [
      "[1] \"Could Not Find Video\"\n",
      "[1] \"Could Not get View Count Value\"\n"
     ]
    },
    {
     "name": "stderr",
     "output_type": "stream",
     "text": [
      "\n",
      "Selenium message:no such element: Unable to locate element: {\"method\":\"css selector\",\"selector\":\"[class='view-count style-scope ytd-video-view-count-renderer']\"}\n",
      "  (Session info: chrome=89.0.4389.90)\n",
      "For documentation on this error, please visit: https://selenium.dev/exceptions/#no_such_element\n",
      "Build info: version: '4.0.0-beta-3', revision: '909239cd9f'\n",
      "System info: host: '7a0166dbe9c7', ip: '172.17.0.2', os.name: 'Linux', os.arch: 'amd64', os.version: '5.4.72-microsoft-standard-WSL2', java.version: '1.8.0_282'\n",
      "Driver info: driver.version: unknown\n",
      "\n"
     ]
    },
    {
     "name": "stdout",
     "output_type": "stream",
     "text": [
      "[1] \"Could Not Find Video\"\n",
      "[1] \"Could Not get View Count Value\"\n"
     ]
    },
    {
     "name": "stderr",
     "output_type": "stream",
     "text": [
      "\n",
      "Selenium message:no such element: Unable to locate element: {\"method\":\"css selector\",\"selector\":\"[class='view-count style-scope ytd-video-view-count-renderer']\"}\n",
      "  (Session info: chrome=89.0.4389.90)\n",
      "For documentation on this error, please visit: https://selenium.dev/exceptions/#no_such_element\n",
      "Build info: version: '4.0.0-beta-3', revision: '909239cd9f'\n",
      "System info: host: '7a0166dbe9c7', ip: '172.17.0.2', os.name: 'Linux', os.arch: 'amd64', os.version: '5.4.72-microsoft-standard-WSL2', java.version: '1.8.0_282'\n",
      "Driver info: driver.version: unknown\n",
      "\n"
     ]
    },
    {
     "name": "stdout",
     "output_type": "stream",
     "text": [
      "[1] \"Could Not Find Video\"\n",
      "[1] \"Could Not get View Count Value\"\n"
     ]
    },
    {
     "name": "stderr",
     "output_type": "stream",
     "text": [
      "\n",
      "Selenium message:no such element: Unable to locate element: {\"method\":\"css selector\",\"selector\":\"[class='view-count style-scope ytd-video-view-count-renderer']\"}\n",
      "  (Session info: chrome=89.0.4389.90)\n",
      "For documentation on this error, please visit: https://selenium.dev/exceptions/#no_such_element\n",
      "Build info: version: '4.0.0-beta-3', revision: '909239cd9f'\n",
      "System info: host: '7a0166dbe9c7', ip: '172.17.0.2', os.name: 'Linux', os.arch: 'amd64', os.version: '5.4.72-microsoft-standard-WSL2', java.version: '1.8.0_282'\n",
      "Driver info: driver.version: unknown\n",
      "\n"
     ]
    },
    {
     "name": "stdout",
     "output_type": "stream",
     "text": [
      "[1] \"Could Not Find Video\"\n",
      "[1] \"Could Not get View Count Value\"\n"
     ]
    },
    {
     "name": "stderr",
     "output_type": "stream",
     "text": [
      "\n",
      "Selenium message:no such element: Unable to locate element: {\"method\":\"css selector\",\"selector\":\"[class='view-count style-scope ytd-video-view-count-renderer']\"}\n",
      "  (Session info: chrome=89.0.4389.90)\n",
      "For documentation on this error, please visit: https://selenium.dev/exceptions/#no_such_element\n",
      "Build info: version: '4.0.0-beta-3', revision: '909239cd9f'\n",
      "System info: host: '7a0166dbe9c7', ip: '172.17.0.2', os.name: 'Linux', os.arch: 'amd64', os.version: '5.4.72-microsoft-standard-WSL2', java.version: '1.8.0_282'\n",
      "Driver info: driver.version: unknown\n",
      "\n"
     ]
    },
    {
     "name": "stdout",
     "output_type": "stream",
     "text": [
      "[1] \"Could Not Find Video\"\n",
      "[1] \"Could Not get View Count Value\"\n"
     ]
    },
    {
     "name": "stderr",
     "output_type": "stream",
     "text": [
      "\n",
      "Selenium message:no such element: Unable to locate element: {\"method\":\"css selector\",\"selector\":\"[class='view-count style-scope ytd-video-view-count-renderer']\"}\n",
      "  (Session info: chrome=89.0.4389.90)\n",
      "For documentation on this error, please visit: https://selenium.dev/exceptions/#no_such_element\n",
      "Build info: version: '4.0.0-beta-3', revision: '909239cd9f'\n",
      "System info: host: '7a0166dbe9c7', ip: '172.17.0.2', os.name: 'Linux', os.arch: 'amd64', os.version: '5.4.72-microsoft-standard-WSL2', java.version: '1.8.0_282'\n",
      "Driver info: driver.version: unknown\n",
      "\n"
     ]
    },
    {
     "name": "stdout",
     "output_type": "stream",
     "text": [
      "[1] \"Could Not Find Video\"\n",
      "[1] \"Could Not get View Count Value\"\n"
     ]
    },
    {
     "name": "stderr",
     "output_type": "stream",
     "text": [
      "\n",
      "Selenium message:no such element: Unable to locate element: {\"method\":\"css selector\",\"selector\":\"[class='view-count style-scope ytd-video-view-count-renderer']\"}\n",
      "  (Session info: chrome=89.0.4389.90)\n",
      "For documentation on this error, please visit: https://selenium.dev/exceptions/#no_such_element\n",
      "Build info: version: '4.0.0-beta-3', revision: '909239cd9f'\n",
      "System info: host: '7a0166dbe9c7', ip: '172.17.0.2', os.name: 'Linux', os.arch: 'amd64', os.version: '5.4.72-microsoft-standard-WSL2', java.version: '1.8.0_282'\n",
      "Driver info: driver.version: unknown\n",
      "\n"
     ]
    },
    {
     "name": "stdout",
     "output_type": "stream",
     "text": [
      "[1] \"Could Not Find Video\"\n",
      "[1] \"Could Not get View Count Value\"\n"
     ]
    },
    {
     "name": "stderr",
     "output_type": "stream",
     "text": [
      "\n",
      "Selenium message:no such element: Unable to locate element: {\"method\":\"css selector\",\"selector\":\"[class='view-count style-scope ytd-video-view-count-renderer']\"}\n",
      "  (Session info: chrome=89.0.4389.90)\n",
      "For documentation on this error, please visit: https://selenium.dev/exceptions/#no_such_element\n",
      "Build info: version: '4.0.0-beta-3', revision: '909239cd9f'\n",
      "System info: host: '7a0166dbe9c7', ip: '172.17.0.2', os.name: 'Linux', os.arch: 'amd64', os.version: '5.4.72-microsoft-standard-WSL2', java.version: '1.8.0_282'\n",
      "Driver info: driver.version: unknown\n",
      "\n"
     ]
    },
    {
     "name": "stdout",
     "output_type": "stream",
     "text": [
      "[1] \"Could Not Find Video\"\n",
      "[1] \"Could Not get View Count Value\"\n"
     ]
    },
    {
     "name": "stderr",
     "output_type": "stream",
     "text": [
      "\n",
      "Selenium message:no such element: Unable to locate element: {\"method\":\"css selector\",\"selector\":\"[class='view-count style-scope ytd-video-view-count-renderer']\"}\n",
      "  (Session info: chrome=89.0.4389.90)\n",
      "For documentation on this error, please visit: https://selenium.dev/exceptions/#no_such_element\n",
      "Build info: version: '4.0.0-beta-3', revision: '909239cd9f'\n",
      "System info: host: '7a0166dbe9c7', ip: '172.17.0.2', os.name: 'Linux', os.arch: 'amd64', os.version: '5.4.72-microsoft-standard-WSL2', java.version: '1.8.0_282'\n",
      "Driver info: driver.version: unknown\n",
      "\n"
     ]
    },
    {
     "name": "stdout",
     "output_type": "stream",
     "text": [
      "[1] \"Could Not Find Video\"\n",
      "[1] \"Could Not get View Count Value\"\n"
     ]
    },
    {
     "name": "stderr",
     "output_type": "stream",
     "text": [
      "Warning message in file(file, ifelse(append, \"a\", \"w\")):\n",
      "\"cannot open file 'Superbowl_adds_count.csv': Permission denied\""
     ]
    },
    {
     "ename": "ERROR",
     "evalue": "Error in file(file, ifelse(append, \"a\", \"w\")): cannot open the connection\n",
     "output_type": "error",
     "traceback": [
      "Error in file(file, ifelse(append, \"a\", \"w\")): cannot open the connection\nTraceback:\n",
      "1. write.csv(raw, \"Superbowl_adds_count.csv\", row.names = FALSE)   # at line 29 of file <text>",
      "2. eval.parent(Call)",
      "3. eval(expr, p)",
      "4. eval(expr, p)",
      "5. write.table(raw, \"Superbowl_adds_count.csv\", row.names = FALSE, \n .     col.names = TRUE, sep = \",\", dec = \".\", qmethod = \"double\")",
      "6. file(file, ifelse(append, \"a\", \"w\"))"
     ]
    }
   ],
   "source": [
    "if (Fresh_Computes && Fresh_Data){\n",
    "    length <- nrow(raw)\n",
    "    if (Dev_Checks){\n",
    "        print(\"Dev Mode Enabled\")\n",
    "        length <- 5\n",
    "    }\n",
    "    for (row_number in 1:length){\n",
    "        remDr$navigate(as.character(raw$youtube[row_number]))\n",
    "        Sys.sleep(5.0) #Could not find a way to wait for complete page load, so I threw in a wait to ensure load\n",
    "        webElem <- tryCatch({remDr$findElement(using = \"css\", \"[class='view-count style-scope ytd-video-view-count-renderer']\")},\n",
    "                            error = function(e){ print(\"Could Not Find Video\")})\n",
    "        view_number_text <- \"\"\n",
    "        if(!is.null(webElem)){\n",
    "            view_number_text <- tryCatch({webElem$getElementText()},\n",
    "                                error = function(e){ print(\"Could Not get View Count Value\")})\n",
    "        } else {\n",
    "            print(\"I could not find target\")\n",
    "        }\n",
    "        view_number_text = gsub(\"views\", \"\", view_number_text)\n",
    "        view_number_text = gsub(\",\", \"\", view_number_text)\n",
    "        if (Dev_Checks){\n",
    "            print(raw[row_number,]['youtube_url'])\n",
    "            print(view_number_text)\n",
    "        }\n",
    "        raw$Views[row_number] <- view_number_text\n",
    "    }\n",
    "    if (Dev_Checks) {\n",
    "        write.csv(raw,\"test_data.csv\", row.names = FALSE)\n",
    "    } else {\n",
    "        write.csv(raw,\"Superbowl_adds_count.csv\", row.names = FALSE)\n",
    "    }\n",
    "}\n",
    "else {\n",
    "    url.data <- \"https://raw.githubusercontent.com/fivethirtyeight/superbowl-ads/main/superbowl-ads.csv\"\n",
    "    raw <- read.csv(url(url.data), header = TRUE,) \n",
    "}"
   ]
  },
  {
   "cell_type": "code",
   "execution_count": 40,
   "id": "3cd01357",
   "metadata": {},
   "outputs": [
    {
     "data": {
      "text/html": [
       "<table>\n",
       "<thead><tr><th scope=col>year</th><th scope=col>brand</th><th scope=col>superbowl_ads_dot_com_url</th><th scope=col>youtube_url</th><th scope=col>funny</th><th scope=col>show_product_quickly</th><th scope=col>patriotic</th><th scope=col>celebrity</th><th scope=col>danger</th><th scope=col>animals</th><th scope=col>use_sex</th><th scope=col>Views</th></tr></thead>\n",
       "<tbody>\n",
       "\t<tr><td>2018                                                                </td><td>Toyota                                                              </td><td>https://superbowl-ads.com/good-odds-toyota/                         </td><td>https://www.youtube.com/watch?v=zeBZvwYQ-hA                         </td><td>False                                                               </td><td>False                                                               </td><td>False                                                               </td><td>False                                                               </td><td>False                                                               </td><td>False                                                               </td><td>False                                                               </td><td>185328                                                              </td></tr>\n",
       "\t<tr><td>2020                                                                </td><td>Bud Light                                                           </td><td>https://superbowl-ads.com/2020-bud-light-seltzer-inside-posts-brain/</td><td>https://www.youtube.com/watch?v=nbbp0VW7z8w                         </td><td>True                                                                </td><td>True                                                                </td><td>False                                                               </td><td>True                                                                </td><td>True                                                                </td><td>False                                                               </td><td>False                                                               </td><td>78717                                                               </td></tr>\n",
       "\t<tr><td>2006                                                                </td><td>Bud Light                                                           </td><td>https://superbowl-ads.com/2006-bud-light-bear-attack/               </td><td>https://www.youtube.com/watch?v=yk0MQD5YgV8                         </td><td>True                                                                </td><td>False                                                               </td><td>False                                                               </td><td>False                                                               </td><td>True                                                                </td><td>True                                                                </td><td>False                                                               </td><td>142558                                                              </td></tr>\n",
       "\t<tr><td>2018                                                                </td><td>Hynudai                                                             </td><td>https://superbowl-ads.com/hope-detector-nfl-super-bowl-lii-hyundai/ </td><td>https://www.youtube.com/watch?v=lNPccrGk77A                         </td><td>False                                                               </td><td>True                                                                </td><td>False                                                               </td><td>False                                                               </td><td>False                                                               </td><td>False                                                               </td><td>False                                                               </td><td>240                                                                 </td></tr>\n",
       "\t<tr><td>2003                                                                </td><td>Bud Light                                                           </td><td>https://superbowl-ads.com/2003-bud-light-hermit-crab/               </td><td>https://www.youtube.com/watch?v=ovQYgnXHooY                         </td><td>True                                                                </td><td>True                                                                </td><td>False                                                               </td><td>False                                                               </td><td>True                                                                </td><td>True                                                                </td><td>True                                                                </td><td>13860                                                               </td></tr>\n",
       "\t<tr><td>2020                                                                </td><td>Toyota                                                              </td><td>https://superbowl-ads.com/2020-toyota-go-places-with-cobie-smulders/</td><td>https://www.youtube.com/watch?v=f34Ji70u3nk                         </td><td>True                                                                </td><td>True                                                                </td><td>False                                                               </td><td>True                                                                </td><td>True                                                                </td><td>True                                                                </td><td>False                                                               </td><td>28043                                                               </td></tr>\n",
       "</tbody>\n",
       "</table>\n"
      ],
      "text/latex": [
       "\\begin{tabular}{r|llllllllllll}\n",
       " year & brand & superbowl\\_ads\\_dot\\_com\\_url & youtube\\_url & funny & show\\_product\\_quickly & patriotic & celebrity & danger & animals & use\\_sex & Views\\\\\n",
       "\\hline\n",
       "\t 2018                                                                 & Toyota                                                               & https://superbowl-ads.com/good-odds-toyota/                          & https://www.youtube.com/watch?v=zeBZvwYQ-hA                          & False                                                                & False                                                                & False                                                                & False                                                                & False                                                                & False                                                                & False                                                                & 185328                                                              \\\\\n",
       "\t 2020                                                                 & Bud Light                                                            & https://superbowl-ads.com/2020-bud-light-seltzer-inside-posts-brain/ & https://www.youtube.com/watch?v=nbbp0VW7z8w                          & True                                                                 & True                                                                 & False                                                                & True                                                                 & True                                                                 & False                                                                & False                                                                & 78717                                                               \\\\\n",
       "\t 2006                                                                 & Bud Light                                                            & https://superbowl-ads.com/2006-bud-light-bear-attack/                & https://www.youtube.com/watch?v=yk0MQD5YgV8                          & True                                                                 & False                                                                & False                                                                & False                                                                & True                                                                 & True                                                                 & False                                                                & 142558                                                              \\\\\n",
       "\t 2018                                                                 & Hynudai                                                              & https://superbowl-ads.com/hope-detector-nfl-super-bowl-lii-hyundai/  & https://www.youtube.com/watch?v=lNPccrGk77A                          & False                                                                & True                                                                 & False                                                                & False                                                                & False                                                                & False                                                                & False                                                                & 240                                                                 \\\\\n",
       "\t 2003                                                                 & Bud Light                                                            & https://superbowl-ads.com/2003-bud-light-hermit-crab/                & https://www.youtube.com/watch?v=ovQYgnXHooY                          & True                                                                 & True                                                                 & False                                                                & False                                                                & True                                                                 & True                                                                 & True                                                                 & 13860                                                               \\\\\n",
       "\t 2020                                                                 & Toyota                                                               & https://superbowl-ads.com/2020-toyota-go-places-with-cobie-smulders/ & https://www.youtube.com/watch?v=f34Ji70u3nk                          & True                                                                 & True                                                                 & False                                                                & True                                                                 & True                                                                 & True                                                                 & False                                                                & 28043                                                               \\\\\n",
       "\\end{tabular}\n"
      ],
      "text/markdown": [
       "\n",
       "| year | brand | superbowl_ads_dot_com_url | youtube_url | funny | show_product_quickly | patriotic | celebrity | danger | animals | use_sex | Views |\n",
       "|---|---|---|---|---|---|---|---|---|---|---|---|\n",
       "| 2018                                                                 | Toyota                                                               | https://superbowl-ads.com/good-odds-toyota/                          | https://www.youtube.com/watch?v=zeBZvwYQ-hA                          | False                                                                | False                                                                | False                                                                | False                                                                | False                                                                | False                                                                | False                                                                | 185328                                                               |\n",
       "| 2020                                                                 | Bud Light                                                            | https://superbowl-ads.com/2020-bud-light-seltzer-inside-posts-brain/ | https://www.youtube.com/watch?v=nbbp0VW7z8w                          | True                                                                 | True                                                                 | False                                                                | True                                                                 | True                                                                 | False                                                                | False                                                                | 78717                                                                |\n",
       "| 2006                                                                 | Bud Light                                                            | https://superbowl-ads.com/2006-bud-light-bear-attack/                | https://www.youtube.com/watch?v=yk0MQD5YgV8                          | True                                                                 | False                                                                | False                                                                | False                                                                | True                                                                 | True                                                                 | False                                                                | 142558                                                               |\n",
       "| 2018                                                                 | Hynudai                                                              | https://superbowl-ads.com/hope-detector-nfl-super-bowl-lii-hyundai/  | https://www.youtube.com/watch?v=lNPccrGk77A                          | False                                                                | True                                                                 | False                                                                | False                                                                | False                                                                | False                                                                | False                                                                | 240                                                                  |\n",
       "| 2003                                                                 | Bud Light                                                            | https://superbowl-ads.com/2003-bud-light-hermit-crab/                | https://www.youtube.com/watch?v=ovQYgnXHooY                          | True                                                                 | True                                                                 | False                                                                | False                                                                | True                                                                 | True                                                                 | True                                                                 | 13860                                                                |\n",
       "| 2020                                                                 | Toyota                                                               | https://superbowl-ads.com/2020-toyota-go-places-with-cobie-smulders/ | https://www.youtube.com/watch?v=f34Ji70u3nk                          | True                                                                 | True                                                                 | False                                                                | True                                                                 | True                                                                 | True                                                                 | False                                                                | 28043                                                                |\n",
       "\n"
      ],
      "text/plain": [
       "  year brand    \n",
       "1 2018 Toyota   \n",
       "2 2020 Bud Light\n",
       "3 2006 Bud Light\n",
       "4 2018 Hynudai  \n",
       "5 2003 Bud Light\n",
       "6 2020 Toyota   \n",
       "  superbowl_ads_dot_com_url                                           \n",
       "1 https://superbowl-ads.com/good-odds-toyota/                         \n",
       "2 https://superbowl-ads.com/2020-bud-light-seltzer-inside-posts-brain/\n",
       "3 https://superbowl-ads.com/2006-bud-light-bear-attack/               \n",
       "4 https://superbowl-ads.com/hope-detector-nfl-super-bowl-lii-hyundai/ \n",
       "5 https://superbowl-ads.com/2003-bud-light-hermit-crab/               \n",
       "6 https://superbowl-ads.com/2020-toyota-go-places-with-cobie-smulders/\n",
       "  youtube_url                                 funny show_product_quickly\n",
       "1 https://www.youtube.com/watch?v=zeBZvwYQ-hA False False               \n",
       "2 https://www.youtube.com/watch?v=nbbp0VW7z8w True  True                \n",
       "3 https://www.youtube.com/watch?v=yk0MQD5YgV8 True  False               \n",
       "4 https://www.youtube.com/watch?v=lNPccrGk77A False True                \n",
       "5 https://www.youtube.com/watch?v=ovQYgnXHooY True  True                \n",
       "6 https://www.youtube.com/watch?v=f34Ji70u3nk True  True                \n",
       "  patriotic celebrity danger animals use_sex Views  \n",
       "1 False     False     False  False   False   185328 \n",
       "2 False     True      True   False   False   78717  \n",
       "3 False     False     True   True    False   142558 \n",
       "4 False     False     False  False   False   240    \n",
       "5 False     False     True   True    True    13860  \n",
       "6 False     True      True   True    False   28043  "
      ]
     },
     "metadata": {},
     "output_type": "display_data"
    }
   ],
   "source": [
    "head(raw)"
   ]
  },
  {
   "cell_type": "code",
   "execution_count": 20,
   "id": "3f492cc5",
   "metadata": {},
   "outputs": [
    {
     "data": {
      "text/html": [
       "<table>\n",
       "<thead><tr><th scope=col>year</th><th scope=col>brand</th><th scope=col>superbowl_ads_dot_com_url</th><th scope=col>youtube_url</th><th scope=col>funny</th><th scope=col>show_product_quickly</th><th scope=col>patriotic</th><th scope=col>celebrity</th><th scope=col>danger</th><th scope=col>animals</th><th scope=col>use_sex</th><th scope=col>Views</th></tr></thead>\n",
       "<tbody>\n",
       "\t<tr><td>2018                                                                </td><td>Toyota                                                              </td><td>https://superbowl-ads.com/good-odds-toyota/                         </td><td>https://www.youtube.com/watch?v=zeBZvwYQ-hA                         </td><td>False                                                               </td><td>False                                                               </td><td>False                                                               </td><td>False                                                               </td><td>False                                                               </td><td>False                                                               </td><td>False                                                               </td><td>185322                                                              </td></tr>\n",
       "\t<tr><td>2020                                                                </td><td>Bud Light                                                           </td><td>https://superbowl-ads.com/2020-bud-light-seltzer-inside-posts-brain/</td><td>https://www.youtube.com/watch?v=nbbp0VW7z8w                         </td><td>True                                                                </td><td>True                                                                </td><td>False                                                               </td><td>True                                                                </td><td>True                                                                </td><td>False                                                               </td><td>False                                                               </td><td>78711                                                               </td></tr>\n",
       "\t<tr><td>2006                                                                </td><td>Bud Light                                                           </td><td>https://superbowl-ads.com/2006-bud-light-bear-attack/               </td><td>https://www.youtube.com/watch?v=yk0MQD5YgV8                         </td><td>True                                                                </td><td>False                                                               </td><td>False                                                               </td><td>False                                                               </td><td>True                                                                </td><td>True                                                                </td><td>False                                                               </td><td>142558                                                              </td></tr>\n",
       "\t<tr><td>2018                                                                </td><td>Hynudai                                                             </td><td>https://superbowl-ads.com/hope-detector-nfl-super-bowl-lii-hyundai/ </td><td>https://www.youtube.com/watch?v=lNPccrGk77A                         </td><td>False                                                               </td><td>True                                                                </td><td>False                                                               </td><td>False                                                               </td><td>False                                                               </td><td>False                                                               </td><td>False                                                               </td><td>238                                                                 </td></tr>\n",
       "\t<tr><td>2003                                                                </td><td>Bud Light                                                           </td><td>https://superbowl-ads.com/2003-bud-light-hermit-crab/               </td><td>https://www.youtube.com/watch?v=ovQYgnXHooY                         </td><td>True                                                                </td><td>True                                                                </td><td>False                                                               </td><td>False                                                               </td><td>True                                                                </td><td>True                                                                </td><td>True                                                                </td><td>13860                                                               </td></tr>\n",
       "</tbody>\n",
       "</table>\n"
      ],
      "text/latex": [
       "\\begin{tabular}{r|llllllllllll}\n",
       " year & brand & superbowl\\_ads\\_dot\\_com\\_url & youtube\\_url & funny & show\\_product\\_quickly & patriotic & celebrity & danger & animals & use\\_sex & Views\\\\\n",
       "\\hline\n",
       "\t 2018                                                                 & Toyota                                                               & https://superbowl-ads.com/good-odds-toyota/                          & https://www.youtube.com/watch?v=zeBZvwYQ-hA                          & False                                                                & False                                                                & False                                                                & False                                                                & False                                                                & False                                                                & False                                                                & 185322                                                              \\\\\n",
       "\t 2020                                                                 & Bud Light                                                            & https://superbowl-ads.com/2020-bud-light-seltzer-inside-posts-brain/ & https://www.youtube.com/watch?v=nbbp0VW7z8w                          & True                                                                 & True                                                                 & False                                                                & True                                                                 & True                                                                 & False                                                                & False                                                                & 78711                                                               \\\\\n",
       "\t 2006                                                                 & Bud Light                                                            & https://superbowl-ads.com/2006-bud-light-bear-attack/                & https://www.youtube.com/watch?v=yk0MQD5YgV8                          & True                                                                 & False                                                                & False                                                                & False                                                                & True                                                                 & True                                                                 & False                                                                & 142558                                                              \\\\\n",
       "\t 2018                                                                 & Hynudai                                                              & https://superbowl-ads.com/hope-detector-nfl-super-bowl-lii-hyundai/  & https://www.youtube.com/watch?v=lNPccrGk77A                          & False                                                                & True                                                                 & False                                                                & False                                                                & False                                                                & False                                                                & False                                                                & 238                                                                 \\\\\n",
       "\t 2003                                                                 & Bud Light                                                            & https://superbowl-ads.com/2003-bud-light-hermit-crab/                & https://www.youtube.com/watch?v=ovQYgnXHooY                          & True                                                                 & True                                                                 & False                                                                & False                                                                & True                                                                 & True                                                                 & True                                                                 & 13860                                                               \\\\\n",
       "\\end{tabular}\n"
      ],
      "text/markdown": [
       "\n",
       "| year | brand | superbowl_ads_dot_com_url | youtube_url | funny | show_product_quickly | patriotic | celebrity | danger | animals | use_sex | Views |\n",
       "|---|---|---|---|---|---|---|---|---|---|---|---|\n",
       "| 2018                                                                 | Toyota                                                               | https://superbowl-ads.com/good-odds-toyota/                          | https://www.youtube.com/watch?v=zeBZvwYQ-hA                          | False                                                                | False                                                                | False                                                                | False                                                                | False                                                                | False                                                                | False                                                                | 185322                                                               |\n",
       "| 2020                                                                 | Bud Light                                                            | https://superbowl-ads.com/2020-bud-light-seltzer-inside-posts-brain/ | https://www.youtube.com/watch?v=nbbp0VW7z8w                          | True                                                                 | True                                                                 | False                                                                | True                                                                 | True                                                                 | False                                                                | False                                                                | 78711                                                                |\n",
       "| 2006                                                                 | Bud Light                                                            | https://superbowl-ads.com/2006-bud-light-bear-attack/                | https://www.youtube.com/watch?v=yk0MQD5YgV8                          | True                                                                 | False                                                                | False                                                                | False                                                                | True                                                                 | True                                                                 | False                                                                | 142558                                                               |\n",
       "| 2018                                                                 | Hynudai                                                              | https://superbowl-ads.com/hope-detector-nfl-super-bowl-lii-hyundai/  | https://www.youtube.com/watch?v=lNPccrGk77A                          | False                                                                | True                                                                 | False                                                                | False                                                                | False                                                                | False                                                                | False                                                                | 238                                                                  |\n",
       "| 2003                                                                 | Bud Light                                                            | https://superbowl-ads.com/2003-bud-light-hermit-crab/                | https://www.youtube.com/watch?v=ovQYgnXHooY                          | True                                                                 | True                                                                 | False                                                                | False                                                                | True                                                                 | True                                                                 | True                                                                 | 13860                                                                |\n",
       "\n"
      ],
      "text/plain": [
       "  year brand    \n",
       "1 2018 Toyota   \n",
       "2 2020 Bud Light\n",
       "3 2006 Bud Light\n",
       "4 2018 Hynudai  \n",
       "5 2003 Bud Light\n",
       "  superbowl_ads_dot_com_url                                           \n",
       "1 https://superbowl-ads.com/good-odds-toyota/                         \n",
       "2 https://superbowl-ads.com/2020-bud-light-seltzer-inside-posts-brain/\n",
       "3 https://superbowl-ads.com/2006-bud-light-bear-attack/               \n",
       "4 https://superbowl-ads.com/hope-detector-nfl-super-bowl-lii-hyundai/ \n",
       "5 https://superbowl-ads.com/2003-bud-light-hermit-crab/               \n",
       "  youtube_url                                 funny show_product_quickly\n",
       "1 https://www.youtube.com/watch?v=zeBZvwYQ-hA False False               \n",
       "2 https://www.youtube.com/watch?v=nbbp0VW7z8w True  True                \n",
       "3 https://www.youtube.com/watch?v=yk0MQD5YgV8 True  False               \n",
       "4 https://www.youtube.com/watch?v=lNPccrGk77A False True                \n",
       "5 https://www.youtube.com/watch?v=ovQYgnXHooY True  True                \n",
       "  patriotic celebrity danger animals use_sex Views  \n",
       "1 False     False     False  False   False   185322 \n",
       "2 False     True      True   False   False   78711  \n",
       "3 False     False     True   True    False   142558 \n",
       "4 False     False     False  False   False   238    \n",
       "5 False     False     True   True    True    13860  "
      ]
     },
     "metadata": {},
     "output_type": "display_data"
    }
   ],
   "source": [
    "raw<-raw[!(raw$Views==\"NAN\"),] #remove the empty rows\n",
    "head(raw)"
   ]
  },
  {
   "cell_type": "code",
   "execution_count": 26,
   "id": "a6e97d85",
   "metadata": {},
   "outputs": [],
   "source": [
    "c_dat = subset(raw, select = -c(superbowl_ads_dot_com_url,youtube_url) )"
   ]
  },
  {
   "cell_type": "code",
   "execution_count": 27,
   "id": "eb6a2750",
   "metadata": {},
   "outputs": [
    {
     "data": {
      "text/html": [
       "<table>\n",
       "<thead><tr><th scope=col>year</th><th scope=col>brand</th><th scope=col>funny</th><th scope=col>show_product_quickly</th><th scope=col>patriotic</th><th scope=col>celebrity</th><th scope=col>danger</th><th scope=col>animals</th><th scope=col>use_sex</th><th scope=col>Views</th></tr></thead>\n",
       "<tbody>\n",
       "\t<tr><td>2018     </td><td>Toyota   </td><td>False    </td><td>False    </td><td>False    </td><td>False    </td><td>False    </td><td>False    </td><td>False    </td><td>185322   </td></tr>\n",
       "\t<tr><td>2020     </td><td>Bud Light</td><td>True     </td><td>True     </td><td>False    </td><td>True     </td><td>True     </td><td>False    </td><td>False    </td><td>78711    </td></tr>\n",
       "\t<tr><td>2006     </td><td>Bud Light</td><td>True     </td><td>False    </td><td>False    </td><td>False    </td><td>True     </td><td>True     </td><td>False    </td><td>142558   </td></tr>\n",
       "\t<tr><td>2018     </td><td>Hynudai  </td><td>False    </td><td>True     </td><td>False    </td><td>False    </td><td>False    </td><td>False    </td><td>False    </td><td>238      </td></tr>\n",
       "\t<tr><td>2003     </td><td>Bud Light</td><td>True     </td><td>True     </td><td>False    </td><td>False    </td><td>True     </td><td>True     </td><td>True     </td><td>13860    </td></tr>\n",
       "</tbody>\n",
       "</table>\n"
      ],
      "text/latex": [
       "\\begin{tabular}{r|llllllllll}\n",
       " year & brand & funny & show\\_product\\_quickly & patriotic & celebrity & danger & animals & use\\_sex & Views\\\\\n",
       "\\hline\n",
       "\t 2018      & Toyota    & False     & False     & False     & False     & False     & False     & False     & 185322   \\\\\n",
       "\t 2020      & Bud Light & True      & True      & False     & True      & True      & False     & False     & 78711    \\\\\n",
       "\t 2006      & Bud Light & True      & False     & False     & False     & True      & True      & False     & 142558   \\\\\n",
       "\t 2018      & Hynudai   & False     & True      & False     & False     & False     & False     & False     & 238      \\\\\n",
       "\t 2003      & Bud Light & True      & True      & False     & False     & True      & True      & True      & 13860    \\\\\n",
       "\\end{tabular}\n"
      ],
      "text/markdown": [
       "\n",
       "| year | brand | funny | show_product_quickly | patriotic | celebrity | danger | animals | use_sex | Views |\n",
       "|---|---|---|---|---|---|---|---|---|---|\n",
       "| 2018      | Toyota    | False     | False     | False     | False     | False     | False     | False     | 185322    |\n",
       "| 2020      | Bud Light | True      | True      | False     | True      | True      | False     | False     | 78711     |\n",
       "| 2006      | Bud Light | True      | False     | False     | False     | True      | True      | False     | 142558    |\n",
       "| 2018      | Hynudai   | False     | True      | False     | False     | False     | False     | False     | 238       |\n",
       "| 2003      | Bud Light | True      | True      | False     | False     | True      | True      | True      | 13860     |\n",
       "\n"
      ],
      "text/plain": [
       "  year brand     funny show_product_quickly patriotic celebrity danger animals\n",
       "1 2018 Toyota    False False                False     False     False  False  \n",
       "2 2020 Bud Light True  True                 False     True      True   False  \n",
       "3 2006 Bud Light True  False                False     False     True   True   \n",
       "4 2018 Hynudai   False True                 False     False     False  False  \n",
       "5 2003 Bud Light True  True                 False     False     True   True   \n",
       "  use_sex Views  \n",
       "1 False   185322 \n",
       "2 False   78711  \n",
       "3 False   142558 \n",
       "4 False   238    \n",
       "5 True    13860  "
      ]
     },
     "metadata": {},
     "output_type": "display_data"
    }
   ],
   "source": [
    "head(c_dat)"
   ]
  },
  {
   "cell_type": "code",
   "execution_count": 24,
   "id": "108ffe55",
   "metadata": {},
   "outputs": [
    {
     "data": {
      "text/html": [
       "<table>\n",
       "<thead><tr><th></th><th scope=col>brand</th></tr></thead>\n",
       "<tbody>\n",
       "\t<tr><th scope=row>1</th><td>Toyota   </td></tr>\n",
       "\t<tr><th scope=row>2</th><td>Bud Light</td></tr>\n",
       "\t<tr><th scope=row>4</th><td>Hynudai  </td></tr>\n",
       "\t<tr><th scope=row>7</th><td>Coca-Cola</td></tr>\n",
       "\t<tr><th scope=row>8</th><td>Kia      </td></tr>\n",
       "\t<tr><th scope=row>10</th><td>Budweiser</td></tr>\n",
       "\t<tr><th scope=row>15</th><td>NFL      </td></tr>\n",
       "\t<tr><th scope=row>18</th><td>Pepsi    </td></tr>\n",
       "\t<tr><th scope=row>20</th><td>Doritos  </td></tr>\n",
       "\t<tr><th scope=row>34</th><td>E-Trade  </td></tr>\n",
       "</tbody>\n",
       "</table>\n"
      ],
      "text/latex": [
       "\\begin{tabular}{r|l}\n",
       "  & brand\\\\\n",
       "\\hline\n",
       "\t1 & Toyota   \\\\\n",
       "\t2 & Bud Light\\\\\n",
       "\t4 & Hynudai  \\\\\n",
       "\t7 & Coca-Cola\\\\\n",
       "\t8 & Kia      \\\\\n",
       "\t10 & Budweiser\\\\\n",
       "\t15 & NFL      \\\\\n",
       "\t18 & Pepsi    \\\\\n",
       "\t20 & Doritos  \\\\\n",
       "\t34 & E-Trade  \\\\\n",
       "\\end{tabular}\n"
      ],
      "text/markdown": [
       "\n",
       "| <!--/--> | brand |\n",
       "|---|---|\n",
       "| 1 | Toyota    |\n",
       "| 2 | Bud Light |\n",
       "| 4 | Hynudai   |\n",
       "| 7 | Coca-Cola |\n",
       "| 8 | Kia       |\n",
       "| 10 | Budweiser |\n",
       "| 15 | NFL       |\n",
       "| 18 | Pepsi     |\n",
       "| 20 | Doritos   |\n",
       "| 34 | E-Trade   |\n",
       "\n"
      ],
      "text/plain": [
       "   brand    \n",
       "1  Toyota   \n",
       "2  Bud Light\n",
       "4  Hynudai  \n",
       "7  Coca-Cola\n",
       "8  Kia      \n",
       "10 Budweiser\n",
       "15 NFL      \n",
       "18 Pepsi    \n",
       "20 Doritos  \n",
       "34 E-Trade  "
      ]
     },
     "metadata": {},
     "output_type": "display_data"
    }
   ],
   "source": [
    "unique(c_dat['brand'])"
   ]
  },
  {
   "cell_type": "code",
   "execution_count": null,
   "id": "f6186336",
   "metadata": {},
   "outputs": [],
   "source": [
    "#Findings and Recommendations\n",
    "#Practically I wanted to develop the data backing a predictor, and I think I could probably do a better job of augmenting\n",
    "# This mainly relies on scraping youtube data, where not all cases actually even have a presence. It may be better\n",
    "# to look at the viewership numbers from the superbowl itself. \n",
    "# In terms of the origin data set, I would love to see a breakdown on time or % of ad as I think that would be interesting!\n"
   ]
  },
  {
   "cell_type": "code",
   "execution_count": 29,
   "id": "0cf1ddc6",
   "metadata": {},
   "outputs": [],
   "source": [
    "\n"
   ]
  },
  {
   "cell_type": "code",
   "execution_count": null,
   "id": "0eb2e86c",
   "metadata": {},
   "outputs": [],
   "source": []
  }
 ],
 "metadata": {
  "kernelspec": {
   "display_name": "R",
   "language": "R",
   "name": "ir"
  },
  "language_info": {
   "codemirror_mode": "r",
   "file_extension": ".r",
   "mimetype": "text/x-r-source",
   "name": "R",
   "pygments_lexer": "r",
   "version": "3.6.1"
  }
 },
 "nbformat": 4,
 "nbformat_minor": 5
}
