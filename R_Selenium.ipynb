{
 "cells": [
  {
   "cell_type": "code",
   "execution_count": 34,
   "id": "ee5f42e3",
   "metadata": {},
   "outputs": [],
   "source": [
    "#This Stack Requires:\n",
    "# 1. Docker\n",
    "# 2. Jupyter\n",
    "# 3. Selenium\n",
    "# 4. RSelenium\n",
    "\n",
    "#Practically, I wanted to create a predictor that links the year, the content, and the 3rd party views on youtube.\n",
    "#I wanted to practice selinum scraping in R, and this seemed a perfect example as this already has links\n"
   ]
  },
  {
   "cell_type": "code",
   "execution_count": 35,
   "id": "491f9e91",
   "metadata": {},
   "outputs": [],
   "source": [
    "#Start your Selinum Instance Now\n",
    "#docker run -d -p 4444:4444 --shm-size=\"2g\" selenium/standalone-chrome:4.1.2-20220131"
   ]
  },
  {
   "cell_type": "code",
   "execution_count": 36,
   "id": "29347ea0",
   "metadata": {},
   "outputs": [],
   "source": [
    "use_docker <- TRUE # Uses docker to pull and augment data, requires the Selenium Instance\n",
    "use_dev <- TRUE #Regenerates all values, rather than pulling from final values\n",
    "Fresh_Data <- TRUE\n",
    "Fresh_Computes <- TRUE\n",
    "Dev_Checks <- TRUE"
   ]
  },
  {
   "cell_type": "code",
   "execution_count": 37,
   "id": "95b1c112",
   "metadata": {},
   "outputs": [
    {
     "ename": "ERROR",
     "evalue": "Error: package or namespace load failed for 'tidyverse' in loadNamespace(j <- i[[1L]], c(lib.loc, .libPaths()), versionCheck = vI[[j]]):\n there is no package called 'pillar'\n",
     "output_type": "error",
     "traceback": [
      "Error: package or namespace load failed for 'tidyverse' in loadNamespace(j <- i[[1L]], c(lib.loc, .libPaths()), versionCheck = vI[[j]]):\n there is no package called 'pillar'\nTraceback:\n",
      "1. library(tidyverse)",
      "2. tryCatch({\n .     attr(package, \"LibPath\") <- which.lib.loc\n .     ns <- loadNamespace(package, lib.loc)\n .     env <- attachNamespace(ns, pos = pos, deps, exclude, include.only)\n . }, error = function(e) {\n .     P <- if (!is.null(cc <- conditionCall(e))) \n .         paste(\" in\", deparse(cc)[1L])\n .     else \"\"\n .     msg <- gettextf(\"package or namespace load failed for %s%s:\\n %s\", \n .         sQuote(package), P, conditionMessage(e))\n .     if (logical.return) \n .         message(paste(\"Error:\", msg), domain = NA)\n .     else stop(msg, call. = FALSE, domain = NA)\n . })",
      "3. tryCatchList(expr, classes, parentenv, handlers)",
      "4. tryCatchOne(expr, names, parentenv, handlers[[1L]])",
      "5. value[[3L]](cond)",
      "6. stop(msg, call. = FALSE, domain = NA)"
     ]
    }
   ],
   "source": [
    "install.packages(\"RSelenium\")\n",
    "library(tidyverse)"
   ]
  },
  {
   "cell_type": "code",
   "execution_count": 1,
   "id": "eb3962d9",
   "metadata": {},
   "outputs": [],
   "source": [
    "url.data <- \"https://raw.githubusercontent.com/fivethirtyeight/superbowl-ads/main/superbowl-ads.csv\"\n",
    "\n",
    "raw <- read.csv(url(url.data), header = TRUE,) "
   ]
  },
  {
   "cell_type": "code",
   "execution_count": 2,
   "id": "1412e087",
   "metadata": {},
   "outputs": [
    {
     "data": {
      "text/html": [
       "<table>\n",
       "<thead><tr><th scope=col>year</th><th scope=col>brand</th><th scope=col>superbowl_ads_dot_com_url</th><th scope=col>youtube_url</th><th scope=col>funny</th><th scope=col>show_product_quickly</th><th scope=col>patriotic</th><th scope=col>celebrity</th><th scope=col>danger</th><th scope=col>animals</th><th scope=col>use_sex</th></tr></thead>\n",
       "<tbody>\n",
       "\t<tr><td>2018                                                                </td><td>Toyota                                                              </td><td>https://superbowl-ads.com/good-odds-toyota/                         </td><td>https://www.youtube.com/watch?v=zeBZvwYQ-hA                         </td><td>False                                                               </td><td>False                                                               </td><td>False                                                               </td><td>False                                                               </td><td>False                                                               </td><td>False                                                               </td><td>False                                                               </td></tr>\n",
       "\t<tr><td>2020                                                                </td><td>Bud Light                                                           </td><td>https://superbowl-ads.com/2020-bud-light-seltzer-inside-posts-brain/</td><td>https://www.youtube.com/watch?v=nbbp0VW7z8w                         </td><td>True                                                                </td><td>True                                                                </td><td>False                                                               </td><td>True                                                                </td><td>True                                                                </td><td>False                                                               </td><td>False                                                               </td></tr>\n",
       "\t<tr><td>2006                                                                </td><td>Bud Light                                                           </td><td>https://superbowl-ads.com/2006-bud-light-bear-attack/               </td><td>https://www.youtube.com/watch?v=yk0MQD5YgV8                         </td><td>True                                                                </td><td>False                                                               </td><td>False                                                               </td><td>False                                                               </td><td>True                                                                </td><td>True                                                                </td><td>False                                                               </td></tr>\n",
       "\t<tr><td>2018                                                                </td><td>Hynudai                                                             </td><td>https://superbowl-ads.com/hope-detector-nfl-super-bowl-lii-hyundai/ </td><td>https://www.youtube.com/watch?v=lNPccrGk77A                         </td><td>False                                                               </td><td>True                                                                </td><td>False                                                               </td><td>False                                                               </td><td>False                                                               </td><td>False                                                               </td><td>False                                                               </td></tr>\n",
       "\t<tr><td>2003                                                                </td><td>Bud Light                                                           </td><td>https://superbowl-ads.com/2003-bud-light-hermit-crab/               </td><td>https://www.youtube.com/watch?v=ovQYgnXHooY                         </td><td>True                                                                </td><td>True                                                                </td><td>False                                                               </td><td>False                                                               </td><td>True                                                                </td><td>True                                                                </td><td>True                                                                </td></tr>\n",
       "\t<tr><td>2020                                                                </td><td>Toyota                                                              </td><td>https://superbowl-ads.com/2020-toyota-go-places-with-cobie-smulders/</td><td>https://www.youtube.com/watch?v=f34Ji70u3nk                         </td><td>True                                                                </td><td>True                                                                </td><td>False                                                               </td><td>True                                                                </td><td>True                                                                </td><td>True                                                                </td><td>False                                                               </td></tr>\n",
       "</tbody>\n",
       "</table>\n"
      ],
      "text/latex": [
       "\\begin{tabular}{r|lllllllllll}\n",
       " year & brand & superbowl\\_ads\\_dot\\_com\\_url & youtube\\_url & funny & show\\_product\\_quickly & patriotic & celebrity & danger & animals & use\\_sex\\\\\n",
       "\\hline\n",
       "\t 2018                                                                 & Toyota                                                               & https://superbowl-ads.com/good-odds-toyota/                          & https://www.youtube.com/watch?v=zeBZvwYQ-hA                          & False                                                                & False                                                                & False                                                                & False                                                                & False                                                                & False                                                                & False                                                               \\\\\n",
       "\t 2020                                                                 & Bud Light                                                            & https://superbowl-ads.com/2020-bud-light-seltzer-inside-posts-brain/ & https://www.youtube.com/watch?v=nbbp0VW7z8w                          & True                                                                 & True                                                                 & False                                                                & True                                                                 & True                                                                 & False                                                                & False                                                               \\\\\n",
       "\t 2006                                                                 & Bud Light                                                            & https://superbowl-ads.com/2006-bud-light-bear-attack/                & https://www.youtube.com/watch?v=yk0MQD5YgV8                          & True                                                                 & False                                                                & False                                                                & False                                                                & True                                                                 & True                                                                 & False                                                               \\\\\n",
       "\t 2018                                                                 & Hynudai                                                              & https://superbowl-ads.com/hope-detector-nfl-super-bowl-lii-hyundai/  & https://www.youtube.com/watch?v=lNPccrGk77A                          & False                                                                & True                                                                 & False                                                                & False                                                                & False                                                                & False                                                                & False                                                               \\\\\n",
       "\t 2003                                                                 & Bud Light                                                            & https://superbowl-ads.com/2003-bud-light-hermit-crab/                & https://www.youtube.com/watch?v=ovQYgnXHooY                          & True                                                                 & True                                                                 & False                                                                & False                                                                & True                                                                 & True                                                                 & True                                                                \\\\\n",
       "\t 2020                                                                 & Toyota                                                               & https://superbowl-ads.com/2020-toyota-go-places-with-cobie-smulders/ & https://www.youtube.com/watch?v=f34Ji70u3nk                          & True                                                                 & True                                                                 & False                                                                & True                                                                 & True                                                                 & True                                                                 & False                                                               \\\\\n",
       "\\end{tabular}\n"
      ],
      "text/markdown": [
       "\n",
       "| year | brand | superbowl_ads_dot_com_url | youtube_url | funny | show_product_quickly | patriotic | celebrity | danger | animals | use_sex |\n",
       "|---|---|---|---|---|---|---|---|---|---|---|\n",
       "| 2018                                                                 | Toyota                                                               | https://superbowl-ads.com/good-odds-toyota/                          | https://www.youtube.com/watch?v=zeBZvwYQ-hA                          | False                                                                | False                                                                | False                                                                | False                                                                | False                                                                | False                                                                | False                                                                |\n",
       "| 2020                                                                 | Bud Light                                                            | https://superbowl-ads.com/2020-bud-light-seltzer-inside-posts-brain/ | https://www.youtube.com/watch?v=nbbp0VW7z8w                          | True                                                                 | True                                                                 | False                                                                | True                                                                 | True                                                                 | False                                                                | False                                                                |\n",
       "| 2006                                                                 | Bud Light                                                            | https://superbowl-ads.com/2006-bud-light-bear-attack/                | https://www.youtube.com/watch?v=yk0MQD5YgV8                          | True                                                                 | False                                                                | False                                                                | False                                                                | True                                                                 | True                                                                 | False                                                                |\n",
       "| 2018                                                                 | Hynudai                                                              | https://superbowl-ads.com/hope-detector-nfl-super-bowl-lii-hyundai/  | https://www.youtube.com/watch?v=lNPccrGk77A                          | False                                                                | True                                                                 | False                                                                | False                                                                | False                                                                | False                                                                | False                                                                |\n",
       "| 2003                                                                 | Bud Light                                                            | https://superbowl-ads.com/2003-bud-light-hermit-crab/                | https://www.youtube.com/watch?v=ovQYgnXHooY                          | True                                                                 | True                                                                 | False                                                                | False                                                                | True                                                                 | True                                                                 | True                                                                 |\n",
       "| 2020                                                                 | Toyota                                                               | https://superbowl-ads.com/2020-toyota-go-places-with-cobie-smulders/ | https://www.youtube.com/watch?v=f34Ji70u3nk                          | True                                                                 | True                                                                 | False                                                                | True                                                                 | True                                                                 | True                                                                 | False                                                                |\n",
       "\n"
      ],
      "text/plain": [
       "  year brand    \n",
       "1 2018 Toyota   \n",
       "2 2020 Bud Light\n",
       "3 2006 Bud Light\n",
       "4 2018 Hynudai  \n",
       "5 2003 Bud Light\n",
       "6 2020 Toyota   \n",
       "  superbowl_ads_dot_com_url                                           \n",
       "1 https://superbowl-ads.com/good-odds-toyota/                         \n",
       "2 https://superbowl-ads.com/2020-bud-light-seltzer-inside-posts-brain/\n",
       "3 https://superbowl-ads.com/2006-bud-light-bear-attack/               \n",
       "4 https://superbowl-ads.com/hope-detector-nfl-super-bowl-lii-hyundai/ \n",
       "5 https://superbowl-ads.com/2003-bud-light-hermit-crab/               \n",
       "6 https://superbowl-ads.com/2020-toyota-go-places-with-cobie-smulders/\n",
       "  youtube_url                                 funny show_product_quickly\n",
       "1 https://www.youtube.com/watch?v=zeBZvwYQ-hA False False               \n",
       "2 https://www.youtube.com/watch?v=nbbp0VW7z8w True  True                \n",
       "3 https://www.youtube.com/watch?v=yk0MQD5YgV8 True  False               \n",
       "4 https://www.youtube.com/watch?v=lNPccrGk77A False True                \n",
       "5 https://www.youtube.com/watch?v=ovQYgnXHooY True  True                \n",
       "6 https://www.youtube.com/watch?v=f34Ji70u3nk True  True                \n",
       "  patriotic celebrity danger animals use_sex\n",
       "1 False     False     False  False   False  \n",
       "2 False     True      True   False   False  \n",
       "3 False     False     True   True    False  \n",
       "4 False     False     False  False   False  \n",
       "5 False     False     True   True    True   \n",
       "6 False     True      True   True    False  "
      ]
     },
     "metadata": {},
     "output_type": "display_data"
    }
   ],
   "source": [
    "head(raw)"
   ]
  },
  {
   "cell_type": "code",
   "execution_count": null,
   "id": "9303e6c9",
   "metadata": {},
   "outputs": [],
   "source": [
    "#This is the raw data from fivethirtyeight\n",
    "#Now we're going to augment it"
   ]
  },
  {
   "cell_type": "code",
   "execution_count": 29,
   "id": "691c07ad",
   "metadata": {},
   "outputs": [
    {
     "name": "stdout",
     "output_type": "stream",
     "text": [
      "[1] \"Connecting to remote server\"\n",
      "$acceptInsecureCerts\n",
      "[1] FALSE\n",
      "\n",
      "$browserName\n",
      "[1] \"chrome\"\n",
      "\n",
      "$browserVersion\n",
      "[1] \"89.0.4389.90\"\n",
      "\n",
      "$chrome\n",
      "$chrome$chromedriverVersion\n",
      "[1] \"89.0.4389.23 (61b08ee2c50024bab004e48d2b1b083cdbdac579-refs/branch-heads/4389@{#294})\"\n",
      "\n",
      "$chrome$userDataDir\n",
      "[1] \"/tmp/.com.google.Chrome.M6L1Cr\"\n",
      "\n",
      "\n",
      "$`goog:chromeOptions`\n",
      "$`goog:chromeOptions`$debuggerAddress\n",
      "[1] \"localhost:37293\"\n",
      "\n",
      "\n",
      "$networkConnectionEnabled\n",
      "[1] FALSE\n",
      "\n",
      "$pageLoadStrategy\n",
      "[1] \"normal\"\n",
      "\n",
      "$platformName\n",
      "[1] \"linux\"\n",
      "\n",
      "$proxy\n",
      "named list()\n",
      "\n",
      "$`se:cdp`\n",
      "[1] \"http://172.17.0.2:4444/session/41fe979503c83840609bce4c1a80b0c2/se/cdp\"\n",
      "\n",
      "$setWindowRect\n",
      "[1] TRUE\n",
      "\n",
      "$strictFileInteractability\n",
      "[1] FALSE\n",
      "\n",
      "$timeouts\n",
      "$timeouts$implicit\n",
      "[1] 0\n",
      "\n",
      "$timeouts$pageLoad\n",
      "[1] 300000\n",
      "\n",
      "$timeouts$script\n",
      "[1] 30000\n",
      "\n",
      "\n",
      "$unhandledPromptBehavior\n",
      "[1] \"dismiss and notify\"\n",
      "\n",
      "$`webauthn:extension:largeBlob`\n",
      "[1] TRUE\n",
      "\n",
      "$`webauthn:virtualAuthenticators`\n",
      "[1] TRUE\n",
      "\n",
      "$id\n",
      "[1] \"41fe979503c83840609bce4c1a80b0c2\"\n",
      "\n"
     ]
    }
   ],
   "source": [
    "if (Fresh_Computes && Fresh_Data){\n",
    "    remDr <- RSelenium::remoteDriver(remoteServerAddr = \"localhost\",\n",
    "                                 port = 4444,\n",
    "                                 browserName = \"chrome\")\n",
    "    remDr$open()\n",
    "}"
   ]
  },
  {
   "cell_type": "code",
   "execution_count": 140,
   "id": "ec1daa87",
   "metadata": {},
   "outputs": [
    {
     "name": "stdout",
     "output_type": "stream",
     "text": [
      "      brand\n",
      "3 Bud Light\n"
     ]
    }
   ],
   "source": [
    "print(raw[3,]['brand'])\n"
   ]
  },
  {
   "cell_type": "code",
   "execution_count": 30,
   "id": "b262335d",
   "metadata": {},
   "outputs": [],
   "source": [
    "if (Fresh_Computes && Fresh_Data && Dev_Checks){\n",
    "    remDr$navigate(\"https://www.youtube.com/watch?v=zeBZvwYQ-hA\") #Entering our URL gets the browser to navigate to the page\n",
    "    remDr$screenshot(display = TRUE)\n",
    "}"
   ]
  },
  {
   "cell_type": "code",
   "execution_count": 33,
   "id": "38911336",
   "metadata": {},
   "outputs": [
    {
     "ename": "ERROR",
     "evalue": "Error in str_remove(view_number_text, \"views\"): could not find function \"str_remove\"\n",
     "output_type": "error",
     "traceback": [
      "Error in str_remove(view_number_text, \"views\"): could not find function \"str_remove\"\nTraceback:\n",
      "1. print(str_remove(view_number_text, \"views\"))   # at line 4 of file <text>"
     ]
    }
   ],
   "source": [
    "if (Fresh_Computes && Fresh_Data){\n",
    "    webElem <- remDr$findElement(using = \"css\", \"[class='view-count style-scope ytd-video-view-count-renderer']\")\n",
    "    view_number_text = webElem$getElementText()\n",
    "    print(str_remove(view_number_text, \"views\"))\n",
    "}"
   ]
  },
  {
   "cell_type": "code",
   "execution_count": 25,
   "id": "411c101d",
   "metadata": {},
   "outputs": [
    {
     "name": "stdout",
     "output_type": "stream",
     "text": [
      "[1] \"https://www.youtube.com/watch?v=zeBZvwYQ-hA\"\n",
      "[1] \"https://www.youtube.com/watch?v=nbbp0VW7z8w\"\n",
      "[1] \"https://www.youtube.com/watch?v=yk0MQD5YgV8\"\n",
      "[1] \"https://www.youtube.com/watch?v=lNPccrGk77A\"\n",
      "[1] \"https://www.youtube.com/watch?v=ovQYgnXHooY\"\n",
      "[1] \"https://www.youtube.com/watch?v=f34Ji70u3nk\"\n",
      "[1] \"https://www.youtube.com/watch?v=-gAZRN3SCBw\"\n",
      "[1] \"https://www.youtube.com/watch?v=lMs79UXam9A\"\n",
      "[1] \"https://www.youtube.com/watch?v=WBvkmWDjsYc\"\n",
      "[1] \"https://www.youtube.com/watch?v=J0xugdotpp8\"\n",
      "[1] \"https://www.youtube.com/watch?v=dWQqIeAYfK8\"\n",
      "[1] \"https://www.youtube.com/watch?v=agISXMN4tng\"\n",
      "[1] \"https://www.youtube.com/watch?v=7KHlMJE84eA\"\n",
      "[1] \"https://www.youtube.com/watch?v=1MZUvib98Rs\"\n",
      "[1] \"https://www.youtube.com/watch?v=lbkafMhmvMo\"\n",
      "[1] \"https://www.youtube.com/watch?v=9csH_Hy-7A4\"\n",
      "[1] \"https://www.youtube.com/watch?v=-gTWA5AsTP8\"\n",
      "[1] \"https://www.youtube.com/watch?v=qUZaSf7T7ig\"\n",
      "[1] \"https://www.youtube.com/watch?v=mjN3OY9Eefk\"\n",
      "[1] \"https://www.youtube.com/watch?v=6xVnq31Vk8Y\"\n",
      "[1] \"https://www.youtube.com/watch?v=aOfRpCp6Pgw\"\n",
      "[1] \"https://www.youtube.com/watch?v=Ozb_fJB_z6o\"\n",
      "[1] \"https://www.youtube.com/watch?v=6mfJ0EsqLWs\"\n",
      "[1] \"https://www.youtube.com/watch?v=ukpnHh4eEeQ\"\n",
      "[1] \"https://www.youtube.com/watch?v=8FMU5yPZgwM\"\n",
      "[1] \"https://www.youtube.com/watch?v=NvIcPAxZ39o\"\n",
      "[1] \"https://www.youtube.com/watch?v=64UH1_D95gQ\"\n",
      "[1] \"https://www.youtube.com/watch?v=WTf0XGpINJI\"\n",
      "[1] \"https://www.youtube.com/watch?v=sl8ooTIMk2w\"\n",
      "[1] \"https://www.youtube.com/watch?v=Aw6-aXMBseo\"\n",
      "[1] \"https://www.youtube.com/watch?v=I-_Uh-vZXgo\"\n",
      "[1] \"https://www.youtube.com/watch?v=r_kXSO9Cph0\"\n",
      "[1] \"https://www.youtube.com/watch?v=zE7wyUmsM0k\"\n",
      "[1] \"https://www.youtube.com/watch?v=Muyq2kMDFoA\"\n",
      "[1] \"https://www.youtube.com/watch?v=XJEYIR-Cai4\"\n",
      "[1] \"https://www.youtube.com/watch?v=rZh_CbcVe7M\"\n",
      "[1] \"https://www.youtube.com/watch?v=gtmJEt0w1k4\"\n",
      "[1] \"https://www.youtube.com/watch?v=be5DH6jQs38\"\n",
      "[1] \"https://www.youtube.com/watch?v=YyKVvAZSAug\"\n",
      "[1] \"https://www.youtube.com/watch?v=GzWUUZRli6s\"\n",
      "[1] \"https://www.youtube.com/watch?v=9_dE6Z2HK8I\"\n",
      "[1] \"https://www.youtube.com/watch?v=0gHYd67OumQ\"\n",
      "[1] \"https://www.youtube.com/watch?v=KUoD-gPDahw\"\n",
      "[1] \"https://www.youtube.com/watch?v=LgiYL1Ry2I8\"\n",
      "[1] \"https://www.youtube.com/watch?v=pvKBdrx4quA\"\n",
      "[1] \"https://www.youtube.com/watch?v=oftjwYmlfoA\"\n",
      "[1] \"https://www.youtube.com/watch?v=jaR5-kefxn4\"\n",
      "[1] \"https://www.youtube.com/watch?v=loimTUjV92Q\"\n",
      "[1] \"https://www.youtube.com/watch?v=DoM6IhfY8No\"\n",
      "[1] \"https://www.youtube.com/watch?v=AMP9fgyi41M\"\n",
      "[1] \"https://www.youtube.com/watch?v=kNxgxF-7SfA\"\n",
      "[1] \"https://www.youtube.com/watch?v=w_ZEGUX4YnI\"\n",
      "[1] \"https://www.youtube.com/watch?v=fObt1E6Ij_E\"\n",
      "[1] \"https://www.youtube.com/watch?v=hkSQ2Vr41bM\"\n",
      "[1] \"https://www.youtube.com/watch?v=pVxmT2x3Od4\"\n",
      "[1] \"https://www.youtube.com/watch?v=qIC90Vnc-OI\"\n",
      "[1] \"https://www.youtube.com/watch?v=JJn1vM7LB1Y\"\n",
      "[1] \"https://www.youtube.com/watch?v=B9j4Cw5dkBs\"\n",
      "[1] \"https://www.youtube.com/watch?v=puG0WOgAUfs\"\n",
      "[1] \"https://www.youtube.com/watch?v=nAJvHsVoLq0\"\n",
      "[1] \"https://www.youtube.com/watch?v=wBcijELzZi4\"\n",
      "[1] \"https://www.youtube.com/watch?v=qKKpRhFcKBk\"\n",
      "[1] \"https://www.youtube.com/watch?v=1ww1k7w4WQ8\"\n",
      "[1] \"https://www.youtube.com/watch?v=2JqRXLQYF9o\"\n",
      "[1] \"https://www.youtube.com/watch?v=3Tnm53uXIvg\"\n",
      "[1] \"https://www.youtube.com/watch?v=ZuBbnZ3UbJw\"\n",
      "[1] \"https://www.youtube.com/watch?v=mhEYXcCB1Qw\"\n",
      "[1] \"https://www.youtube.com/watch?v=nO-8ZY7p95o\"\n",
      "[1] \"https://www.youtube.com/watch?v=uO-E2T1hayU\"\n",
      "[1] \"https://www.youtube.com/watch?v=sMkGwCw7iv8\"\n",
      "[1] \"https://www.youtube.com/watch?v=5tso0er4EUI\"\n",
      "[1] \"https://www.youtube.com/watch?v=KwUUdl22mkA\"\n",
      "[1] \"https://www.youtube.com/watch?v=J89vbNUzhIE\"\n",
      "[1] \"https://www.youtube.com/watch?v=_cEQ5g6bzdM\"\n",
      "[1] \"https://www.youtube.com/watch?v=M3IV93HwSkc\"\n",
      "[1] \"https://www.youtube.com/watch?v=ucCvhK2CZMo\"\n",
      "[1] \"https://www.youtube.com/watch?v=1nmPv4M8Ps8\"\n",
      "[1] \"https://www.youtube.com/watch?v=1X_M47SQF6s\"\n",
      "[1] \"https://www.youtube.com/watch?v=Le_2S2db0Bk\"\n",
      "[1] \"https://www.youtube.com/watch?v=pmmsr7PAhWU\"\n",
      "[1] \"https://www.youtube.com/watch?v=7_EfXuGev24\"\n",
      "[1] \"https://www.youtube.com/watch?v=rBkPXt-OpA4\"\n",
      "[1] \"https://www.youtube.com/watch?v=HtBZvl7dIu4\"\n",
      "[1] \"\"\n",
      "[1] \"https://www.youtube.com/watch?v=icV7fGqPZ2I\"\n",
      "[1] \"https://www.youtube.com/watch?v=YQo0TfuueaY\"\n",
      "[1] \"https://www.youtube.com/watch?v=5uLJitPWAXM\"\n",
      "[1] \"https://www.youtube.com/watch?v=9KqekigARfE\"\n",
      "[1] \"https://www.youtube.com/watch?v=KpN6fxOorwE\"\n",
      "[1] \"https://www.youtube.com/watch?v=Qr3GJqccGi4\"\n",
      "[1] \"https://www.youtube.com/watch?v=odpagg0jV6I\"\n",
      "[1] \"https://www.youtube.com/watch?v=jvm68nEAU7o\"\n",
      "[1] \"https://www.youtube.com/watch?v=2IhJl7mBtls\"\n",
      "[1] \"https://www.youtube.com/watch?v=e0ez2t6oRWY\"\n",
      "[1] \"https://www.youtube.com/watch?v=wegrVsP3gK4\"\n",
      "[1] \"https://www.youtube.com/watch?v=L1fL0ZHX2t0\"\n",
      "[1] \"\"\n",
      "[1] \"https://www.youtube.com/watch?v=bcV8WN1YIL4\"\n",
      "[1] \"https://www.youtube.com/watch?v=WTqL_giKNHQ\"\n",
      "[1] \"https://www.youtube.com/watch?v=UxQKSCpOIOI\"\n",
      "[1] \"https://www.youtube.com/watch?v=5ofcQl6gWeE\"\n",
      "[1] \"https://www.youtube.com/watch?v=nayeYTmEdYw\"\n",
      "[1] \"https://www.youtube.com/watch?v=XxfxB0O9Uuk\"\n",
      "[1] \"https://www.youtube.com/watch?v=kH50-giCeDM\"\n",
      "[1] \"https://www.youtube.com/watch?v=PsKJUnGEGSs\"\n",
      "[1] \"https://www.youtube.com/watch?v=6cMHr8goUgU\"\n",
      "[1] \"https://www.youtube.com/watch?v=vUwROngDC88\"\n",
      "[1] \"https://www.youtube.com/watch?v=GNVw5f16GEM\"\n",
      "[1] \"https://www.youtube.com/watch?v=UizTtcBsNi8\"\n",
      "[1] \"https://www.youtube.com/watch?v=yQ_nU0_R7PE\"\n",
      "[1] \"https://www.youtube.com/watch?v=LnU2T2P1oxA\"\n",
      "[1] \"https://www.youtube.com/watch?v=4WeAvfP1ikU\"\n",
      "[1] \"https://www.youtube.com/watch?v=PnOW5qj_R6A\"\n",
      "[1] \"https://www.youtube.com/watch?v=Kwke0LNardc\"\n",
      "[1] \"\"\n",
      "[1] \"\"\n",
      "[1] \"https://www.youtube.com/watch?v=b01P9PaaoLk\"\n",
      "[1] \"https://www.youtube.com/watch?v=LEVQAU_LITI\"\n",
      "[1] \"https://www.youtube.com/watch?v=FTNMYoKHwvU\"\n",
      "[1] \"https://www.youtube.com/watch?v=2jMWybAKjWw\"\n",
      "[1] \"https://www.youtube.com/watch?v=7HMTkEMdqBQ\"\n",
      "[1] \"https://www.youtube.com/watch?v=WX8Du9pusdA\"\n",
      "[1] \"https://www.youtube.com/watch?v=zx4SnN9HuRw\"\n",
      "[1] \"https://www.youtube.com/watch?v=leptS7k6sLE\"\n",
      "[1] \"https://www.youtube.com/watch?v=1A6frF5zfDE\"\n",
      "[1] \"https://www.youtube.com/watch?v=Y9wyIID8Khs\"\n",
      "[1] \"\"\n",
      "[1] \"https://www.youtube.com/watch?v=Y-P0Hs0ADJY\"\n",
      "[1] \"https://www.youtube.com/watch?v=aEWtTVaIH0M\"\n",
      "[1] \"https://www.youtube.com/watch?v=3rZs8ZKTsp0\"\n",
      "[1] \"https://www.youtube.com/watch?v=kMmd0WaQFGE\"\n",
      "[1] \"https://www.youtube.com/watch?v=oYdJKey7VpU\"\n",
      "[1] \"https://www.youtube.com/watch?v=Qh_gOK6xDNA\"\n",
      "[1] \"https://www.youtube.com/watch?v=ZBD4dYTpYAU\"\n",
      "[1] \"https://www.youtube.com/watch?v=oJvsWvaTr4w\"\n",
      "[1] \"https://www.youtube.com/watch?v=F0nhq4GO90s\"\n",
      "[1] \"https://www.youtube.com/watch?v=AhqPl1IKVo4\"\n",
      "[1] \"https://www.youtube.com/watch?v=jhvAXT9R_3U\"\n",
      "[1] \"https://www.youtube.com/watch?v=NOOmu1Rz17Y\"\n",
      "[1] \"https://www.youtube.com/watch?v=UBaZDWIs3fs\"\n",
      "[1] \"https://www.youtube.com/watch?v=9RI6OGXq11Y\"\n",
      "[1] \"https://www.youtube.com/watch?v=CPr4-P19NtE\"\n",
      "[1] \"\"\n",
      "[1] \"https://www.youtube.com/watch?v=KqAWv2wCW8I\"\n",
      "[1] \"https://www.youtube.com/watch?v=qbS0gF3YdBg\"\n",
      "[1] \"https://www.youtube.com/watch?v=cOEMI8HRhlA\"\n",
      "[1] \"https://www.youtube.com/watch?v=KLkQ9c9-QFI\"\n",
      "[1] \"https://www.youtube.com/watch?v=67dRRrRz2t8\"\n",
      "[1] \"https://www.youtube.com/watch?v=NwZpO6saPxI\"\n",
      "[1] \"https://www.youtube.com/watch?v=esOPYOeotTU\"\n",
      "[1] \"https://www.youtube.com/watch?v=w_2k5LMeduc\"\n",
      "[1] \"https://www.youtube.com/watch?v=bDhjcP02GQg\"\n",
      "[1] \"https://www.youtube.com/watch?v=7DZao4kN73M\"\n",
      "[1] \"https://www.youtube.com/watch?v=XKFUcEkIbEg\"\n",
      "[1] \"https://www.youtube.com/watch?v=WIzKwJmYLNs\"\n",
      "[1] \"https://www.youtube.com/watch?v=ONZFkqzuMjI\"\n",
      "[1] \"https://www.youtube.com/watch?v=xza7T89Lda4\"\n",
      "[1] \"\"\n",
      "[1] \"https://www.youtube.com/watch?v=7q2yVq6fDEg\"\n",
      "[1] \"https://www.youtube.com/watch?v=h8qgk5tXuUA\"\n",
      "[1] \"https://www.youtube.com/watch?v=x1nttVdja9s\"\n",
      "[1] \"https://www.youtube.com/watch?v=32d5c_IW2Xc\"\n",
      "[1] \"https://www.youtube.com/watch?v=2_LWZe2BGaE\"\n",
      "[1] \"\"\n",
      "[1] \"https://www.youtube.com/watch?v=sS8dkRhDirY\"\n",
      "[1] \"https://www.youtube.com/watch?v=-LwSb4cCAnw\"\n",
      "[1] \"https://www.youtube.com/watch?v=k5vbGQb7jR0\"\n",
      "[1] \"https://www.youtube.com/watch?v=AKKM8sP24BE\"\n",
      "[1] \"https://www.youtube.com/watch?v=eIlX0Gg0GRI\"\n",
      "[1] \"https://www.youtube.com/watch?v=-BVMOKtawUk\"\n",
      "[1] \"https://www.youtube.com/watch?v=Ao0x4zsb724\"\n",
      "[1] \"https://www.youtube.com/watch?v=ecqiZn2DDFQ\"\n",
      "[1] \"https://www.youtube.com/watch?v=tbLTl7egwlU\"\n",
      "[1] \"https://www.youtube.com/watch?v=2WNvlXoDs7w\"\n",
      "[1] \"https://www.youtube.com/watch?v=MwfL-DkL1Vg\"\n",
      "[1] \"https://www.youtube.com/watch?v=nkGd47iB-wU\"\n",
      "[1] \"https://www.youtube.com/watch?v=DTvxyDwP2CA\"\n",
      "[1] \"https://www.youtube.com/watch?v=r4eyQBvcBUA\"\n",
      "[1] \"https://www.youtube.com/watch?v=Qx5-AZlfjp4\"\n",
      "[1] \"https://www.youtube.com/watch?v=to4dhysGYD0\"\n",
      "[1] \"https://www.youtube.com/watch?v=-ACk9mRky5k\"\n",
      "[1] \"https://www.youtube.com/watch?v=yhPBzlB6VJI\"\n",
      "[1] \"https://www.youtube.com/watch?v=D4BC8zUfNhU\"\n",
      "[1] \"https://www.youtube.com/watch?v=TieDNumMwOc\"\n",
      "[1] \"https://www.youtube.com/watch?v=j7QA9oHpduk\"\n",
      "[1] \"https://www.youtube.com/watch?v=670X2MCWzK0\"\n",
      "[1] \"https://www.youtube.com/watch?v=YnGpb8lbPOI\"\n",
      "[1] \"https://www.youtube.com/watch?v=nONhop0Kq-E\"\n",
      "[1] \"\"\n",
      "[1] \"https://www.youtube.com/watch?v=tVrE5-eiSNA\"\n",
      "[1] \"https://www.youtube.com/watch?v=RuIXFuwLb2s\"\n",
      "[1] \"https://www.youtube.com/watch?v=QwF3ipuNyfc\"\n",
      "[1] \"https://www.youtube.com/watch?v=hM79LTkT7ek\"\n",
      "[1] \"https://www.youtube.com/watch?v=eJucRz8kYo0\"\n",
      "[1] \"https://www.youtube.com/watch?v=IQHlA9qKJv4\"\n",
      "[1] \"https://www.youtube.com/watch?v=BKexURCYxtk\"\n",
      "[1] \"https://www.youtube.com/watch?v=SK1i1iyE7RA\"\n",
      "[1] \"https://www.youtube.com/watch?v=q05QIp5qbnY\"\n",
      "[1] \"https://www.youtube.com/watch?v=S2nBBMbjS8w\"\n",
      "[1] \"https://www.youtube.com/watch?v=nScg3KmA_6k\"\n",
      "[1] \"https://www.youtube.com/watch?v=D81uh6I-2Q4\"\n",
      "[1] \"https://www.youtube.com/watch?v=CyK63f0I1P0\"\n",
      "[1] \"https://www.youtube.com/watch?v=sx0i7WgBOvs\"\n",
      "[1] \"https://www.youtube.com/watch?v=d8f-PiELHls\"\n",
      "[1] \"https://www.youtube.com/watch?v=IUU_ygKs3jA\"\n",
      "[1] \"https://www.youtube.com/watch?v=3LPLXuHlOCI\"\n",
      "[1] \"https://www.youtube.com/watch?v=Fdz0Q0GiEcc\"\n",
      "[1] \"https://www.youtube.com/watch?v=Zb3fhsfs6ZU\"\n",
      "[1] \"https://www.youtube.com/watch?v=_l1nWWiut0I\"\n",
      "[1] \"https://www.youtube.com/watch?v=eXfNnSOOoVc\"\n",
      "[1] \"https://www.youtube.com/watch?v=Q5Hu_FBUIsk\"\n",
      "[1] \"https://www.youtube.com/watch?v=osn2rzClKh0\"\n",
      "[1] \"https://www.youtube.com/watch?v=bHY2miRSwh4\"\n",
      "[1] \"https://www.youtube.com/watch?v=otCxSnu_HXA\"\n",
      "[1] \"https://www.youtube.com/watch?v=8fhOItB0zUM\"\n",
      "[1] \"https://www.youtube.com/watch?v=gWqR28uRxXw\"\n",
      "[1] \"https://www.youtube.com/watch?v=R67qcUIbFhs\"\n",
      "[1] \"https://www.youtube.com/watch?v=PlqWRADszb0\"\n",
      "[1] \"https://www.youtube.com/watch?v=WAySopBmbtI\"\n",
      "[1] \"https://www.youtube.com/watch?v=zM4rU4jit5k\"\n",
      "[1] \"https://www.youtube.com/watch?v=lzQ2NeqjYS0\"\n",
      "[1] \"https://www.youtube.com/watch?v=gUGGepL5gGU\"\n",
      "[1] \"https://www.youtube.com/watch?v=dnHEqQGl0yA\"\n",
      "[1] \"https://www.youtube.com/watch?v=1AeG8tCzTGw\"\n",
      "[1] \"https://www.youtube.com/watch?v=Bs0Iwwl-5Lk\"\n",
      "[1] \"https://www.youtube.com/watch?v=6SWNLDdnz0A\"\n",
      "[1] \"https://www.youtube.com/watch?v=TG4giyL-4Sk\"\n",
      "[1] \"https://www.youtube.com/watch?v=OfLLLnAngZI\"\n",
      "[1] \"https://www.youtube.com/watch?v=JJmqCKtJnxM\"\n",
      "[1] \"https://www.youtube.com/watch?v=h-HHbtwX5vY\"\n",
      "[1] \"https://www.youtube.com/watch?v=mOatp4Xi7IU\"\n",
      "[1] \"https://www.youtube.com/watch?v=9u4--TxE2gI\"\n",
      "[1] \"https://www.youtube.com/watch?v=GgXsLHifz9k\"\n",
      "[1] \"https://www.youtube.com/watch?v=xbrvsJZSxok\"\n",
      "[1] \"https://www.youtube.com/watch?v=MNRAdrB9TSs\"\n",
      "[1] \"https://www.youtube.com/watch?v=-axbiEJiRGw\"\n",
      "[1] \"https://www.youtube.com/watch?v=nIcFZzdXSrU\"\n",
      "[1] \"\"\n",
      "[1] \"https://www.youtube.com/watch?v=6h7wifUL8mk\"\n",
      "[1] \"\"\n",
      "[1] \"https://www.youtube.com/watch?v=_GeiOdHsW_8\"\n",
      "[1] \"https://www.youtube.com/watch?v=pldGc0Cpf84\"\n",
      "[1] \"https://www.youtube.com/watch?v=39BL7iqe6pQ\"\n",
      "[1] \"https://www.youtube.com/watch?v=H9YdunAo3Ug\"\n"
     ]
    }
   ],
   "source": [
    "if (Dev_Checks){\n",
    "    for (url in raw$youtube_url) {\n",
    "        print(url)\n",
    "    }\n",
    "}"
   ]
  },
  {
   "cell_type": "code",
   "execution_count": 21,
   "id": "a6e97d85",
   "metadata": {},
   "outputs": [],
   "source": [
    "c_dat =  select(raw, -youtube_url, -superbowl_ads_dot_com_url)"
   ]
  },
  {
   "cell_type": "code",
   "execution_count": 22,
   "id": "eb6a2750",
   "metadata": {},
   "outputs": [
    {
     "data": {
      "text/html": [
       "<table>\n",
       "<thead><tr><th scope=col>year</th><th scope=col>brand</th><th scope=col>funny</th><th scope=col>show_product_quickly</th><th scope=col>patriotic</th><th scope=col>celebrity</th><th scope=col>danger</th><th scope=col>animals</th><th scope=col>use_sex</th></tr></thead>\n",
       "<tbody>\n",
       "\t<tr><td>2018     </td><td>Toyota   </td><td>False    </td><td>False    </td><td>False    </td><td>False    </td><td>False    </td><td>False    </td><td>False    </td></tr>\n",
       "\t<tr><td>2020     </td><td>Bud Light</td><td>True     </td><td>True     </td><td>False    </td><td>True     </td><td>True     </td><td>False    </td><td>False    </td></tr>\n",
       "\t<tr><td>2006     </td><td>Bud Light</td><td>True     </td><td>False    </td><td>False    </td><td>False    </td><td>True     </td><td>True     </td><td>False    </td></tr>\n",
       "\t<tr><td>2018     </td><td>Hynudai  </td><td>False    </td><td>True     </td><td>False    </td><td>False    </td><td>False    </td><td>False    </td><td>False    </td></tr>\n",
       "\t<tr><td>2003     </td><td>Bud Light</td><td>True     </td><td>True     </td><td>False    </td><td>False    </td><td>True     </td><td>True     </td><td>True     </td></tr>\n",
       "\t<tr><td>2020     </td><td>Toyota   </td><td>True     </td><td>True     </td><td>False    </td><td>True     </td><td>True     </td><td>True     </td><td>False    </td></tr>\n",
       "</tbody>\n",
       "</table>\n"
      ],
      "text/latex": [
       "\\begin{tabular}{r|lllllllll}\n",
       " year & brand & funny & show\\_product\\_quickly & patriotic & celebrity & danger & animals & use\\_sex\\\\\n",
       "\\hline\n",
       "\t 2018      & Toyota    & False     & False     & False     & False     & False     & False     & False    \\\\\n",
       "\t 2020      & Bud Light & True      & True      & False     & True      & True      & False     & False    \\\\\n",
       "\t 2006      & Bud Light & True      & False     & False     & False     & True      & True      & False    \\\\\n",
       "\t 2018      & Hynudai   & False     & True      & False     & False     & False     & False     & False    \\\\\n",
       "\t 2003      & Bud Light & True      & True      & False     & False     & True      & True      & True     \\\\\n",
       "\t 2020      & Toyota    & True      & True      & False     & True      & True      & True      & False    \\\\\n",
       "\\end{tabular}\n"
      ],
      "text/markdown": [
       "\n",
       "| year | brand | funny | show_product_quickly | patriotic | celebrity | danger | animals | use_sex |\n",
       "|---|---|---|---|---|---|---|---|---|\n",
       "| 2018      | Toyota    | False     | False     | False     | False     | False     | False     | False     |\n",
       "| 2020      | Bud Light | True      | True      | False     | True      | True      | False     | False     |\n",
       "| 2006      | Bud Light | True      | False     | False     | False     | True      | True      | False     |\n",
       "| 2018      | Hynudai   | False     | True      | False     | False     | False     | False     | False     |\n",
       "| 2003      | Bud Light | True      | True      | False     | False     | True      | True      | True      |\n",
       "| 2020      | Toyota    | True      | True      | False     | True      | True      | True      | False     |\n",
       "\n"
      ],
      "text/plain": [
       "  year brand     funny show_product_quickly patriotic celebrity danger animals\n",
       "1 2018 Toyota    False False                False     False     False  False  \n",
       "2 2020 Bud Light True  True                 False     True      True   False  \n",
       "3 2006 Bud Light True  False                False     False     True   True   \n",
       "4 2018 Hynudai   False True                 False     False     False  False  \n",
       "5 2003 Bud Light True  True                 False     False     True   True   \n",
       "6 2020 Toyota    True  True                 False     True      True   True   \n",
       "  use_sex\n",
       "1 False  \n",
       "2 False  \n",
       "3 False  \n",
       "4 False  \n",
       "5 True   \n",
       "6 False  "
      ]
     },
     "metadata": {},
     "output_type": "display_data"
    }
   ],
   "source": [
    "head(c_dat)"
   ]
  },
  {
   "cell_type": "code",
   "execution_count": 24,
   "id": "108ffe55",
   "metadata": {},
   "outputs": [
    {
     "data": {
      "text/html": [
       "<table>\n",
       "<thead><tr><th></th><th scope=col>brand</th></tr></thead>\n",
       "<tbody>\n",
       "\t<tr><th scope=row>1</th><td>Toyota   </td></tr>\n",
       "\t<tr><th scope=row>2</th><td>Bud Light</td></tr>\n",
       "\t<tr><th scope=row>4</th><td>Hynudai  </td></tr>\n",
       "\t<tr><th scope=row>7</th><td>Coca-Cola</td></tr>\n",
       "\t<tr><th scope=row>8</th><td>Kia      </td></tr>\n",
       "\t<tr><th scope=row>10</th><td>Budweiser</td></tr>\n",
       "\t<tr><th scope=row>15</th><td>NFL      </td></tr>\n",
       "\t<tr><th scope=row>18</th><td>Pepsi    </td></tr>\n",
       "\t<tr><th scope=row>20</th><td>Doritos  </td></tr>\n",
       "\t<tr><th scope=row>34</th><td>E-Trade  </td></tr>\n",
       "</tbody>\n",
       "</table>\n"
      ],
      "text/latex": [
       "\\begin{tabular}{r|l}\n",
       "  & brand\\\\\n",
       "\\hline\n",
       "\t1 & Toyota   \\\\\n",
       "\t2 & Bud Light\\\\\n",
       "\t4 & Hynudai  \\\\\n",
       "\t7 & Coca-Cola\\\\\n",
       "\t8 & Kia      \\\\\n",
       "\t10 & Budweiser\\\\\n",
       "\t15 & NFL      \\\\\n",
       "\t18 & Pepsi    \\\\\n",
       "\t20 & Doritos  \\\\\n",
       "\t34 & E-Trade  \\\\\n",
       "\\end{tabular}\n"
      ],
      "text/markdown": [
       "\n",
       "| <!--/--> | brand |\n",
       "|---|---|\n",
       "| 1 | Toyota    |\n",
       "| 2 | Bud Light |\n",
       "| 4 | Hynudai   |\n",
       "| 7 | Coca-Cola |\n",
       "| 8 | Kia       |\n",
       "| 10 | Budweiser |\n",
       "| 15 | NFL       |\n",
       "| 18 | Pepsi     |\n",
       "| 20 | Doritos   |\n",
       "| 34 | E-Trade   |\n",
       "\n"
      ],
      "text/plain": [
       "   brand    \n",
       "1  Toyota   \n",
       "2  Bud Light\n",
       "4  Hynudai  \n",
       "7  Coca-Cola\n",
       "8  Kia      \n",
       "10 Budweiser\n",
       "15 NFL      \n",
       "18 Pepsi    \n",
       "20 Doritos  \n",
       "34 E-Trade  "
      ]
     },
     "metadata": {},
     "output_type": "display_data"
    }
   ],
   "source": [
    "unique(c_dat['brand'])"
   ]
  },
  {
   "cell_type": "code",
   "execution_count": 26,
   "id": "f6186336",
   "metadata": {},
   "outputs": [
    {
     "name": "stderr",
     "output_type": "stream",
     "text": [
      "also installing the dependencies 'bitops', 'semver', 'XML', 'caTools', 'wdman', 'binman'\n",
      "\n"
     ]
    },
    {
     "name": "stdout",
     "output_type": "stream",
     "text": [
      "package 'bitops' successfully unpacked and MD5 sums checked\n",
      "package 'semver' successfully unpacked and MD5 sums checked\n",
      "package 'XML' successfully unpacked and MD5 sums checked\n",
      "package 'caTools' successfully unpacked and MD5 sums checked\n",
      "package 'wdman' successfully unpacked and MD5 sums checked\n",
      "package 'binman' successfully unpacked and MD5 sums checked\n",
      "package 'RSelenium' successfully unpacked and MD5 sums checked\n",
      "\n",
      "The downloaded binary packages are in\n",
      "\tC:\\Users\\Aman\\AppData\\Local\\Temp\\RtmpOi363W\\downloaded_packages\n"
     ]
    }
   ],
   "source": [
    "install.packages(\"RSelenium\")"
   ]
  },
  {
   "cell_type": "code",
   "execution_count": 29,
   "id": "0cf1ddc6",
   "metadata": {},
   "outputs": [],
   "source": [
    "library('RSelenium')\n"
   ]
  },
  {
   "cell_type": "code",
   "execution_count": null,
   "id": "0eb2e86c",
   "metadata": {},
   "outputs": [],
   "source": []
  }
 ],
 "metadata": {
  "kernelspec": {
   "display_name": "R",
   "language": "R",
   "name": "ir"
  },
  "language_info": {
   "codemirror_mode": "r",
   "file_extension": ".r",
   "mimetype": "text/x-r-source",
   "name": "R",
   "pygments_lexer": "r",
   "version": "3.6.1"
  }
 },
 "nbformat": 4,
 "nbformat_minor": 5
}
